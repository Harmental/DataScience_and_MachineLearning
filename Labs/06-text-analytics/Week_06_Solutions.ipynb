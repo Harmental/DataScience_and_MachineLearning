{
  "cells": [
    {
      "cell_type": "markdown",
      "metadata": {
        "id": "rg25MkDgcADy"
      },
      "source": [
        "<a href=\"https://colab.research.google.com/github/michalis0/DataScience_and_MachineLearning/blob/master/06-text-analytics/Week_06_Solutions.ipynb\" target=\"_parent\"><img src=\"https://colab.research.google.com/assets/colab-badge.svg\" alt=\"Open In Colab\"/></a>"
      ]
    },
    {
      "cell_type": "code",
      "execution_count": 2,
      "metadata": {
        "colab": {
          "base_uri": "https://localhost:8080/"
        },
        "id": "2XwVXjSMR15K",
        "outputId": "93dfb79a-2b62-45fb-b048-dfc6b40e7d30"
      },
      "outputs": [
        {
          "name": "stdout",
          "output_type": "stream",
          "text": [
            "Requirement already satisfied: wikipedia in /opt/homebrew/lib/python3.11/site-packages (1.4.0)\n",
            "Requirement already satisfied: beautifulsoup4 in /opt/homebrew/lib/python3.11/site-packages (from wikipedia) (4.12.2)\n",
            "Requirement already satisfied: requests<3.0.0,>=2.0.0 in /opt/homebrew/lib/python3.11/site-packages (from wikipedia) (2.32.3)\n",
            "Requirement already satisfied: charset-normalizer<4,>=2 in /opt/homebrew/lib/python3.11/site-packages (from requests<3.0.0,>=2.0.0->wikipedia) (3.3.2)\n",
            "Requirement already satisfied: idna<4,>=2.5 in /opt/homebrew/lib/python3.11/site-packages (from requests<3.0.0,>=2.0.0->wikipedia) (3.4)\n",
            "Requirement already satisfied: urllib3<3,>=1.21.1 in /opt/homebrew/lib/python3.11/site-packages (from requests<3.0.0,>=2.0.0->wikipedia) (1.26.18)\n",
            "Requirement already satisfied: certifi>=2017.4.17 in /opt/homebrew/lib/python3.11/site-packages (from requests<3.0.0,>=2.0.0->wikipedia) (2023.7.22)\n",
            "Requirement already satisfied: soupsieve>1.2 in /opt/homebrew/lib/python3.11/site-packages (from beautifulsoup4->wikipedia) (2.5)\n",
            "Requirement already satisfied: ipywidgets in /opt/homebrew/lib/python3.11/site-packages (8.1.5)\n",
            "Requirement already satisfied: comm>=0.1.3 in /Users/dimitriroulin/Library/Python/3.11/lib/python/site-packages (from ipywidgets) (0.2.0)\n",
            "Requirement already satisfied: ipython>=6.1.0 in /Users/dimitriroulin/Library/Python/3.11/lib/python/site-packages (from ipywidgets) (8.17.2)\n",
            "Requirement already satisfied: traitlets>=4.3.1 in /Users/dimitriroulin/Library/Python/3.11/lib/python/site-packages (from ipywidgets) (5.13.0)\n",
            "Requirement already satisfied: widgetsnbextension~=4.0.12 in /opt/homebrew/lib/python3.11/site-packages (from ipywidgets) (4.0.13)\n",
            "Requirement already satisfied: jupyterlab-widgets~=3.0.12 in /opt/homebrew/lib/python3.11/site-packages (from ipywidgets) (3.0.13)\n",
            "Requirement already satisfied: decorator in /Users/dimitriroulin/Library/Python/3.11/lib/python/site-packages (from ipython>=6.1.0->ipywidgets) (5.1.1)\n",
            "Requirement already satisfied: jedi>=0.16 in /Users/dimitriroulin/Library/Python/3.11/lib/python/site-packages (from ipython>=6.1.0->ipywidgets) (0.19.1)\n",
            "Requirement already satisfied: matplotlib-inline in /Users/dimitriroulin/Library/Python/3.11/lib/python/site-packages (from ipython>=6.1.0->ipywidgets) (0.1.6)\n",
            "Requirement already satisfied: prompt-toolkit!=3.0.37,<3.1.0,>=3.0.30 in /Users/dimitriroulin/Library/Python/3.11/lib/python/site-packages (from ipython>=6.1.0->ipywidgets) (3.0.41)\n",
            "Requirement already satisfied: pygments>=2.4.0 in /opt/homebrew/lib/python3.11/site-packages (from ipython>=6.1.0->ipywidgets) (2.16.1)\n",
            "Requirement already satisfied: stack-data in /Users/dimitriroulin/Library/Python/3.11/lib/python/site-packages (from ipython>=6.1.0->ipywidgets) (0.6.3)\n",
            "Requirement already satisfied: pexpect>4.3 in /Users/dimitriroulin/Library/Python/3.11/lib/python/site-packages (from ipython>=6.1.0->ipywidgets) (4.8.0)\n",
            "Requirement already satisfied: appnope in /Users/dimitriroulin/Library/Python/3.11/lib/python/site-packages (from ipython>=6.1.0->ipywidgets) (0.1.3)\n",
            "Requirement already satisfied: parso<0.9.0,>=0.8.3 in /Users/dimitriroulin/Library/Python/3.11/lib/python/site-packages (from jedi>=0.16->ipython>=6.1.0->ipywidgets) (0.8.3)\n",
            "Requirement already satisfied: ptyprocess>=0.5 in /Users/dimitriroulin/Library/Python/3.11/lib/python/site-packages (from pexpect>4.3->ipython>=6.1.0->ipywidgets) (0.7.0)\n",
            "Requirement already satisfied: wcwidth in /Users/dimitriroulin/Library/Python/3.11/lib/python/site-packages (from prompt-toolkit!=3.0.37,<3.1.0,>=3.0.30->ipython>=6.1.0->ipywidgets) (0.2.10)\n",
            "Requirement already satisfied: executing>=1.2.0 in /Users/dimitriroulin/Library/Python/3.11/lib/python/site-packages (from stack-data->ipython>=6.1.0->ipywidgets) (2.0.1)\n",
            "Requirement already satisfied: asttokens>=2.1.0 in /Users/dimitriroulin/Library/Python/3.11/lib/python/site-packages (from stack-data->ipython>=6.1.0->ipywidgets) (2.4.1)\n",
            "Requirement already satisfied: pure-eval in /Users/dimitriroulin/Library/Python/3.11/lib/python/site-packages (from stack-data->ipython>=6.1.0->ipywidgets) (0.2.2)\n",
            "Requirement already satisfied: six>=1.12.0 in /opt/homebrew/lib/python3.11/site-packages (from asttokens>=2.1.0->stack-data->ipython>=6.1.0->ipywidgets) (1.16.0)\n",
            "Note: you may need to restart the kernel to use updated packages.\n"
          ]
        }
      ],
      "source": [
        "!pip install wikipedia\n",
        "!pip install -q transformers\n",
        "%pip install ipywidgets"
      ]
    },
    {
      "cell_type": "code",
      "execution_count": 3,
      "metadata": {
        "id": "1NCfM18ZRl8L"
      },
      "outputs": [],
      "source": [
        "# Import standard libraries\n",
        "import pandas as pd\n",
        "import numpy as np\n",
        "import math\n",
        "import bs4 as bs\n",
        "import urllib.request\n",
        "import matplotlib.pyplot as plt\n",
        "import seaborn as sns\n",
        "import ipywidgets as widgets\n",
        "from ipywidgets import interact, interact_manual\n",
        "\n",
        "# Import for text analytics\n",
        "import spacy\n",
        "from spacy import displacy\n",
        "from sklearn.feature_extraction.text import CountVectorizer, TfidfVectorizer\n",
        "from sklearn.metrics.pairwise import cosine_similarity\n",
        "import string\n",
        "import wikipedia\n",
        "import gensim\n",
        "from gensim.models import Word2Vec\n",
        "from gensim.models import Doc2Vec\n",
        "from gensim.models.doc2vec import TaggedDocument\n",
        "from gensim.utils import simple_preprocess\n",
        "from gensim import corpora\n",
        "import multiprocessing\n",
        "\n",
        "# Import libraries for logistic regression\n",
        "from sklearn.linear_model import LogisticRegression\n",
        "from sklearn.model_selection import train_test_split\n",
        "from sklearn.pipeline import Pipeline\n",
        "from sklearn.metrics import confusion_matrix, accuracy_score\n",
        "\n",
        "# Import libraries for hugginface\n",
        "from transformers import pipeline\n",
        "import gensim.downloader"
      ]
    },
    {
      "cell_type": "markdown",
      "metadata": {
        "id": "g5WgfVqRRl8N"
      },
      "source": [
        "# Text Analytics\n",
        "\n",
        "<img src='https://images.unsplash.com/photo-1605429201125-37e867327609?ixlib=rb-4.0.3&ixid=MnwxMjA3fDB8MHxwaG90by1wYWdlfHx8fGVufDB8fHx8&auto=format&fit=crop&w=1176&q=80' width=\"450\">\n",
        "\n",
        "Credit: [Piotr Łaskawski](https://unsplash.com/@tot87)"
      ]
    },
    {
      "cell_type": "markdown",
      "metadata": {
        "id": "onO46LysT2dh"
      },
      "source": [
        "## Content\n",
        "\n",
        "The goal of this walkthrough is to provide you with insights on text analytics. [Text Analytics](https://en.wikipedia.org/wiki/Text_mining) (or text mining) is \"the discovery by computer of new, previously unknown information, by automatically extracting information from different written resources.\" ([Marti Hearst](https://people.ischool.berkeley.edu/~hearst/text-mining.html)). Written resources may include websites, books, emails, reviews, and articles.\n",
        "\n",
        "There are many applications of text analytics, for example:\n",
        "- Search for relevant websites or articles using a search engine;\n",
        "- Sentiment Analysis (e.g., classify tweets or film reviews as positive, neutral or negative);\n",
        "- Summarize, anonymize, or translate documents;\n",
        "- Chatbots (e.g., ChatGPT, Siri, Alexa);\n",
        "- etc.\n",
        "\n",
        "In this notebook, we will see how to prepare and represent texts and explore various text-analytics techniques, before doing an application on text similarity:\n",
        "- [Text Preparation](#Text-Preparation)\n",
        "    - [Tokenization](#Tokenization)\n",
        "    - [Remove Stopwords](#Remove-Stopwords)\n",
        "    - [Lemmatization](#Lemmatization)\n",
        "    - [Your turn!](#Your-turn-Preparation)\n",
        "- [Text Representation](#Text-Representation)\n",
        "    - [Bag of Words (BOW)](#Bag-of-Words-(BOW))\n",
        "    - [TF-IDF Representation](#TF-IDF-Representation)\n",
        "    - [Your turn!](#Your-turn-Representation)\n",
        "- [Introduction to Gensim and Word Embedding](#Introduction-to-Gensim-and-Word-Embedding)\n",
        "    - [Background](#Background)\n",
        "    - [Implementing Word2vec with Gensim](#Implementing-Word2vec-with-Gensim)\n",
        "    - [Using pretrained models](#Using-pretrained-models)\n",
        "    - [Your turn](#Your-turn)\n",
        "- [Application: Text Classification with TF-IDF](#Application:-Text-Classification-with-TF-IDF)\n",
        "    - [Load and clean data](#Load-and-clean-data)\n",
        "    - [Exploratory Data Analysis](#Exploratory-Data-Analysis)\n",
        "    - [Classification using TF-IDF and Logistic Regression](#Classification-using-TF-IDF-and-Logistic-Regression)\n",
        "- [Introduction to Hugginface and sentiment analysis](#Introduction-to-Hugginface-and-sentiment-analysis)\n",
        "    - [Implementation of Hugginface](#Implementation-of-Hugginface)\n",
        "    - [Your turn !](#Your-turn-!)"
      ]
    },
    {
      "cell_type": "markdown",
      "metadata": {
        "id": "RXlVy05IUC-D"
      },
      "source": [
        "## Text Preparation\n",
        "\n",
        "In this section, we explain how to prepare a text for analysis. This includes tokenizing the text, removing stopwords, etc.\n",
        "\n",
        "We will use the [spaCy](https://spacy.io/) library, an open-source natural language processing library for Python. It is designed particularly for production use, and it can help us to build applications that process massive volumes of text efficiently.\n",
        "\n",
        "You can directly [install the library](https://spacy.io/usage) in your Anaconda environment, or, if you opened this notebook in Colab, with the following line of code:\n",
        "```python\n",
        "!pip install -U spacy\n",
        "```\n",
        "\n",
        "We also install the English-language model: in you Anaconda environment install \"spacy-model-en_core_web_sm\"; in Colab, run the following line of code:\n",
        "```python\n",
        "!python -m spacy download en_core_web_sm\n",
        "```\n",
        "\n",
        "Note: If you obtain the error `Caused by SSLError(SSLCertVerificationError(1, '[SSL: CERTIFICATE_VERIFY_FAILED] certificate verify failed\"`, try the following:\n",
        "```python\n",
        "!pip --trusted-host github.com --trusted-host objects.githubusercontent.com install https://github.com/explosion/spacy-models/releases/download/en_core_web_sm-3.5.0/en_core_web_sm-3.5.0.tar.gz\n",
        "```"
      ]
    },
    {
      "cell_type": "code",
      "execution_count": 4,
      "metadata": {},
      "outputs": [
        {
          "name": "stdout",
          "output_type": "stream",
          "text": [
            "Collecting https://github.com/explosion/spacy-models/releases/download/en_core_web_sm-3.5.0/en_core_web_sm-3.5.0.tar.gz\n",
            "  Downloading https://github.com/explosion/spacy-models/releases/download/en_core_web_sm-3.5.0/en_core_web_sm-3.5.0.tar.gz (12.8 MB)\n",
            "\u001b[2K     \u001b[38;2;114;156;31m━━━━━━━━━━━━━━━━━━━━━━━━━━━━━━━━━━━━━━━━\u001b[0m \u001b[32m12.8/12.8 MB\u001b[0m \u001b[31m70.9 MB/s\u001b[0m eta \u001b[36m0:00:00\u001b[0m[36m0:00:01\u001b[0m\n",
            "\u001b[?25h  Preparing metadata (setup.py) ... \u001b[?25ldone\n",
            "\u001b[?25hRequirement already satisfied: spacy<3.6.0,>=3.5.0 in /opt/homebrew/lib/python3.11/site-packages (from en_core_web_sm==3.5.0) (3.5.4)\n",
            "Requirement already satisfied: spacy-legacy<3.1.0,>=3.0.11 in /opt/homebrew/lib/python3.11/site-packages (from spacy<3.6.0,>=3.5.0->en_core_web_sm==3.5.0) (3.0.12)\n",
            "Requirement already satisfied: spacy-loggers<2.0.0,>=1.0.0 in /opt/homebrew/lib/python3.11/site-packages (from spacy<3.6.0,>=3.5.0->en_core_web_sm==3.5.0) (1.0.5)\n",
            "Requirement already satisfied: murmurhash<1.1.0,>=0.28.0 in /opt/homebrew/lib/python3.11/site-packages (from spacy<3.6.0,>=3.5.0->en_core_web_sm==3.5.0) (1.0.10)\n",
            "Requirement already satisfied: cymem<2.1.0,>=2.0.2 in /opt/homebrew/lib/python3.11/site-packages (from spacy<3.6.0,>=3.5.0->en_core_web_sm==3.5.0) (2.0.8)\n",
            "Requirement already satisfied: preshed<3.1.0,>=3.0.2 in /opt/homebrew/lib/python3.11/site-packages (from spacy<3.6.0,>=3.5.0->en_core_web_sm==3.5.0) (3.0.9)\n",
            "Requirement already satisfied: thinc<8.2.0,>=8.1.8 in /opt/homebrew/lib/python3.11/site-packages (from spacy<3.6.0,>=3.5.0->en_core_web_sm==3.5.0) (8.1.12)\n",
            "Requirement already satisfied: wasabi<1.2.0,>=0.9.1 in /opt/homebrew/lib/python3.11/site-packages (from spacy<3.6.0,>=3.5.0->en_core_web_sm==3.5.0) (1.1.2)\n",
            "Requirement already satisfied: srsly<3.0.0,>=2.4.3 in /opt/homebrew/lib/python3.11/site-packages (from spacy<3.6.0,>=3.5.0->en_core_web_sm==3.5.0) (2.4.8)\n",
            "Requirement already satisfied: catalogue<2.1.0,>=2.0.6 in /opt/homebrew/lib/python3.11/site-packages (from spacy<3.6.0,>=3.5.0->en_core_web_sm==3.5.0) (2.0.10)\n",
            "Requirement already satisfied: typer<0.10.0,>=0.3.0 in /opt/homebrew/lib/python3.11/site-packages (from spacy<3.6.0,>=3.5.0->en_core_web_sm==3.5.0) (0.9.0)\n",
            "Requirement already satisfied: pathy>=0.10.0 in /opt/homebrew/lib/python3.11/site-packages (from spacy<3.6.0,>=3.5.0->en_core_web_sm==3.5.0) (0.11.0)\n",
            "Requirement already satisfied: smart-open<7.0.0,>=5.2.1 in /opt/homebrew/lib/python3.11/site-packages (from spacy<3.6.0,>=3.5.0->en_core_web_sm==3.5.0) (6.4.0)\n",
            "Requirement already satisfied: tqdm<5.0.0,>=4.38.0 in /opt/homebrew/lib/python3.11/site-packages (from spacy<3.6.0,>=3.5.0->en_core_web_sm==3.5.0) (4.66.5)\n",
            "Requirement already satisfied: numpy>=1.15.0 in /opt/homebrew/lib/python3.11/site-packages (from spacy<3.6.0,>=3.5.0->en_core_web_sm==3.5.0) (1.26.4)\n",
            "Requirement already satisfied: requests<3.0.0,>=2.13.0 in /opt/homebrew/lib/python3.11/site-packages (from spacy<3.6.0,>=3.5.0->en_core_web_sm==3.5.0) (2.32.3)\n",
            "Requirement already satisfied: pydantic!=1.8,!=1.8.1,<1.11.0,>=1.7.4 in /opt/homebrew/lib/python3.11/site-packages (from spacy<3.6.0,>=3.5.0->en_core_web_sm==3.5.0) (1.10.18)\n",
            "Requirement already satisfied: jinja2 in /opt/homebrew/lib/python3.11/site-packages (from spacy<3.6.0,>=3.5.0->en_core_web_sm==3.5.0) (3.1.2)\n",
            "Requirement already satisfied: setuptools in /opt/homebrew/lib/python3.11/site-packages (from spacy<3.6.0,>=3.5.0->en_core_web_sm==3.5.0) (69.1.0)\n",
            "Requirement already satisfied: packaging>=20.0 in /opt/homebrew/lib/python3.11/site-packages (from spacy<3.6.0,>=3.5.0->en_core_web_sm==3.5.0) (23.2)\n",
            "Requirement already satisfied: langcodes<4.0.0,>=3.2.0 in /opt/homebrew/lib/python3.11/site-packages (from spacy<3.6.0,>=3.5.0->en_core_web_sm==3.5.0) (3.3.0)\n",
            "Requirement already satisfied: pathlib-abc==0.1.1 in /opt/homebrew/lib/python3.11/site-packages (from pathy>=0.10.0->spacy<3.6.0,>=3.5.0->en_core_web_sm==3.5.0) (0.1.1)\n",
            "Requirement already satisfied: typing-extensions>=4.2.0 in /opt/homebrew/lib/python3.11/site-packages (from pydantic!=1.8,!=1.8.1,<1.11.0,>=1.7.4->spacy<3.6.0,>=3.5.0->en_core_web_sm==3.5.0) (4.11.0)\n",
            "Requirement already satisfied: charset-normalizer<4,>=2 in /opt/homebrew/lib/python3.11/site-packages (from requests<3.0.0,>=2.13.0->spacy<3.6.0,>=3.5.0->en_core_web_sm==3.5.0) (3.3.2)\n",
            "Requirement already satisfied: idna<4,>=2.5 in /opt/homebrew/lib/python3.11/site-packages (from requests<3.0.0,>=2.13.0->spacy<3.6.0,>=3.5.0->en_core_web_sm==3.5.0) (3.4)\n",
            "Requirement already satisfied: urllib3<3,>=1.21.1 in /opt/homebrew/lib/python3.11/site-packages (from requests<3.0.0,>=2.13.0->spacy<3.6.0,>=3.5.0->en_core_web_sm==3.5.0) (1.26.18)\n",
            "Requirement already satisfied: certifi>=2017.4.17 in /opt/homebrew/lib/python3.11/site-packages (from requests<3.0.0,>=2.13.0->spacy<3.6.0,>=3.5.0->en_core_web_sm==3.5.0) (2023.7.22)\n",
            "Requirement already satisfied: blis<0.8.0,>=0.7.8 in /opt/homebrew/lib/python3.11/site-packages (from thinc<8.2.0,>=8.1.8->spacy<3.6.0,>=3.5.0->en_core_web_sm==3.5.0) (0.7.11)\n",
            "Requirement already satisfied: confection<1.0.0,>=0.0.1 in /opt/homebrew/lib/python3.11/site-packages (from thinc<8.2.0,>=8.1.8->spacy<3.6.0,>=3.5.0->en_core_web_sm==3.5.0) (0.1.3)\n",
            "Requirement already satisfied: click<9.0.0,>=7.1.1 in /opt/homebrew/lib/python3.11/site-packages (from typer<0.10.0,>=0.3.0->spacy<3.6.0,>=3.5.0->en_core_web_sm==3.5.0) (8.1.7)\n",
            "Requirement already satisfied: MarkupSafe>=2.0 in /opt/homebrew/lib/python3.11/site-packages (from jinja2->spacy<3.6.0,>=3.5.0->en_core_web_sm==3.5.0) (2.1.3)\n"
          ]
        }
      ],
      "source": [
        "#!pip install -U spacy\n",
        "#!python -m spacy download en_core_web_sm\n",
        "!pip --trusted-host github.com --trusted-host objects.githubusercontent.com install https://github.com/explosion/spacy-models/releases/download/en_core_web_sm-3.5.0/en_core_web_sm-3.5.0.tar.gz"
      ]
    },
    {
      "cell_type": "markdown",
      "metadata": {
        "id": "hPv4i-ZERl8Q"
      },
      "source": [
        "Once everything is installed, and imported (at the beginning of this notebook), we can load our language dictionary, namely the English language model, using `spacy.load('en_core_web_sm')`:"
      ]
    },
    {
      "cell_type": "code",
      "execution_count": 5,
      "metadata": {
        "id": "dXkDfXDXRl8R"
      },
      "outputs": [],
      "source": [
        "\n",
        "# Load English language model\n",
        "sp = spacy.load('en_core_web_sm')"
      ]
    },
    {
      "cell_type": "markdown",
      "metadata": {
        "id": "XUibE-SyTp8d"
      },
      "source": [
        "### Tokenization\n",
        "\n",
        "**Tokenization** is the process of breaking a text into pieces called tokens. A **token** simply refers to an individual part of a sentence having some semantic value. In other words, tokens are the elementary building blocks (words, numbers, characters) in a document.\n",
        "\n",
        "SpaCy's tokenizer takes input in form of unicode text and outputs a sequence of token objects. In addition, SpaCy automatically breaks your document into tokens when a document is created using the language model.\n",
        "\n",
        "There are a couple of different ways we can approach this. The first is called **word tokenization**, which means breaking up the text into individual words. This is a critical step for many language processing applications, as they often require inputs in the form of individual words rather than longer strings of text."
      ]
    },
    {
      "cell_type": "markdown",
      "metadata": {
        "id": "SI4Z4wu9Rl8R"
      },
      "source": [
        "Let’s take a look at a simple example. Imagine we have the following text, and we would like to tokenize it:\n",
        "\n",
        "> When learning data science, you shouldn't get discouraged!\n",
        "\n",
        "> Challenges and setbacks aren't failures, they're just part of the journey. You've got this!\n",
        "\n",
        "We create a spaCy object, which contains linguistic annotations and various language properties:"
      ]
    },
    {
      "cell_type": "code",
      "execution_count": 6,
      "metadata": {
        "id": "Dj9OfB1BTp8e"
      },
      "outputs": [
        {
          "data": {
            "text/plain": [
              "When learning data science, you shouldn't get discouraged!\n",
              "Challenges and setbacks aren't failures, they're just part of the journey. You've got this!"
            ]
          },
          "execution_count": 6,
          "metadata": {},
          "output_type": "execute_result"
        }
      ],
      "source": [
        "# Declare text\n",
        "text = \"\"\"When learning data science, you shouldn't get discouraged!\n",
        "Challenges and setbacks aren't failures, they're just part of the journey. You've got this!\"\"\"\n",
        "\n",
        "# spaCy object is used to create a document\n",
        "my_doc = sp(text)\n",
        "\n",
        "my_doc"
      ]
    },
    {
      "cell_type": "code",
      "execution_count": 7,
      "metadata": {
        "id": "hc7fwTbPZdXJ"
      },
      "outputs": [
        {
          "data": {
            "text/plain": [
              "spacy.tokens.doc.Doc"
            ]
          },
          "execution_count": 7,
          "metadata": {},
          "output_type": "execute_result"
        }
      ],
      "source": [
        "# This is a spaCy document\n",
        "type(my_doc)"
      ]
    },
    {
      "cell_type": "markdown",
      "metadata": {
        "id": "ukEQ-vS4Rl8X"
      },
      "source": [
        "Let's now create a list of tokens:"
      ]
    },
    {
      "cell_type": "code",
      "execution_count": 8,
      "metadata": {
        "id": "ex7-T-BkYXZM"
      },
      "outputs": [
        {
          "data": {
            "text/plain": [
              "['When',\n",
              " 'learning',\n",
              " 'data',\n",
              " 'science',\n",
              " ',',\n",
              " 'you',\n",
              " 'should',\n",
              " \"n't\",\n",
              " 'get',\n",
              " 'discouraged',\n",
              " '!',\n",
              " '\\n',\n",
              " 'Challenges',\n",
              " 'and',\n",
              " 'setbacks',\n",
              " 'are',\n",
              " \"n't\",\n",
              " 'failures',\n",
              " ',',\n",
              " 'they',\n",
              " \"'re\",\n",
              " 'just',\n",
              " 'part',\n",
              " 'of',\n",
              " 'the',\n",
              " 'journey',\n",
              " '.',\n",
              " 'You',\n",
              " \"'ve\",\n",
              " 'got',\n",
              " 'this',\n",
              " '!']"
            ]
          },
          "execution_count": 8,
          "metadata": {},
          "output_type": "execute_result"
        }
      ],
      "source": [
        "# Create list of tokens\n",
        "token_list = [token.text for token in my_doc]\n",
        "token_list"
      ]
    },
    {
      "cell_type": "markdown",
      "metadata": {
        "id": "Xi29AcSsTp8j"
      },
      "source": [
        "As we can see, spaCy produces a list that contains each token as a separate item. Notice that it has recognized that contractions such as _shouldn’t_ actually represent two distinct words, and has thus broken them down into two distinct tokens.\n",
        "\n",
        "We can also see the parts-of-speech (POS) of each of these tokens using the `.pos_` attribute, as shown below."
      ]
    },
    {
      "cell_type": "code",
      "execution_count": 9,
      "metadata": {
        "id": "NvkGwDJoWoIs"
      },
      "outputs": [
        {
          "name": "stdout",
          "output_type": "stream",
          "text": [
            "When -> SCONJ\n",
            "learning -> VERB\n",
            "data -> NOUN\n",
            "science -> NOUN\n",
            ", -> PUNCT\n",
            "you -> PRON\n",
            "should -> AUX\n",
            "n't -> PART\n",
            "get -> AUX\n",
            "discouraged -> VERB\n",
            "! -> PUNCT\n",
            "\n",
            " -> SPACE\n",
            "Challenges -> NOUN\n",
            "and -> CCONJ\n",
            "setbacks -> NOUN\n",
            "are -> AUX\n",
            "n't -> PART\n",
            "failures -> NOUN\n",
            ", -> PUNCT\n",
            "they -> PRON\n",
            "'re -> AUX\n",
            "just -> ADV\n",
            "part -> NOUN\n",
            "of -> ADP\n",
            "the -> DET\n",
            "journey -> NOUN\n",
            ". -> PUNCT\n",
            "You -> PRON\n",
            "'ve -> AUX\n",
            "got -> VERB\n",
            "this -> PRON\n",
            "! -> PUNCT\n"
          ]
        }
      ],
      "source": [
        "# POS\n",
        "for word in my_doc:\n",
        "    print(word.text, '->', word.pos_)"
      ]
    },
    {
      "cell_type": "markdown",
      "metadata": {
        "id": "Hb_cILFJRl8Y"
      },
      "source": [
        "POS tagging can be really useful, particularly if you have words or tokens that can have multiple POS tags. For instance, the word \"fish\" can be used as both a noun and verb, depending upon the context:"
      ]
    },
    {
      "cell_type": "code",
      "execution_count": 10,
      "metadata": {
        "id": "cUsKHgp7Y3yM"
      },
      "outputs": [
        {
          "name": "stdout",
          "output_type": "stream",
          "text": [
            "I -> PRON\n",
            "like -> VERB\n",
            "to -> PART\n",
            "fish -> VERB\n",
            "-----------------\n",
            "I -> PRON\n",
            "eat -> VERB\n",
            "a -> DET\n",
            "fish -> NOUN\n"
          ]
        }
      ],
      "source": [
        "# Another example\n",
        "doc1 = sp(\"I like to fish\") # verb\n",
        "doc2 = sp(\"I eat a fish\") # noun\n",
        "\n",
        "for word in doc1:\n",
        "    print(word.text, '->', word.pos_)\n",
        "\n",
        "print(\"-----------------\")\n",
        "\n",
        "for word in doc2:\n",
        "    print(word.text, '->', word.pos_)"
      ]
    },
    {
      "cell_type": "markdown",
      "metadata": {
        "id": "dCiU1-PDXKpp"
      },
      "source": [
        "If we want, we can also break the text into sentences rather than words. This is called **sentence tokenization**. When performing sentence tokenization, the tokenizer looks for specific characters that normally fall between sentences, like periods, exclamation points, and newline characters."
      ]
    },
    {
      "cell_type": "code",
      "execution_count": 11,
      "metadata": {
        "id": "odi_WkNZTp8k"
      },
      "outputs": [
        {
          "data": {
            "text/plain": [
              "[\"When learning data science, you shouldn't get discouraged!\\n\",\n",
              " \"Challenges and setbacks aren't failures, they're just part of the journey.\",\n",
              " \"You've got this!\"]"
            ]
          },
          "execution_count": 11,
          "metadata": {},
          "output_type": "execute_result"
        }
      ],
      "source": [
        "# create list of sentence tokens\n",
        "sents_list = [sent.text for sent in my_doc.sents]\n",
        "\n",
        "sents_list"
      ]
    },
    {
      "cell_type": "markdown",
      "metadata": {
        "id": "Q_Z6MiCtTp8n"
      },
      "source": [
        "### Remove Stopwords\n",
        "\n",
        "Most text data that we work with is going to contain a lot of words that are not actually useful to our analysis (e.g., \"is\", \"and\", \"you\", etc.). These words, called **stopwords**, are useful in human speech, but they do not have much to contribute to the meaning of a sentence. Removing stopwords helps us eliminate noise and distraction from our text data, and also speeds up the time of the analysis (since there are fewer words to process). This makes text analysis more efficient.\n",
        "\n",
        "\n",
        "Let’s take a look at the stopwords spaCy includes by default."
      ]
    },
    {
      "cell_type": "code",
      "execution_count": 12,
      "metadata": {
        "id": "_kB8kI0eTp8o"
      },
      "outputs": [
        {
          "name": "stdout",
          "output_type": "stream",
          "text": [
            "Number of stopwords: 326\n",
            "20 stopwords: ['had', 'him', 'really', 'well', 'already', 'because', 'does', 'whereas', 'wherein', 'fifteen', 'who', 'for', 'every', 'an', 'yourselves', 'at', 'been', 'ca', 'few', 'hers']\n"
          ]
        }
      ],
      "source": [
        "# Import stopwords from English language\n",
        "spacy_stopwords = spacy.lang.en.stop_words.STOP_WORDS\n",
        "\n",
        "# Print total number of stopwords\n",
        "print('Number of stopwords: %d' % len(spacy_stopwords))\n",
        "\n",
        "# Print 20 stopwords\n",
        "print('20 stopwords: %s' % list(spacy_stopwords)[:20])"
      ]
    },
    {
      "cell_type": "markdown",
      "metadata": {
        "id": "aw0Wfvu4Tp8q"
      },
      "source": [
        "Now that we’ve got our list of stopwords, let’s use it to remove the stopwords from the text string we were working on in the previous section."
      ]
    },
    {
      "cell_type": "code",
      "execution_count": 13,
      "metadata": {
        "id": "Eq5yvoZtlhsd"
      },
      "outputs": [
        {
          "data": {
            "text/plain": [
              "When learning data science, you shouldn't get discouraged!\n",
              "Challenges and setbacks aren't failures, they're just part of the journey. You've got this!"
            ]
          },
          "execution_count": 13,
          "metadata": {},
          "output_type": "execute_result"
        }
      ],
      "source": [
        "# Which words will be removed?\n",
        "my_doc"
      ]
    },
    {
      "cell_type": "code",
      "execution_count": 14,
      "metadata": {
        "id": "y54Kiz9zTp8r"
      },
      "outputs": [
        {
          "name": "stdout",
          "output_type": "stream",
          "text": [
            "The filtered sentence contains the words: ['learning', 'data', 'science', ',', 'discouraged', '!', '\\n', 'Challenges', 'setbacks', 'failures', ',', 'journey', '.', 'got', '!']\n"
          ]
        }
      ],
      "source": [
        "# Filter stopwords\n",
        "filtered_sent = [word.text for word in my_doc if word.is_stop == False]\n",
        "\n",
        "print('The filtered sentence contains the words:', filtered_sent)"
      ]
    },
    {
      "cell_type": "markdown",
      "metadata": {
        "id": "J4u0DM8kRl8c"
      },
      "source": [
        "We can also remove the punctuation:"
      ]
    },
    {
      "cell_type": "code",
      "execution_count": 15,
      "metadata": {
        "id": "UOvM2NFdl29W"
      },
      "outputs": [
        {
          "name": "stdout",
          "output_type": "stream",
          "text": [
            "We remove the following tokens: ['When', ',', 'you', 'should', \"n't\", 'get', '!', '\\n', 'and', 'are', \"n't\", ',', 'they', \"'re\", 'just', 'part', 'of', 'the', '.', 'You', \"'ve\", 'this', '!']\n",
            "The filtered sentence contains the words: ['learning', 'data', 'science', 'discouraged', 'Challenges', 'setbacks', 'failures', 'journey', 'got']\n"
          ]
        }
      ],
      "source": [
        "# Filter stopwords, punctuation and spaces\n",
        "filtered_sent2 = []\n",
        "removed_tokens = []\n",
        "\n",
        "for word in my_doc:\n",
        "    if (word.is_stop == True) or (word.is_punct == True) or (word.is_space == True):\n",
        "        removed_tokens.append(word.text)\n",
        "    else:\n",
        "        filtered_sent2.append(word.text)\n",
        "\n",
        "print('We remove the following tokens:', removed_tokens)\n",
        "print('The filtered sentence contains the words:', filtered_sent2)"
      ]
    },
    {
      "cell_type": "markdown",
      "metadata": {
        "id": "imbw_TUkTp8v"
      },
      "source": [
        "### Lemmatization\n",
        "\n",
        "**Lemmatization** is a way of dealing with the fact that while words like connect, connection, connecting, connected, etc. are not exactly the same, they all have the same essential meaning: connect. The differences in spelling have grammatical functions in spoken language, but for machine processing, those differences can be confusing, so we need a way to change all the words that are forms of the word connect into the word connect itself.\n",
        "\n",
        "One method for doing this is called **stemming**. Stemming involves simply lopping off easily-identified prefixes and suffixes to produce what is often the simplest version of a word, the root. Connection, for example, would have the -ion suffix removed and be reduced to connect. This kind of simple stemming is often all that is needed, but lemmatization — which actually looks at words and their roots (called lemma) as described in the dictionary — is more precise (e.g feet -> foot).\n",
        "\n",
        "Let's look at this simple example."
      ]
    },
    {
      "cell_type": "code",
      "execution_count": 16,
      "metadata": {
        "id": "UTqSImYfTp8v"
      },
      "outputs": [
        {
          "name": "stdout",
          "output_type": "stream",
          "text": [
            "run -> run\n",
            "runs -> run\n",
            "ran -> run\n",
            "running -> run\n",
            "runner -> runner\n",
            "runners -> runner\n"
          ]
        }
      ],
      "source": [
        "# Lemmatization\n",
        "lem = sp(\"run runs ran running runner runners\")\n",
        "\n",
        "# Find lemma for each word\n",
        "for word in lem:\n",
        "    print(word.text, '->', word.lemma_)"
      ]
    },
    {
      "cell_type": "markdown",
      "metadata": {
        "id": "HutxBkWKRl8d"
      },
      "source": [
        "### Your turn! <a id = \"Your-turn-Preparation\"></a>\n",
        "\n",
        "The text below is taken from the [the presentation](https://www.unil.ch/formations/en/home/menuinst/masters/systemes-dinformation.html) of the Master of Science (MSc) in Information Systems and Digital Innovation."
      ]
    },
    {
      "cell_type": "code",
      "execution_count": 17,
      "metadata": {
        "id": "HRCf0C51Rl8d"
      },
      "outputs": [],
      "source": [
        "text = \"\"\"The Master of Science in Information Systems and Digital Innovation allows you to acquire advanced skills in New Information and Communications Technologies (NICT) for use within organisations.\n",
        "Subjects are studied with a balanced multidisciplinary approach and cover both information technology and management techniques.\n",
        "The Master’s degree thus trains high-level specialists with the skills needed to design, manage, evaluate and implement IT services and applications.\n",
        "This course also allows to undertake doctoral studies.\n",
        "\"\"\""
      ]
    },
    {
      "cell_type": "markdown",
      "metadata": {
        "id": "bzmqPJQ1Rl8d"
      },
      "source": [
        "- Create two lists:\n",
        "    - the first one containing the punctuation and the stopwords,\n",
        "    - the second one containing the words (tokens)."
      ]
    },
    {
      "cell_type": "code",
      "execution_count": 18,
      "metadata": {
        "id": "TquitNSjRl8e"
      },
      "outputs": [
        {
          "name": "stdout",
          "output_type": "stream",
          "text": [
            "We remove the following tokens: ['The', 'of', 'in', 'and', 'you', 'to', 'in', 'and', '(', ')', 'for', 'within', '.', '\\n', 'are', 'with', 'a', 'and', 'both', 'and', '.', '\\n', 'The', '’s', 'thus', '-', 'with', 'the', 'to', ',', ',', 'and', 'IT', 'and', '.', '\\n', 'This', 'also', 'to', '.', '\\n']\n",
            "The filtered sentence contains the words: ['Master', 'Science', 'Information', 'Systems', 'Digital', 'Innovation', 'allows', 'acquire', 'advanced', 'skills', 'New', 'Information', 'Communications', 'Technologies', 'NICT', 'use', 'organisations', 'Subjects', 'studied', 'balanced', 'multidisciplinary', 'approach', 'cover', 'information', 'technology', 'management', 'techniques', 'Master', 'degree', 'trains', 'high', 'level', 'specialists', 'skills', 'needed', 'design', 'manage', 'evaluate', 'implement', 'services', 'applications', 'course', 'allows', 'undertake', 'doctoral', 'studies']\n"
          ]
        }
      ],
      "source": [
        "# YOUR CODE HERE\n",
        "\n",
        "# We convert the string to spaCy document\n",
        "doc = sp(text)\n",
        "\n",
        "# We filter the words\n",
        "removed_tokens = []\n",
        "filtered_text = []\n",
        "for word in doc:\n",
        "    if (word.is_stop == True) or (word.is_punct == True) or (word.is_space == True):\n",
        "        removed_tokens.append(word.text)\n",
        "    else:\n",
        "        filtered_text.append(word.text)\n",
        "\n",
        "print('We remove the following tokens:', removed_tokens)\n",
        "\n",
        "print('The filtered sentence contains the words:', filtered_text)"
      ]
    },
    {
      "cell_type": "markdown",
      "metadata": {
        "id": "iGwkfIRkRl8e"
      },
      "source": [
        "- For each token, print its lemma\n",
        "\n",
        "*Note:* You can convert a list of strings into a string using for instance the `join()` method"
      ]
    },
    {
      "cell_type": "code",
      "execution_count": 19,
      "metadata": {
        "id": "VVY7DYZcRl8e"
      },
      "outputs": [
        {
          "name": "stdout",
          "output_type": "stream",
          "text": [
            "Master -> Master\n",
            "Science -> Science\n",
            "Information -> Information\n",
            "Systems -> Systems\n",
            "Digital -> Digital\n",
            "Innovation -> Innovation\n",
            "allows -> allow\n",
            "acquire -> acquire\n",
            "advanced -> advanced\n",
            "skills -> skill\n",
            "New -> New\n",
            "Information -> Information\n",
            "Communications -> Communications\n",
            "Technologies -> Technologies\n",
            "NICT -> NICT\n",
            "use -> use\n",
            "organisations -> organisation\n",
            "Subjects -> subject\n",
            "studied -> study\n",
            "balanced -> balanced\n",
            "multidisciplinary -> multidisciplinary\n",
            "approach -> approach\n",
            "cover -> cover\n",
            "information -> information\n",
            "technology -> technology\n",
            "management -> management\n",
            "techniques -> technique\n",
            "Master -> Master\n",
            "degree -> degree\n",
            "trains -> train\n",
            "high -> high\n",
            "level -> level\n",
            "specialists -> specialist\n",
            "skills -> skill\n",
            "needed -> need\n",
            "design -> design\n",
            "manage -> manage\n",
            "evaluate -> evaluate\n",
            "implement -> implement\n",
            "services -> service\n",
            "applications -> application\n",
            "course -> course\n",
            "allows -> allow\n",
            "undertake -> undertake\n",
            "doctoral -> doctoral\n",
            "studies -> study\n"
          ]
        }
      ],
      "source": [
        "# YOUR CODE HERE\n",
        "doc = sp(\" \".join(filtered_text))\n",
        "for word in doc:\n",
        "    print(word.text, '->', word.lemma_)"
      ]
    },
    {
      "cell_type": "markdown",
      "metadata": {
        "id": "1QZOutDwsYij"
      },
      "source": [
        "## Text Representation\n",
        "\n",
        "The goal is to transform text into numerical features such that it can be used by ML algorithms. There are different techniques:\n",
        "- **Bag of Words (BOW)** simply treat every document as an unordered set of words. It works in many case but order is not preserved. As a solution, we can use **n-grams**, i.e., we count token pairs, triplets, etc.\n",
        "- **TF-IDF**: emphasizes important words, i.e., words that appear frequently in a document, (informing about the topic of the document), and words that are rare in a corpus of documents (setting one document apart from other similar ones).\n",
        "\n",
        "To transform our text, we are going to use our old friend, the scikit learn library. As input it will require strings (and not a spaCy object). Here, our corpus of documents will consist of four sentences on [symbiosis](https://en.wikipedia.org/wiki/Symbiosis)."
      ]
    },
    {
      "cell_type": "code",
      "execution_count": 20,
      "metadata": {
        "id": "X2MjeqoQxdOx"
      },
      "outputs": [
        {
          "data": {
            "text/plain": [
              "['Symbiosis is any type of a close and long-term biological interaction between two biological organisms of different species.',\n",
              " 'Mutualism describes the ecological interaction between two or more species where each species has a net benefit.',\n",
              " 'Commensalism is a long-term biological interaction (symbiosis) in which members of one species gain benefits while those of the other species neither benefit nor are harmed.',\n",
              " 'Parasitism is a close relationship between species, where one organism, the parasite, lives on or inside another organism, the host, causing it some harm, and is adapted structurally to this way of life.']"
            ]
          },
          "execution_count": 20,
          "metadata": {},
          "output_type": "execute_result"
        }
      ],
      "source": [
        "# Sentences (as strings, not spaCy objects)\n",
        "s1 = \"Symbiosis is any type of a close and long-term biological interaction between two biological organisms of different species.\"\n",
        "s2 = \"Mutualism describes the ecological interaction between two or more species where each species has a net benefit.\"\n",
        "s3 = \"Commensalism is a long-term biological interaction (symbiosis) in which members of one species gain benefits while those of the other species neither benefit nor are harmed.\"\n",
        "s4 = \"Parasitism is a close relationship between species, where one organism, the parasite, lives on or inside another organism, the host, causing it some harm, and is adapted structurally to this way of life.\"\n",
        "\n",
        "# List of sentences\n",
        "texts = [s1, s2, s3, s4]\n",
        "texts"
      ]
    },
    {
      "cell_type": "markdown",
      "metadata": {
        "id": "wCFQrtHLtMTt"
      },
      "source": [
        "### Bag of Words (BOW)\n",
        "\n",
        "We use the `CountVectorizer` class of sklearn ([Documentation](https://scikit-learn.org/stable/modules/generated/sklearn.feature_extraction.text.CountVectorizer.html)), using as parameters:\n",
        "- `ngram_range=(1,2)`, i.e., we consider tokens (1-grams) and pair of tokens (2-grams);\n",
        "- `stop_words=\"english\"`, a built-in stop word list for English."
      ]
    },
    {
      "cell_type": "code",
      "execution_count": 21,
      "metadata": {
        "id": "ZyzBm0BUtLc0"
      },
      "outputs": [
        {
          "name": "stdout",
          "output_type": "stream",
          "text": [
            "[[0 0 0 0 0 0 2 1 1 0 0 1 1 0 0 0 0 0 1 1 0 0 0 0 0 0 0 0 0 0 0 1 1 0 0 0\n",
            "  0 0 1 1 0 0 0 0 0 0 0 0 0 1 1 0 0 0 0 0 0 1 0 0 0 0 0 0 0 1 0 1 1 1 1 1\n",
            "  0 0]\n",
            " [0 0 1 0 0 0 0 0 0 0 0 0 0 0 0 0 1 1 0 0 1 1 0 0 0 0 0 0 0 0 0 1 0 1 0 0\n",
            "  0 0 0 0 0 0 1 1 1 1 0 0 0 0 0 0 0 0 0 0 0 2 0 0 1 0 1 0 0 0 0 0 0 0 0 0\n",
            "  0 0]\n",
            " [0 0 1 1 1 1 1 1 0 0 0 0 0 0 1 1 0 0 0 0 0 0 1 1 0 0 1 0 0 0 0 1 0 0 1 0\n",
            "  0 0 1 1 1 1 0 0 0 0 0 0 0 0 0 0 0 0 0 0 0 2 1 1 0 0 0 0 0 1 1 0 1 1 0 0\n",
            "  0 0]\n",
            " [1 1 0 0 0 0 0 0 0 1 1 1 0 1 0 0 0 0 0 0 0 0 0 0 1 1 0 1 1 1 1 0 0 0 0 1\n",
            "  1 1 0 0 0 0 0 0 0 0 2 1 1 0 0 1 1 1 1 1 1 1 0 0 0 1 0 1 1 0 0 0 0 0 0 0\n",
            "  1 1]]\n"
          ]
        }
      ],
      "source": [
        "# Using default tokenizer\n",
        "count = CountVectorizer(ngram_range=(1,2), stop_words=\"english\")\n",
        "\n",
        "# Learn the vocabulary dictionary and return document-term matrix\n",
        "bow = count.fit_transform(texts)\n",
        "\n",
        "# Show feature matrix\n",
        "print(bow.toarray())"
      ]
    },
    {
      "cell_type": "markdown",
      "metadata": {
        "id": "LDXxETa2Rl8t"
      },
      "source": [
        "Let's check the n-grams (tokens and pair of tokens) created:"
      ]
    },
    {
      "cell_type": "code",
      "execution_count": 22,
      "metadata": {
        "id": "GRmUUc0kzi3_"
      },
      "outputs": [
        {
          "name": "stdout",
          "output_type": "stream",
          "text": [
            "Our n-grams are: adapted, adapted structurally, benefit, benefit harmed, benefits, benefits species, biological, biological interaction, biological organisms, causing, causing harm, close, close long, close relationship, commensalism, commensalism long, describes, describes ecological, different, different species, ecological, ecological interaction, gain, gain benefits, harm, harm adapted, harmed, host, host causing, inside, inside organism, interaction, interaction biological, interaction species, interaction symbiosis, life, lives, lives inside, long, long term, members, members species, mutualism, mutualism describes, net, net benefit, organism, organism host, organism parasite, organisms, organisms different, parasite, parasite lives, parasitism, parasitism close, relationship, relationship species, species, species benefit, species gain, species net, species organism, species species, structurally, structurally way, symbiosis, symbiosis members, symbiosis type, term, term biological, type, type close, way, way life\n"
          ]
        }
      ],
      "source": [
        "# Get feature names\n",
        "feature_names = count.get_feature_names_out()\n",
        "\n",
        "# View feature names\n",
        "print('Our n-grams are:', ', '.join(feature_names))"
      ]
    },
    {
      "cell_type": "markdown",
      "metadata": {
        "id": "x64RpSdPRl8u"
      },
      "source": [
        "We can better visualize the result in a dataframe:"
      ]
    },
    {
      "cell_type": "code",
      "execution_count": 23,
      "metadata": {
        "id": "sxCSvGUTz2tl"
      },
      "outputs": [
        {
          "data": {
            "text/html": [
              "<div>\n",
              "<style scoped>\n",
              "    .dataframe tbody tr th:only-of-type {\n",
              "        vertical-align: middle;\n",
              "    }\n",
              "\n",
              "    .dataframe tbody tr th {\n",
              "        vertical-align: top;\n",
              "    }\n",
              "\n",
              "    .dataframe thead th {\n",
              "        text-align: right;\n",
              "    }\n",
              "</style>\n",
              "<table border=\"1\" class=\"dataframe\">\n",
              "  <thead>\n",
              "    <tr style=\"text-align: right;\">\n",
              "      <th></th>\n",
              "      <th>adapted</th>\n",
              "      <th>adapted structurally</th>\n",
              "      <th>benefit</th>\n",
              "      <th>benefit harmed</th>\n",
              "      <th>benefits</th>\n",
              "      <th>benefits species</th>\n",
              "      <th>biological</th>\n",
              "      <th>biological interaction</th>\n",
              "      <th>biological organisms</th>\n",
              "      <th>causing</th>\n",
              "      <th>causing harm</th>\n",
              "      <th>close</th>\n",
              "      <th>close long</th>\n",
              "      <th>close relationship</th>\n",
              "      <th>commensalism</th>\n",
              "      <th>commensalism long</th>\n",
              "      <th>describes</th>\n",
              "      <th>describes ecological</th>\n",
              "      <th>different</th>\n",
              "      <th>different species</th>\n",
              "      <th>ecological</th>\n",
              "      <th>ecological interaction</th>\n",
              "      <th>gain</th>\n",
              "      <th>gain benefits</th>\n",
              "      <th>harm</th>\n",
              "      <th>harm adapted</th>\n",
              "      <th>harmed</th>\n",
              "      <th>host</th>\n",
              "      <th>host causing</th>\n",
              "      <th>inside</th>\n",
              "      <th>inside organism</th>\n",
              "      <th>interaction</th>\n",
              "      <th>interaction biological</th>\n",
              "      <th>interaction species</th>\n",
              "      <th>interaction symbiosis</th>\n",
              "      <th>life</th>\n",
              "      <th>lives</th>\n",
              "      <th>lives inside</th>\n",
              "      <th>long</th>\n",
              "      <th>long term</th>\n",
              "      <th>members</th>\n",
              "      <th>members species</th>\n",
              "      <th>mutualism</th>\n",
              "      <th>mutualism describes</th>\n",
              "      <th>net</th>\n",
              "      <th>net benefit</th>\n",
              "      <th>organism</th>\n",
              "      <th>organism host</th>\n",
              "      <th>organism parasite</th>\n",
              "      <th>organisms</th>\n",
              "      <th>organisms different</th>\n",
              "      <th>parasite</th>\n",
              "      <th>parasite lives</th>\n",
              "      <th>parasitism</th>\n",
              "      <th>parasitism close</th>\n",
              "      <th>relationship</th>\n",
              "      <th>relationship species</th>\n",
              "      <th>species</th>\n",
              "      <th>species benefit</th>\n",
              "      <th>species gain</th>\n",
              "      <th>species net</th>\n",
              "      <th>species organism</th>\n",
              "      <th>species species</th>\n",
              "      <th>structurally</th>\n",
              "      <th>structurally way</th>\n",
              "      <th>symbiosis</th>\n",
              "      <th>symbiosis members</th>\n",
              "      <th>symbiosis type</th>\n",
              "      <th>term</th>\n",
              "      <th>term biological</th>\n",
              "      <th>type</th>\n",
              "      <th>type close</th>\n",
              "      <th>way</th>\n",
              "      <th>way life</th>\n",
              "    </tr>\n",
              "  </thead>\n",
              "  <tbody>\n",
              "    <tr>\n",
              "      <th>s1</th>\n",
              "      <td>0</td>\n",
              "      <td>0</td>\n",
              "      <td>0</td>\n",
              "      <td>0</td>\n",
              "      <td>0</td>\n",
              "      <td>0</td>\n",
              "      <td>2</td>\n",
              "      <td>1</td>\n",
              "      <td>1</td>\n",
              "      <td>0</td>\n",
              "      <td>0</td>\n",
              "      <td>1</td>\n",
              "      <td>1</td>\n",
              "      <td>0</td>\n",
              "      <td>0</td>\n",
              "      <td>0</td>\n",
              "      <td>0</td>\n",
              "      <td>0</td>\n",
              "      <td>1</td>\n",
              "      <td>1</td>\n",
              "      <td>0</td>\n",
              "      <td>0</td>\n",
              "      <td>0</td>\n",
              "      <td>0</td>\n",
              "      <td>0</td>\n",
              "      <td>0</td>\n",
              "      <td>0</td>\n",
              "      <td>0</td>\n",
              "      <td>0</td>\n",
              "      <td>0</td>\n",
              "      <td>0</td>\n",
              "      <td>1</td>\n",
              "      <td>1</td>\n",
              "      <td>0</td>\n",
              "      <td>0</td>\n",
              "      <td>0</td>\n",
              "      <td>0</td>\n",
              "      <td>0</td>\n",
              "      <td>1</td>\n",
              "      <td>1</td>\n",
              "      <td>0</td>\n",
              "      <td>0</td>\n",
              "      <td>0</td>\n",
              "      <td>0</td>\n",
              "      <td>0</td>\n",
              "      <td>0</td>\n",
              "      <td>0</td>\n",
              "      <td>0</td>\n",
              "      <td>0</td>\n",
              "      <td>1</td>\n",
              "      <td>1</td>\n",
              "      <td>0</td>\n",
              "      <td>0</td>\n",
              "      <td>0</td>\n",
              "      <td>0</td>\n",
              "      <td>0</td>\n",
              "      <td>0</td>\n",
              "      <td>1</td>\n",
              "      <td>0</td>\n",
              "      <td>0</td>\n",
              "      <td>0</td>\n",
              "      <td>0</td>\n",
              "      <td>0</td>\n",
              "      <td>0</td>\n",
              "      <td>0</td>\n",
              "      <td>1</td>\n",
              "      <td>0</td>\n",
              "      <td>1</td>\n",
              "      <td>1</td>\n",
              "      <td>1</td>\n",
              "      <td>1</td>\n",
              "      <td>1</td>\n",
              "      <td>0</td>\n",
              "      <td>0</td>\n",
              "    </tr>\n",
              "    <tr>\n",
              "      <th>s2</th>\n",
              "      <td>0</td>\n",
              "      <td>0</td>\n",
              "      <td>1</td>\n",
              "      <td>0</td>\n",
              "      <td>0</td>\n",
              "      <td>0</td>\n",
              "      <td>0</td>\n",
              "      <td>0</td>\n",
              "      <td>0</td>\n",
              "      <td>0</td>\n",
              "      <td>0</td>\n",
              "      <td>0</td>\n",
              "      <td>0</td>\n",
              "      <td>0</td>\n",
              "      <td>0</td>\n",
              "      <td>0</td>\n",
              "      <td>1</td>\n",
              "      <td>1</td>\n",
              "      <td>0</td>\n",
              "      <td>0</td>\n",
              "      <td>1</td>\n",
              "      <td>1</td>\n",
              "      <td>0</td>\n",
              "      <td>0</td>\n",
              "      <td>0</td>\n",
              "      <td>0</td>\n",
              "      <td>0</td>\n",
              "      <td>0</td>\n",
              "      <td>0</td>\n",
              "      <td>0</td>\n",
              "      <td>0</td>\n",
              "      <td>1</td>\n",
              "      <td>0</td>\n",
              "      <td>1</td>\n",
              "      <td>0</td>\n",
              "      <td>0</td>\n",
              "      <td>0</td>\n",
              "      <td>0</td>\n",
              "      <td>0</td>\n",
              "      <td>0</td>\n",
              "      <td>0</td>\n",
              "      <td>0</td>\n",
              "      <td>1</td>\n",
              "      <td>1</td>\n",
              "      <td>1</td>\n",
              "      <td>1</td>\n",
              "      <td>0</td>\n",
              "      <td>0</td>\n",
              "      <td>0</td>\n",
              "      <td>0</td>\n",
              "      <td>0</td>\n",
              "      <td>0</td>\n",
              "      <td>0</td>\n",
              "      <td>0</td>\n",
              "      <td>0</td>\n",
              "      <td>0</td>\n",
              "      <td>0</td>\n",
              "      <td>2</td>\n",
              "      <td>0</td>\n",
              "      <td>0</td>\n",
              "      <td>1</td>\n",
              "      <td>0</td>\n",
              "      <td>1</td>\n",
              "      <td>0</td>\n",
              "      <td>0</td>\n",
              "      <td>0</td>\n",
              "      <td>0</td>\n",
              "      <td>0</td>\n",
              "      <td>0</td>\n",
              "      <td>0</td>\n",
              "      <td>0</td>\n",
              "      <td>0</td>\n",
              "      <td>0</td>\n",
              "      <td>0</td>\n",
              "    </tr>\n",
              "    <tr>\n",
              "      <th>s3</th>\n",
              "      <td>0</td>\n",
              "      <td>0</td>\n",
              "      <td>1</td>\n",
              "      <td>1</td>\n",
              "      <td>1</td>\n",
              "      <td>1</td>\n",
              "      <td>1</td>\n",
              "      <td>1</td>\n",
              "      <td>0</td>\n",
              "      <td>0</td>\n",
              "      <td>0</td>\n",
              "      <td>0</td>\n",
              "      <td>0</td>\n",
              "      <td>0</td>\n",
              "      <td>1</td>\n",
              "      <td>1</td>\n",
              "      <td>0</td>\n",
              "      <td>0</td>\n",
              "      <td>0</td>\n",
              "      <td>0</td>\n",
              "      <td>0</td>\n",
              "      <td>0</td>\n",
              "      <td>1</td>\n",
              "      <td>1</td>\n",
              "      <td>0</td>\n",
              "      <td>0</td>\n",
              "      <td>1</td>\n",
              "      <td>0</td>\n",
              "      <td>0</td>\n",
              "      <td>0</td>\n",
              "      <td>0</td>\n",
              "      <td>1</td>\n",
              "      <td>0</td>\n",
              "      <td>0</td>\n",
              "      <td>1</td>\n",
              "      <td>0</td>\n",
              "      <td>0</td>\n",
              "      <td>0</td>\n",
              "      <td>1</td>\n",
              "      <td>1</td>\n",
              "      <td>1</td>\n",
              "      <td>1</td>\n",
              "      <td>0</td>\n",
              "      <td>0</td>\n",
              "      <td>0</td>\n",
              "      <td>0</td>\n",
              "      <td>0</td>\n",
              "      <td>0</td>\n",
              "      <td>0</td>\n",
              "      <td>0</td>\n",
              "      <td>0</td>\n",
              "      <td>0</td>\n",
              "      <td>0</td>\n",
              "      <td>0</td>\n",
              "      <td>0</td>\n",
              "      <td>0</td>\n",
              "      <td>0</td>\n",
              "      <td>2</td>\n",
              "      <td>1</td>\n",
              "      <td>1</td>\n",
              "      <td>0</td>\n",
              "      <td>0</td>\n",
              "      <td>0</td>\n",
              "      <td>0</td>\n",
              "      <td>0</td>\n",
              "      <td>1</td>\n",
              "      <td>1</td>\n",
              "      <td>0</td>\n",
              "      <td>1</td>\n",
              "      <td>1</td>\n",
              "      <td>0</td>\n",
              "      <td>0</td>\n",
              "      <td>0</td>\n",
              "      <td>0</td>\n",
              "    </tr>\n",
              "    <tr>\n",
              "      <th>s4</th>\n",
              "      <td>1</td>\n",
              "      <td>1</td>\n",
              "      <td>0</td>\n",
              "      <td>0</td>\n",
              "      <td>0</td>\n",
              "      <td>0</td>\n",
              "      <td>0</td>\n",
              "      <td>0</td>\n",
              "      <td>0</td>\n",
              "      <td>1</td>\n",
              "      <td>1</td>\n",
              "      <td>1</td>\n",
              "      <td>0</td>\n",
              "      <td>1</td>\n",
              "      <td>0</td>\n",
              "      <td>0</td>\n",
              "      <td>0</td>\n",
              "      <td>0</td>\n",
              "      <td>0</td>\n",
              "      <td>0</td>\n",
              "      <td>0</td>\n",
              "      <td>0</td>\n",
              "      <td>0</td>\n",
              "      <td>0</td>\n",
              "      <td>1</td>\n",
              "      <td>1</td>\n",
              "      <td>0</td>\n",
              "      <td>1</td>\n",
              "      <td>1</td>\n",
              "      <td>1</td>\n",
              "      <td>1</td>\n",
              "      <td>0</td>\n",
              "      <td>0</td>\n",
              "      <td>0</td>\n",
              "      <td>0</td>\n",
              "      <td>1</td>\n",
              "      <td>1</td>\n",
              "      <td>1</td>\n",
              "      <td>0</td>\n",
              "      <td>0</td>\n",
              "      <td>0</td>\n",
              "      <td>0</td>\n",
              "      <td>0</td>\n",
              "      <td>0</td>\n",
              "      <td>0</td>\n",
              "      <td>0</td>\n",
              "      <td>2</td>\n",
              "      <td>1</td>\n",
              "      <td>1</td>\n",
              "      <td>0</td>\n",
              "      <td>0</td>\n",
              "      <td>1</td>\n",
              "      <td>1</td>\n",
              "      <td>1</td>\n",
              "      <td>1</td>\n",
              "      <td>1</td>\n",
              "      <td>1</td>\n",
              "      <td>1</td>\n",
              "      <td>0</td>\n",
              "      <td>0</td>\n",
              "      <td>0</td>\n",
              "      <td>1</td>\n",
              "      <td>0</td>\n",
              "      <td>1</td>\n",
              "      <td>1</td>\n",
              "      <td>0</td>\n",
              "      <td>0</td>\n",
              "      <td>0</td>\n",
              "      <td>0</td>\n",
              "      <td>0</td>\n",
              "      <td>0</td>\n",
              "      <td>0</td>\n",
              "      <td>1</td>\n",
              "      <td>1</td>\n",
              "    </tr>\n",
              "  </tbody>\n",
              "</table>\n",
              "</div>"
            ],
            "text/plain": [
              "    adapted  adapted structurally  benefit  benefit harmed  benefits  \\\n",
              "s1        0                     0        0               0         0   \n",
              "s2        0                     0        1               0         0   \n",
              "s3        0                     0        1               1         1   \n",
              "s4        1                     1        0               0         0   \n",
              "\n",
              "    benefits species  biological  biological interaction  \\\n",
              "s1                 0           2                       1   \n",
              "s2                 0           0                       0   \n",
              "s3                 1           1                       1   \n",
              "s4                 0           0                       0   \n",
              "\n",
              "    biological organisms  causing  causing harm  close  close long  \\\n",
              "s1                     1        0             0      1           1   \n",
              "s2                     0        0             0      0           0   \n",
              "s3                     0        0             0      0           0   \n",
              "s4                     0        1             1      1           0   \n",
              "\n",
              "    close relationship  commensalism  commensalism long  describes  \\\n",
              "s1                   0             0                  0          0   \n",
              "s2                   0             0                  0          1   \n",
              "s3                   0             1                  1          0   \n",
              "s4                   1             0                  0          0   \n",
              "\n",
              "    describes ecological  different  different species  ecological  \\\n",
              "s1                     0          1                  1           0   \n",
              "s2                     1          0                  0           1   \n",
              "s3                     0          0                  0           0   \n",
              "s4                     0          0                  0           0   \n",
              "\n",
              "    ecological interaction  gain  gain benefits  harm  harm adapted  harmed  \\\n",
              "s1                       0     0              0     0             0       0   \n",
              "s2                       1     0              0     0             0       0   \n",
              "s3                       0     1              1     0             0       1   \n",
              "s4                       0     0              0     1             1       0   \n",
              "\n",
              "    host  host causing  inside  inside organism  interaction  \\\n",
              "s1     0             0       0                0            1   \n",
              "s2     0             0       0                0            1   \n",
              "s3     0             0       0                0            1   \n",
              "s4     1             1       1                1            0   \n",
              "\n",
              "    interaction biological  interaction species  interaction symbiosis  life  \\\n",
              "s1                       1                    0                      0     0   \n",
              "s2                       0                    1                      0     0   \n",
              "s3                       0                    0                      1     0   \n",
              "s4                       0                    0                      0     1   \n",
              "\n",
              "    lives  lives inside  long  long term  members  members species  mutualism  \\\n",
              "s1      0             0     1          1        0                0          0   \n",
              "s2      0             0     0          0        0                0          1   \n",
              "s3      0             0     1          1        1                1          0   \n",
              "s4      1             1     0          0        0                0          0   \n",
              "\n",
              "    mutualism describes  net  net benefit  organism  organism host  \\\n",
              "s1                    0    0            0         0              0   \n",
              "s2                    1    1            1         0              0   \n",
              "s3                    0    0            0         0              0   \n",
              "s4                    0    0            0         2              1   \n",
              "\n",
              "    organism parasite  organisms  organisms different  parasite  \\\n",
              "s1                  0          1                    1         0   \n",
              "s2                  0          0                    0         0   \n",
              "s3                  0          0                    0         0   \n",
              "s4                  1          0                    0         1   \n",
              "\n",
              "    parasite lives  parasitism  parasitism close  relationship  \\\n",
              "s1               0           0                 0             0   \n",
              "s2               0           0                 0             0   \n",
              "s3               0           0                 0             0   \n",
              "s4               1           1                 1             1   \n",
              "\n",
              "    relationship species  species  species benefit  species gain  species net  \\\n",
              "s1                     0        1                0             0            0   \n",
              "s2                     0        2                0             0            1   \n",
              "s3                     0        2                1             1            0   \n",
              "s4                     1        1                0             0            0   \n",
              "\n",
              "    species organism  species species  structurally  structurally way  \\\n",
              "s1                 0                0             0                 0   \n",
              "s2                 0                1             0                 0   \n",
              "s3                 0                0             0                 0   \n",
              "s4                 1                0             1                 1   \n",
              "\n",
              "    symbiosis  symbiosis members  symbiosis type  term  term biological  type  \\\n",
              "s1          1                  0               1     1                1     1   \n",
              "s2          0                  0               0     0                0     0   \n",
              "s3          1                  1               0     1                1     0   \n",
              "s4          0                  0               0     0                0     0   \n",
              "\n",
              "    type close  way  way life  \n",
              "s1           1    0         0  \n",
              "s2           0    0         0  \n",
              "s3           0    0         0  \n",
              "s4           0    1         1  "
            ]
          },
          "execution_count": 23,
          "metadata": {},
          "output_type": "execute_result"
        }
      ],
      "source": [
        "# Show as a dataframe\n",
        "pd.set_option(\"display.max_columns\", None)\n",
        "pd.DataFrame(\n",
        "    bow.todense(),              # Feature matrix\n",
        "    columns=feature_names,      # n-grams\n",
        "    index= ['s1', 's2', 's3', 's4']\n",
        "    )"
      ]
    },
    {
      "cell_type": "markdown",
      "metadata": {
        "id": "v7tNGrTutQ2r"
      },
      "source": [
        "### TF-IDF Representation\n",
        "\n",
        "**TF-IDF** emphasizes important words. It is the product of term frequency (TF) and inverse document frequency (IDF):\n",
        "- **Term Frequency** identifies tokens that appear frequently in a document: TF(token, document) = number of times token appears in document / total number of tokens in document\n",
        "- **Inverse Document Frequency** identifies words that appear rarely in the corpus: IDF(token, corpus) = log( total number of documents in corpus / number of documents containing token )\n",
        "\n",
        "Note that the IDF value for a token remains the same throughout all the documents as it depends upon the total number of documents. On the other hand, TF values of a token differ from document to document.\n",
        "\n",
        "The goal of using TF-IDF instead of the raw frequencies of occurrence of a token in a given document is to scale down the impact of tokens that occur very frequently in a given corpus since those are less informative than tokens that occur in a small fraction of the corpus.\n",
        "\n",
        "Ok, let's implement TD-IDF. We are using the `TfidfVectorizer` class of sklearn ([Documentation](https://scikit-learn.org/stable/modules/generated/sklearn.feature_extraction.text.TfidfVectorizer.html#sklearn.feature_extraction.text.TfidfVectorizer)):"
      ]
    },
    {
      "cell_type": "code",
      "execution_count": 64,
      "metadata": {
        "id": "djkUI6hXtWlr"
      },
      "outputs": [
        {
          "data": {
            "text/html": [
              "<div>\n",
              "<style scoped>\n",
              "    .dataframe tbody tr th:only-of-type {\n",
              "        vertical-align: middle;\n",
              "    }\n",
              "\n",
              "    .dataframe tbody tr th {\n",
              "        vertical-align: top;\n",
              "    }\n",
              "\n",
              "    .dataframe thead th {\n",
              "        text-align: right;\n",
              "    }\n",
              "</style>\n",
              "<table border=\"1\" class=\"dataframe\">\n",
              "  <thead>\n",
              "    <tr style=\"text-align: right;\">\n",
              "      <th></th>\n",
              "      <th>adapted</th>\n",
              "      <th>benefit</th>\n",
              "      <th>benefits</th>\n",
              "      <th>biological</th>\n",
              "      <th>causing</th>\n",
              "      <th>close</th>\n",
              "      <th>commensalism</th>\n",
              "      <th>describes</th>\n",
              "      <th>different</th>\n",
              "      <th>ecological</th>\n",
              "      <th>gain</th>\n",
              "      <th>harm</th>\n",
              "      <th>harmed</th>\n",
              "      <th>host</th>\n",
              "      <th>inside</th>\n",
              "      <th>interaction</th>\n",
              "      <th>life</th>\n",
              "      <th>lives</th>\n",
              "      <th>long</th>\n",
              "      <th>members</th>\n",
              "      <th>mutualism</th>\n",
              "      <th>net</th>\n",
              "      <th>organism</th>\n",
              "      <th>organisms</th>\n",
              "      <th>parasite</th>\n",
              "      <th>parasitism</th>\n",
              "      <th>relationship</th>\n",
              "      <th>species</th>\n",
              "      <th>structurally</th>\n",
              "      <th>symbiosis</th>\n",
              "      <th>term</th>\n",
              "      <th>type</th>\n",
              "      <th>way</th>\n",
              "    </tr>\n",
              "  </thead>\n",
              "  <tbody>\n",
              "    <tr>\n",
              "      <th>s1</th>\n",
              "      <td>0.000000</td>\n",
              "      <td>0.000000</td>\n",
              "      <td>0.000000</td>\n",
              "      <td>0.536059</td>\n",
              "      <td>0.000000</td>\n",
              "      <td>0.268030</td>\n",
              "      <td>0.000000</td>\n",
              "      <td>0.000000</td>\n",
              "      <td>0.339962</td>\n",
              "      <td>0.000000</td>\n",
              "      <td>0.000000</td>\n",
              "      <td>0.000000</td>\n",
              "      <td>0.000000</td>\n",
              "      <td>0.000000</td>\n",
              "      <td>0.000000</td>\n",
              "      <td>0.216993</td>\n",
              "      <td>0.000000</td>\n",
              "      <td>0.000000</td>\n",
              "      <td>0.268030</td>\n",
              "      <td>0.000000</td>\n",
              "      <td>0.000000</td>\n",
              "      <td>0.000000</td>\n",
              "      <td>0.000000</td>\n",
              "      <td>0.339962</td>\n",
              "      <td>0.000000</td>\n",
              "      <td>0.000000</td>\n",
              "      <td>0.000000</td>\n",
              "      <td>0.177406</td>\n",
              "      <td>0.000000</td>\n",
              "      <td>0.268030</td>\n",
              "      <td>0.268030</td>\n",
              "      <td>0.339962</td>\n",
              "      <td>0.000000</td>\n",
              "    </tr>\n",
              "    <tr>\n",
              "      <th>s2</th>\n",
              "      <td>0.000000</td>\n",
              "      <td>0.318741</td>\n",
              "      <td>0.000000</td>\n",
              "      <td>0.000000</td>\n",
              "      <td>0.000000</td>\n",
              "      <td>0.000000</td>\n",
              "      <td>0.000000</td>\n",
              "      <td>0.404283</td>\n",
              "      <td>0.000000</td>\n",
              "      <td>0.404283</td>\n",
              "      <td>0.000000</td>\n",
              "      <td>0.000000</td>\n",
              "      <td>0.000000</td>\n",
              "      <td>0.000000</td>\n",
              "      <td>0.000000</td>\n",
              "      <td>0.258049</td>\n",
              "      <td>0.000000</td>\n",
              "      <td>0.000000</td>\n",
              "      <td>0.000000</td>\n",
              "      <td>0.000000</td>\n",
              "      <td>0.404283</td>\n",
              "      <td>0.404283</td>\n",
              "      <td>0.000000</td>\n",
              "      <td>0.000000</td>\n",
              "      <td>0.000000</td>\n",
              "      <td>0.000000</td>\n",
              "      <td>0.000000</td>\n",
              "      <td>0.421943</td>\n",
              "      <td>0.000000</td>\n",
              "      <td>0.000000</td>\n",
              "      <td>0.000000</td>\n",
              "      <td>0.000000</td>\n",
              "      <td>0.000000</td>\n",
              "    </tr>\n",
              "    <tr>\n",
              "      <th>s3</th>\n",
              "      <td>0.000000</td>\n",
              "      <td>0.254397</td>\n",
              "      <td>0.322671</td>\n",
              "      <td>0.254397</td>\n",
              "      <td>0.000000</td>\n",
              "      <td>0.000000</td>\n",
              "      <td>0.322671</td>\n",
              "      <td>0.000000</td>\n",
              "      <td>0.000000</td>\n",
              "      <td>0.000000</td>\n",
              "      <td>0.322671</td>\n",
              "      <td>0.000000</td>\n",
              "      <td>0.322671</td>\n",
              "      <td>0.000000</td>\n",
              "      <td>0.000000</td>\n",
              "      <td>0.205956</td>\n",
              "      <td>0.000000</td>\n",
              "      <td>0.000000</td>\n",
              "      <td>0.254397</td>\n",
              "      <td>0.322671</td>\n",
              "      <td>0.000000</td>\n",
              "      <td>0.000000</td>\n",
              "      <td>0.000000</td>\n",
              "      <td>0.000000</td>\n",
              "      <td>0.000000</td>\n",
              "      <td>0.000000</td>\n",
              "      <td>0.000000</td>\n",
              "      <td>0.336766</td>\n",
              "      <td>0.000000</td>\n",
              "      <td>0.254397</td>\n",
              "      <td>0.254397</td>\n",
              "      <td>0.000000</td>\n",
              "      <td>0.000000</td>\n",
              "    </tr>\n",
              "    <tr>\n",
              "      <th>s4</th>\n",
              "      <td>0.243296</td>\n",
              "      <td>0.000000</td>\n",
              "      <td>0.000000</td>\n",
              "      <td>0.000000</td>\n",
              "      <td>0.243296</td>\n",
              "      <td>0.191817</td>\n",
              "      <td>0.000000</td>\n",
              "      <td>0.000000</td>\n",
              "      <td>0.000000</td>\n",
              "      <td>0.000000</td>\n",
              "      <td>0.000000</td>\n",
              "      <td>0.243296</td>\n",
              "      <td>0.000000</td>\n",
              "      <td>0.243296</td>\n",
              "      <td>0.243296</td>\n",
              "      <td>0.000000</td>\n",
              "      <td>0.243296</td>\n",
              "      <td>0.243296</td>\n",
              "      <td>0.000000</td>\n",
              "      <td>0.000000</td>\n",
              "      <td>0.000000</td>\n",
              "      <td>0.000000</td>\n",
              "      <td>0.486592</td>\n",
              "      <td>0.000000</td>\n",
              "      <td>0.243296</td>\n",
              "      <td>0.243296</td>\n",
              "      <td>0.243296</td>\n",
              "      <td>0.126962</td>\n",
              "      <td>0.243296</td>\n",
              "      <td>0.000000</td>\n",
              "      <td>0.000000</td>\n",
              "      <td>0.000000</td>\n",
              "      <td>0.243296</td>\n",
              "    </tr>\n",
              "  </tbody>\n",
              "</table>\n",
              "</div>"
            ],
            "text/plain": [
              "     adapted   benefit  benefits  biological   causing     close  \\\n",
              "s1  0.000000  0.000000  0.000000    0.536059  0.000000  0.268030   \n",
              "s2  0.000000  0.318741  0.000000    0.000000  0.000000  0.000000   \n",
              "s3  0.000000  0.254397  0.322671    0.254397  0.000000  0.000000   \n",
              "s4  0.243296  0.000000  0.000000    0.000000  0.243296  0.191817   \n",
              "\n",
              "    commensalism  describes  different  ecological      gain      harm  \\\n",
              "s1      0.000000   0.000000   0.339962    0.000000  0.000000  0.000000   \n",
              "s2      0.000000   0.404283   0.000000    0.404283  0.000000  0.000000   \n",
              "s3      0.322671   0.000000   0.000000    0.000000  0.322671  0.000000   \n",
              "s4      0.000000   0.000000   0.000000    0.000000  0.000000  0.243296   \n",
              "\n",
              "      harmed      host    inside  interaction      life     lives      long  \\\n",
              "s1  0.000000  0.000000  0.000000     0.216993  0.000000  0.000000  0.268030   \n",
              "s2  0.000000  0.000000  0.000000     0.258049  0.000000  0.000000  0.000000   \n",
              "s3  0.322671  0.000000  0.000000     0.205956  0.000000  0.000000  0.254397   \n",
              "s4  0.000000  0.243296  0.243296     0.000000  0.243296  0.243296  0.000000   \n",
              "\n",
              "     members  mutualism       net  organism  organisms  parasite  parasitism  \\\n",
              "s1  0.000000   0.000000  0.000000  0.000000   0.339962  0.000000    0.000000   \n",
              "s2  0.000000   0.404283  0.404283  0.000000   0.000000  0.000000    0.000000   \n",
              "s3  0.322671   0.000000  0.000000  0.000000   0.000000  0.000000    0.000000   \n",
              "s4  0.000000   0.000000  0.000000  0.486592   0.000000  0.243296    0.243296   \n",
              "\n",
              "    relationship   species  structurally  symbiosis      term      type  \\\n",
              "s1      0.000000  0.177406      0.000000   0.268030  0.268030  0.339962   \n",
              "s2      0.000000  0.421943      0.000000   0.000000  0.000000  0.000000   \n",
              "s3      0.000000  0.336766      0.000000   0.254397  0.254397  0.000000   \n",
              "s4      0.243296  0.126962      0.243296   0.000000  0.000000  0.000000   \n",
              "\n",
              "         way  \n",
              "s1  0.000000  \n",
              "s2  0.000000  \n",
              "s3  0.000000  \n",
              "s4  0.243296  "
            ]
          },
          "metadata": {},
          "output_type": "display_data"
        }
      ],
      "source": [
        "# Sentences (as strings, not spaCy objects)\n",
        "s1 = \"Symbiosis is any type of a close and long-term biological interaction between two biological organisms of different species.\"\n",
        "s2 = \"Mutualism describes the ecological interaction between two or more species where each species has a net benefit.\"\n",
        "s3 = \"Commensalism is a long-term biological interaction (symbiosis) in which members of one species gain benefits while those of the other species neither benefit nor are harmed.\"\n",
        "s4 = \"Parasitism is a close relationship between species, where one organism, the parasite, lives on or inside another organism, the host, causing it some harm, and is adapted structurally to this way of life.\"\n",
        "\n",
        "texts = [s1, s2, s3, s4]\n",
        "\n",
        "# Using default tokenizer in TfidfVectorizer\n",
        "tfidf = TfidfVectorizer(ngram_range=(1, 1), stop_words=\"english\")\n",
        "\n",
        "# Learn the vocabulary dictionary and return document-term matrix\n",
        "features = tfidf.fit_transform(texts)\n",
        "\n",
        "# Visualize result in dataframe\n",
        "tfidf_df = pd.DataFrame(\n",
        "    features.todense(),\n",
        "    columns=tfidf.get_feature_names_out(),\n",
        "    index = ['s1', 's2', 's3', 's4']\n",
        ")\n",
        "\n",
        "display(tfidf_df)   "
      ]
    },
    {
      "cell_type": "markdown",
      "metadata": {},
      "source": [
        "It's now possible to calculate the summed TF-IDF value for each term. This gives us an indication of the importance or relevance of each word across the different sentences.\n",
        "\n",
        " The higher the summed TF-IDF value, the more frequently and uniquely the term appears within the documents. This helps identify key terms that stand out and may hold significant meaning in the sentences."
      ]
    },
    {
      "cell_type": "code",
      "execution_count": 67,
      "metadata": {},
      "outputs": [
        {
          "name": "stdout",
          "output_type": "stream",
          "text": [
            "species         1.063077\n",
            "biological      0.790456\n",
            "interaction     0.680998\n",
            "benefit         0.573138\n",
            "long            0.522427\n",
            "symbiosis       0.522427\n",
            "term            0.522427\n",
            "organism        0.486592\n",
            "close           0.459847\n",
            "net             0.404283\n",
            "mutualism       0.404283\n",
            "ecological      0.404283\n",
            "describes       0.404283\n",
            "organisms       0.339962\n",
            "type            0.339962\n",
            "different       0.339962\n",
            "members         0.322671\n",
            "harmed          0.322671\n",
            "commensalism    0.322671\n",
            "benefits        0.322671\n",
            "gain            0.322671\n",
            "adapted         0.243296\n",
            "structurally    0.243296\n",
            "parasitism      0.243296\n",
            "relationship    0.243296\n",
            "life            0.243296\n",
            "parasite        0.243296\n",
            "lives           0.243296\n",
            "inside          0.243296\n",
            "host            0.243296\n",
            "harm            0.243296\n",
            "causing         0.243296\n",
            "way             0.243296\n",
            "dtype: float64\n"
          ]
        }
      ],
      "source": [
        "tfidf_score_per_word = tfidf_df.sum(axis=0).sort_values(ascending=False)\n",
        "print(tfidf_score_per_word)"
      ]
    },
    {
      "cell_type": "markdown",
      "metadata": {},
      "source": [
        "Another interesting metric to calculate is the sum of all the token TF-IDF values across a single sentence.\n",
        "\n",
        "This tells us the overall importance or uniqueness of the sentence within the context of the entire dataset. A higher summed TF-IDF score for a sentence indicates that the sentence contains more unique or significant terms, making it stand out compared to other sentences.\n",
        "\n"
      ]
    },
    {
      "cell_type": "code",
      "execution_count": 68,
      "metadata": {},
      "outputs": [
        {
          "name": "stdout",
          "output_type": "stream",
          "text": [
            "s4    3.724923\n",
            "s3    3.428060\n",
            "s1    3.022462\n",
            "s2    2.615865\n",
            "dtype: float64\n"
          ]
        }
      ],
      "source": [
        "tfidf_score_per_sentence = tfidf_df.sum(axis=1).sort_values(ascending=False)\n",
        "print(tfidf_score_per_sentence)"
      ]
    },
    {
      "cell_type": "markdown",
      "metadata": {
        "id": "IcrRL3rRqgBy"
      },
      "source": [
        "### Your turn! <a id = \"Your-turn-Representation\"></a>\n",
        "\n",
        "- Create a TF-IDF Representation of the three sentences below using bigrams"
      ]
    },
    {
      "cell_type": "code",
      "execution_count": 25,
      "metadata": {
        "id": "0gq4mpedRl8w"
      },
      "outputs": [],
      "source": [
        "# Sentences\n",
        "s1 = \"Information systems are structured arrangements of people, data, processes, and technology that work together to collect, process, store, and disseminate information within an organization.\"\n",
        "s2 = \"Information systems encompass various components, such as hardware, software, databases, networks, and human resources, all working in synergy to manage and distribute information effectively.\"\n",
        "s3 = \"Information systems come in different types, including transaction processing systems, management information systems, decision support systems, and executive information systems, tailored to specific organizational needs.\""
      ]
    },
    {
      "cell_type": "code",
      "execution_count": 26,
      "metadata": {
        "id": "fzo8uviDrTLm"
      },
      "outputs": [
        {
          "data": {
            "text/html": [
              "<div>\n",
              "<style scoped>\n",
              "    .dataframe tbody tr th:only-of-type {\n",
              "        vertical-align: middle;\n",
              "    }\n",
              "\n",
              "    .dataframe tbody tr th {\n",
              "        vertical-align: top;\n",
              "    }\n",
              "\n",
              "    .dataframe thead th {\n",
              "        text-align: right;\n",
              "    }\n",
              "</style>\n",
              "<table border=\"1\" class=\"dataframe\">\n",
              "  <thead>\n",
              "    <tr style=\"text-align: right;\">\n",
              "      <th></th>\n",
              "      <th>arrangements people</th>\n",
              "      <th>collect process</th>\n",
              "      <th>come different</th>\n",
              "      <th>components hardware</th>\n",
              "      <th>data processes</th>\n",
              "      <th>databases networks</th>\n",
              "      <th>decision support</th>\n",
              "      <th>different types</th>\n",
              "      <th>disseminate information</th>\n",
              "      <th>distribute information</th>\n",
              "      <th>encompass various</th>\n",
              "      <th>executive information</th>\n",
              "      <th>hardware software</th>\n",
              "      <th>human resources</th>\n",
              "      <th>including transaction</th>\n",
              "      <th>information effectively</th>\n",
              "      <th>information organization</th>\n",
              "      <th>information systems</th>\n",
              "      <th>manage distribute</th>\n",
              "      <th>management information</th>\n",
              "      <th>networks human</th>\n",
              "      <th>organizational needs</th>\n",
              "      <th>people data</th>\n",
              "      <th>process store</th>\n",
              "      <th>processes technology</th>\n",
              "      <th>processing systems</th>\n",
              "      <th>resources working</th>\n",
              "      <th>software databases</th>\n",
              "      <th>specific organizational</th>\n",
              "      <th>store disseminate</th>\n",
              "      <th>structured arrangements</th>\n",
              "      <th>support systems</th>\n",
              "      <th>synergy manage</th>\n",
              "      <th>systems come</th>\n",
              "      <th>systems decision</th>\n",
              "      <th>systems encompass</th>\n",
              "      <th>systems executive</th>\n",
              "      <th>systems management</th>\n",
              "      <th>systems structured</th>\n",
              "      <th>systems tailored</th>\n",
              "      <th>tailored specific</th>\n",
              "      <th>technology work</th>\n",
              "      <th>transaction processing</th>\n",
              "      <th>types including</th>\n",
              "      <th>various components</th>\n",
              "      <th>work collect</th>\n",
              "      <th>working synergy</th>\n",
              "    </tr>\n",
              "  </thead>\n",
              "  <tbody>\n",
              "    <tr>\n",
              "      <th>s1</th>\n",
              "      <td>0.273702</td>\n",
              "      <td>0.273702</td>\n",
              "      <td>0.000000</td>\n",
              "      <td>0.000000</td>\n",
              "      <td>0.273702</td>\n",
              "      <td>0.000000</td>\n",
              "      <td>0.000000</td>\n",
              "      <td>0.000000</td>\n",
              "      <td>0.273702</td>\n",
              "      <td>0.000000</td>\n",
              "      <td>0.000000</td>\n",
              "      <td>0.000000</td>\n",
              "      <td>0.000000</td>\n",
              "      <td>0.000000</td>\n",
              "      <td>0.000000</td>\n",
              "      <td>0.000000</td>\n",
              "      <td>0.273702</td>\n",
              "      <td>0.161653</td>\n",
              "      <td>0.000000</td>\n",
              "      <td>0.000000</td>\n",
              "      <td>0.000000</td>\n",
              "      <td>0.000000</td>\n",
              "      <td>0.273702</td>\n",
              "      <td>0.273702</td>\n",
              "      <td>0.273702</td>\n",
              "      <td>0.000000</td>\n",
              "      <td>0.000000</td>\n",
              "      <td>0.000000</td>\n",
              "      <td>0.000000</td>\n",
              "      <td>0.273702</td>\n",
              "      <td>0.273702</td>\n",
              "      <td>0.000000</td>\n",
              "      <td>0.000000</td>\n",
              "      <td>0.000000</td>\n",
              "      <td>0.000000</td>\n",
              "      <td>0.000000</td>\n",
              "      <td>0.000000</td>\n",
              "      <td>0.000000</td>\n",
              "      <td>0.273702</td>\n",
              "      <td>0.000000</td>\n",
              "      <td>0.000000</td>\n",
              "      <td>0.273702</td>\n",
              "      <td>0.000000</td>\n",
              "      <td>0.000000</td>\n",
              "      <td>0.000000</td>\n",
              "      <td>0.273702</td>\n",
              "      <td>0.000000</td>\n",
              "    </tr>\n",
              "    <tr>\n",
              "      <th>s2</th>\n",
              "      <td>0.000000</td>\n",
              "      <td>0.000000</td>\n",
              "      <td>0.000000</td>\n",
              "      <td>0.255248</td>\n",
              "      <td>0.000000</td>\n",
              "      <td>0.255248</td>\n",
              "      <td>0.000000</td>\n",
              "      <td>0.000000</td>\n",
              "      <td>0.000000</td>\n",
              "      <td>0.255248</td>\n",
              "      <td>0.255248</td>\n",
              "      <td>0.000000</td>\n",
              "      <td>0.255248</td>\n",
              "      <td>0.255248</td>\n",
              "      <td>0.000000</td>\n",
              "      <td>0.255248</td>\n",
              "      <td>0.000000</td>\n",
              "      <td>0.150754</td>\n",
              "      <td>0.255248</td>\n",
              "      <td>0.000000</td>\n",
              "      <td>0.255248</td>\n",
              "      <td>0.000000</td>\n",
              "      <td>0.000000</td>\n",
              "      <td>0.000000</td>\n",
              "      <td>0.000000</td>\n",
              "      <td>0.000000</td>\n",
              "      <td>0.255248</td>\n",
              "      <td>0.255248</td>\n",
              "      <td>0.000000</td>\n",
              "      <td>0.000000</td>\n",
              "      <td>0.000000</td>\n",
              "      <td>0.000000</td>\n",
              "      <td>0.255248</td>\n",
              "      <td>0.000000</td>\n",
              "      <td>0.000000</td>\n",
              "      <td>0.255248</td>\n",
              "      <td>0.000000</td>\n",
              "      <td>0.000000</td>\n",
              "      <td>0.000000</td>\n",
              "      <td>0.000000</td>\n",
              "      <td>0.000000</td>\n",
              "      <td>0.000000</td>\n",
              "      <td>0.000000</td>\n",
              "      <td>0.000000</td>\n",
              "      <td>0.255248</td>\n",
              "      <td>0.000000</td>\n",
              "      <td>0.255248</td>\n",
              "    </tr>\n",
              "    <tr>\n",
              "      <th>s3</th>\n",
              "      <td>0.000000</td>\n",
              "      <td>0.000000</td>\n",
              "      <td>0.217497</td>\n",
              "      <td>0.000000</td>\n",
              "      <td>0.000000</td>\n",
              "      <td>0.000000</td>\n",
              "      <td>0.217497</td>\n",
              "      <td>0.217497</td>\n",
              "      <td>0.000000</td>\n",
              "      <td>0.000000</td>\n",
              "      <td>0.000000</td>\n",
              "      <td>0.217497</td>\n",
              "      <td>0.000000</td>\n",
              "      <td>0.000000</td>\n",
              "      <td>0.217497</td>\n",
              "      <td>0.000000</td>\n",
              "      <td>0.000000</td>\n",
              "      <td>0.385372</td>\n",
              "      <td>0.000000</td>\n",
              "      <td>0.217497</td>\n",
              "      <td>0.000000</td>\n",
              "      <td>0.217497</td>\n",
              "      <td>0.000000</td>\n",
              "      <td>0.000000</td>\n",
              "      <td>0.000000</td>\n",
              "      <td>0.217497</td>\n",
              "      <td>0.000000</td>\n",
              "      <td>0.000000</td>\n",
              "      <td>0.217497</td>\n",
              "      <td>0.000000</td>\n",
              "      <td>0.000000</td>\n",
              "      <td>0.217497</td>\n",
              "      <td>0.000000</td>\n",
              "      <td>0.217497</td>\n",
              "      <td>0.217497</td>\n",
              "      <td>0.000000</td>\n",
              "      <td>0.217497</td>\n",
              "      <td>0.217497</td>\n",
              "      <td>0.000000</td>\n",
              "      <td>0.217497</td>\n",
              "      <td>0.217497</td>\n",
              "      <td>0.000000</td>\n",
              "      <td>0.217497</td>\n",
              "      <td>0.217497</td>\n",
              "      <td>0.000000</td>\n",
              "      <td>0.000000</td>\n",
              "      <td>0.000000</td>\n",
              "    </tr>\n",
              "  </tbody>\n",
              "</table>\n",
              "</div>"
            ],
            "text/plain": [
              "    arrangements people  collect process  come different  components hardware  \\\n",
              "s1             0.273702         0.273702        0.000000             0.000000   \n",
              "s2             0.000000         0.000000        0.000000             0.255248   \n",
              "s3             0.000000         0.000000        0.217497             0.000000   \n",
              "\n",
              "    data processes  databases networks  decision support  different types  \\\n",
              "s1        0.273702            0.000000          0.000000         0.000000   \n",
              "s2        0.000000            0.255248          0.000000         0.000000   \n",
              "s3        0.000000            0.000000          0.217497         0.217497   \n",
              "\n",
              "    disseminate information  distribute information  encompass various  \\\n",
              "s1                 0.273702                0.000000           0.000000   \n",
              "s2                 0.000000                0.255248           0.255248   \n",
              "s3                 0.000000                0.000000           0.000000   \n",
              "\n",
              "    executive information  hardware software  human resources  \\\n",
              "s1               0.000000           0.000000         0.000000   \n",
              "s2               0.000000           0.255248         0.255248   \n",
              "s3               0.217497           0.000000         0.000000   \n",
              "\n",
              "    including transaction  information effectively  information organization  \\\n",
              "s1               0.000000                 0.000000                  0.273702   \n",
              "s2               0.000000                 0.255248                  0.000000   \n",
              "s3               0.217497                 0.000000                  0.000000   \n",
              "\n",
              "    information systems  manage distribute  management information  \\\n",
              "s1             0.161653           0.000000                0.000000   \n",
              "s2             0.150754           0.255248                0.000000   \n",
              "s3             0.385372           0.000000                0.217497   \n",
              "\n",
              "    networks human  organizational needs  people data  process store  \\\n",
              "s1        0.000000              0.000000     0.273702       0.273702   \n",
              "s2        0.255248              0.000000     0.000000       0.000000   \n",
              "s3        0.000000              0.217497     0.000000       0.000000   \n",
              "\n",
              "    processes technology  processing systems  resources working  \\\n",
              "s1              0.273702            0.000000           0.000000   \n",
              "s2              0.000000            0.000000           0.255248   \n",
              "s3              0.000000            0.217497           0.000000   \n",
              "\n",
              "    software databases  specific organizational  store disseminate  \\\n",
              "s1            0.000000                 0.000000           0.273702   \n",
              "s2            0.255248                 0.000000           0.000000   \n",
              "s3            0.000000                 0.217497           0.000000   \n",
              "\n",
              "    structured arrangements  support systems  synergy manage  systems come  \\\n",
              "s1                 0.273702         0.000000        0.000000      0.000000   \n",
              "s2                 0.000000         0.000000        0.255248      0.000000   \n",
              "s3                 0.000000         0.217497        0.000000      0.217497   \n",
              "\n",
              "    systems decision  systems encompass  systems executive  \\\n",
              "s1          0.000000           0.000000           0.000000   \n",
              "s2          0.000000           0.255248           0.000000   \n",
              "s3          0.217497           0.000000           0.217497   \n",
              "\n",
              "    systems management  systems structured  systems tailored  \\\n",
              "s1            0.000000            0.273702          0.000000   \n",
              "s2            0.000000            0.000000          0.000000   \n",
              "s3            0.217497            0.000000          0.217497   \n",
              "\n",
              "    tailored specific  technology work  transaction processing  \\\n",
              "s1           0.000000         0.273702                0.000000   \n",
              "s2           0.000000         0.000000                0.000000   \n",
              "s3           0.217497         0.000000                0.217497   \n",
              "\n",
              "    types including  various components  work collect  working synergy  \n",
              "s1         0.000000            0.000000      0.273702         0.000000  \n",
              "s2         0.000000            0.255248      0.000000         0.255248  \n",
              "s3         0.217497            0.000000      0.000000         0.000000  "
            ]
          },
          "execution_count": 26,
          "metadata": {},
          "output_type": "execute_result"
        }
      ],
      "source": [
        "# YOUR CODE HERE\n",
        "text = [s1, s2, s3]\n",
        "\n",
        "# Vectorization\n",
        "tfidf = TfidfVectorizer(ngram_range=(2, 2), stop_words=\"english\")\n",
        "features = tfidf.fit_transform(text)\n",
        "\n",
        "# Visualize in dataframe\n",
        "pd.set_option(\"display.max_columns\", None)\n",
        "pd.DataFrame(features.todense(),\n",
        "             columns=tfidf.get_feature_names_out(),\n",
        "             index = ['s1', 's2', 's3']\n",
        "            )"
      ]
    },
    {
      "cell_type": "markdown",
      "metadata": {
        "id": "Tkm6F65kUzR_"
      },
      "source": [
        "## Introduction to Gensim and Word Embedding\n",
        "\n",
        "With BOW and TF-IDF, similar sentences/words have a completely different representation. Thus, sentences with different words but same meaning/semantics will be very distant.\n",
        "\n",
        "In the following, we illustrate how we can find out the relations between words in a dataset, compute the similarity between them, or use the vector representation of those words as input for other applications such as text classification or clustering.\n",
        "\n",
        "We will use the [Gensim](https://pypi.org/project/gensim/) library. Gensim stands for \"Generate Similar\". It is a popular open-source natural language processing (NLP) library used for unsupervised topic modeling. A complete tutorial can be found [here](https://www.tutorialspoint.com/gensim/gensim_introduction.htm)."
      ]
    },
    {
      "cell_type": "markdown",
      "metadata": {
        "id": "r-lFcpJJPXAq"
      },
      "source": [
        "### Background\n",
        "\n",
        "Word embedding approaches use deep learning and neural network-based techniques to convert words into corresponding vectors so that semantically similar vectors are close to each other in an N-dimensional space, where N refers to the dimensions of the vectors. The underlying assumption is that two words sharing similar contexts also share a similar meaning and consequently a similar vector representation from the model.\n",
        "\n",
        "Two word embedding methods:\n",
        "- [Word2vec](https://en.wikipedia.org/wiki/Word2vec), by Google\n",
        "- [GloVe](https://en.wikipedia.org/wiki/GloVe) (Global vectors for Word Representation), by Stanford\n",
        "\n",
        "Word2vec gives astonishing results. Its ability to maintain a semantic relationship is reflected in a classic example where if you have a vector for the word \"King\" and you remove the vector represented by the word \"Man\" from the \"King\" and add \"Woman\", you get a vector that is close to the vector \"Queen\":\n",
        "- King - Man + Woman = Queen\n",
        "\n",
        "Second example: \"dog\", \"puppy\" and \"pup\" are often used in similar situations, with similar surrounding words like \"good\", \"fluffy\" or \"cute\", and according to Word2vec they will therefore share a similar vector representation.\n",
        "\n",
        "In real applications, Word2vec models are created from billions of documents. For example, [Google's Word2Vec model](https://code.google.com/archive/p/word2vec/) is formed from 3 million words and phrases.\n",
        "\n",
        "GloVe is an extension of Word2vec. More information [here](https://nlp.stanford.edu/projects/glove/).\n",
        "\n",
        "Recently, more advanced models have been developed, such as [BERT](https://en.wikipedia.org/wiki/BERT_(language_model)) - Bidirectional Encoder Representations from Transformers-  and [GPT-3](https://en.wikipedia.org/wiki/GPT-3) - Generative Pre-trained Transformer 3. While Word2vec models represent tokens (word) with a single vector, BERT generates different output vectors for a same word when used in different context. You can find further readings on the topic at the end of this notebook."
      ]
    },
    {
      "cell_type": "markdown",
      "metadata": {
        "id": "2dr0Qae5Rr99"
      },
      "source": [
        "### Implementing Word2vec with Gensim\n",
        "\n",
        "We will implement Word2vec using the Gensim library. We are going to use a corpus of text extracted from Wikipedia by web scrapping. We first define a function to retrieve texts from a Wikipedia url:"
      ]
    },
    {
      "cell_type": "code",
      "execution_count": 27,
      "metadata": {
        "id": "4ONCENA5RHYX"
      },
      "outputs": [],
      "source": [
        "# Get texts from Wikipedia\n",
        "def get_text(url):\n",
        "    # Retrieve data\n",
        "    scrapped_data = urllib.request.urlopen(url)\n",
        "    article = scrapped_data.read()\n",
        "    # Parse data: # The text is contained in the HTML tag 'p'\n",
        "    parsed_article = bs.BeautifulSoup(article,'lxml')\n",
        "    paragraphs = parsed_article.find_all('p')\n",
        "    # Create a string with all the paragraphs\n",
        "    article_text = \"\"\n",
        "    for p in paragraphs:\n",
        "        article_text += p.text\n",
        "    return article_text"
      ]
    },
    {
      "cell_type": "markdown",
      "metadata": {
        "id": "-LQ7fpc3Rr99"
      },
      "source": [
        "Let's get the Wikipedia articles on [Machine Learning](https://en.wikipedia.org/wiki/Machine_learning) and on [Artificial Intelligence](https://en.wikipedia.org/wiki/Artificial_intelligence). This will be our corpus of documents."
      ]
    },
    {
      "cell_type": "code",
      "execution_count": 28,
      "metadata": {
        "id": "gzkzK_YHRr99"
      },
      "outputs": [
        {
          "name": "stdout",
          "output_type": "stream",
          "text": [
            "Machine learning (ML) is a field of study in artificial intelligence concerned with the development and study of statistical algorithms that can learn from data and generalize to unseen data, and thus perform tasks without explicit instructions.[1] Quick progress in the field of deep learning, beginning in 2010s, allowed neural networks to surpass many previous approaches in performance.[2]\n",
            "ML finds application in many fields, including natural language processing, computer vision, speech recognition, email filtering, agriculture, and medicine.[3][4] The application of ML to business problems is known as predictive analytics.\n",
            "Statistics and mathematical optimization (mathematical programming) met\n",
            "\n",
            "Artificial intelligence (AI), in its broadest sense, is intelligence exhibited by machines, particularly computer systems. It is a field of research in computer science that develops and studies methods and software that enable machines to perceive their environment and use learning and intelligence to take actions that maximize their chances of achieving defined goals.[1] Such machines may be called AIs.\n",
            "Some high-profile applications of AI include advanced web search engines (e.g., Google Search); recommendation systems (used by YouTube, Amazon, and Netflix); interacting via human speech (e.g., Google Assistant, Siri, and Alexa); autonomous vehicles (e.g., Waymo); generative and creative tools (e.g., ChatGPT, and AI art); and su\n"
          ]
        }
      ],
      "source": [
        "# Get articles\n",
        "machine_learning = get_text(\"https://en.wikipedia.org/wiki/Machine_learning\")\n",
        "ai = get_text(\"https://en.wikipedia.org/wiki/Artificial_intelligence\")\n",
        "\n",
        "print(machine_learning[:705])\n",
        "print(ai[:741])\n",
        "\n",
        "# Group texts in list\n",
        "texts = [machine_learning, ai]"
      ]
    },
    {
      "cell_type": "markdown",
      "metadata": {
        "id": "E5pRQ4uxRr9-"
      },
      "source": [
        "Next, we preprocess out texts. We create a tokenizer function to lemmatize each token and remove stopwords."
      ]
    },
    {
      "cell_type": "code",
      "execution_count": 29,
      "metadata": {
        "id": "56Z0fduhRMb5"
      },
      "outputs": [],
      "source": [
        "# Create tokenizer function for preprocessing\n",
        "def spacy_tokenizer(text):\n",
        "\n",
        "    # Define stopwords, punctuation, and numbers\n",
        "    stop_words = spacy.lang.en.stop_words.STOP_WORDS\n",
        "    punctuations = string.punctuation +'–' + '—'\n",
        "    numbers = \"0123456789\"\n",
        "\n",
        "    # Create spacy object\n",
        "    mytokens = sp(text)\n",
        "\n",
        "    # Lemmatize each token and convert each token into lowercase\n",
        "    mytokens = ([ word.lemma_.lower().strip() for word in mytokens ])\n",
        "\n",
        "    # Remove stop words and punctuation\n",
        "    mytokens = ([ word for word in mytokens\n",
        "                 if word not in stop_words and word not in punctuations ])\n",
        "\n",
        "    # Remove sufix like \".[1\" in \"experience.[1\"\n",
        "    mytokens_2 = []\n",
        "    for word in mytokens:\n",
        "        for char in word:\n",
        "            if (char in punctuations) or (char in numbers):\n",
        "                word = word.replace(char, \"\")\n",
        "        if word != \"\":\n",
        "            mytokens_2.append(word)\n",
        "\n",
        "    # Return preprocessed list of tokens\n",
        "    return mytokens_2"
      ]
    },
    {
      "cell_type": "markdown",
      "metadata": {
        "id": "qxsHnTVARr9-"
      },
      "source": [
        "Let's apply our function to tokenize our corpus of documents:"
      ]
    },
    {
      "cell_type": "code",
      "execution_count": 30,
      "metadata": {
        "id": "ph0bwy3YRr9-"
      },
      "outputs": [
        {
          "name": "stdout",
          "output_type": "stream",
          "text": [
            "['machine', 'learning', 'ml', 'field', 'study', 'artificial', 'intelligence', 'concern', 'development', 'study', 'statistical', 'algorithm', 'learn', 'datum', 'generalize', 'unseen', 'datum', 'perform', 'task', 'explicit']\n",
            "['artificial', 'intelligence', 'ai', 'broad', 'sense', 'intelligence', 'exhibit', 'machine', 'particularly', 'computer', 'system', 'field', 'research', 'computer', 'science', 'develop', 'study', 'method', 'software', 'enable']\n"
          ]
        }
      ],
      "source": [
        "# Tokenize texts\n",
        "processed_texts = [spacy_tokenizer(text) for text in texts]\n",
        "\n",
        "for processed_text in processed_texts:\n",
        "    print(processed_text[:20])"
      ]
    },
    {
      "cell_type": "markdown",
      "metadata": {
        "id": "3poKcxyLRr9_"
      },
      "source": [
        "Now that our text is preprocessed, we can train a Word2vec model. We use the `Word2Vec` module of Gensim ([Documentation](https://radimrehurek.com/gensim/models/word2vec.html)). As input, we provide the processed texts, i.e., a list of lists of tokens. In addition, we use as parameters:\n",
        "- `min_count`: minimum number of occurence of single word in corpus to be taken into account\n",
        "- `vector_size`: dimension of the vectors representing the tokens\n",
        "\n",
        "Once the model is trained, we can access to the mapping between words and embeddings with the method `.wv`"
      ]
    },
    {
      "cell_type": "code",
      "execution_count": 31,
      "metadata": {
        "id": "MYbGv4LbRRlZ"
      },
      "outputs": [
        {
          "name": "stdout",
          "output_type": "stream",
          "text": [
            "{'ai': 0, 'learning': 1, 'use': 2, 'machine': 3, 'datum': 4, 'model': 5, 'learn': 6, 'algorithm': 7, 'intelligence': 8, 'problem': 9, 'human': 10, 'artificial': 11, 'system': 12, 'include': 13, 'network': 14, 'example': 15, 'training': 16, 'decision': 17, 'research': 18, 'set': 19, 'field': 20, 'method': 21, 'program': 22, 'neural': 23, 'input': 24, 'train': 25, 'knowledge': 26, 'base': 27, 'computer': 28, 'feature': 29, 'search': 30, 'process': 31, 'agent': 32, 'large': 33, 'theory': 34, 'find': 35, 'application': 36, 'develop': 37, 'output': 38, 'goal': 39, 'deep': 40, 'task': 41, 'image': 42, 'approach': 43, 'solve': 44, 'technique': 45, 'power': 46, 'logic': 47, 'language': 48, 'represent': 49, 'researcher': 50, 'know': 51, 'classification': 52, 'risk': 53, 'rule': 54, 'information': 55, 'bias': 56, 'new': 57, 'time': 58, 'high': 59, 'function': 60, 'term': 61, 'reasoning': 62, 'people': 63, 'tool': 64, 'increase': 65, 'neuron': 66, 'analysis': 67, 'label': 68, 'action': 69, 's': 70, 'study': 71, 'predict': 72, 'specific': 73, 'technology': 74, 'require': 75, 'world': 76, 'general': 77, 'space': 78, 'like': 79, 'test': 80, 'data': 81, 'define': 82, 'early': 83, 'google': 84, 'identify': 85, 'lead': 86, 'consider': 87, 'pattern': 88, 'signal': 89, 'perform': 90, 'real': 91, 'processing': 92, 'representation': 93, 'layer': 94, 'mathematical': 95, 'prediction': 96, 'eg': 97, 'improve': 98, 'work': 99, 'result': 100, 'form': 101, 'possible': 102, 'different': 103, 'argue': 104, 'performance': 105, 'company': 106, 'state': 107, 'begin': 108, 'provide': 109, 'tree': 110, 'typically': 111, 'way': 112, 'solution': 113, 'user': 114, 'question': 115, 'allow': 116, 'future': 117, 'software': 118, 'supervised': 119, 'generate': 120, 'computing': 121, 'situation': 122, 'symbolic': 123, 'ability': 124, 'us': 125, 'type': 126, 'game': 127, 'number': 128, 'class': 129, 'reinforcement': 130, 'text': 131, 'need': 132, 'regression': 133, 'level': 134, 'medical': 135, 'programming': 136, 'environment': 137, 'right': 138, 'object': 139, 'generative': 140, 'optimization': 141, 'recognition': 142, 'relate': 143, 'fairness': 144, 'intelligent': 145, 'report': 146, 'unsupervised': 147, 'produce': 148, 'create': 149, 'describe': 150, 'area': 151, 'behavior': 152, 'issue': 153, 'compression': 154, 'value': 155, 'scale': 156, 'target': 157, 'measure': 158, 'classify': 159, 'statistical': 160, 'apply': 161, 'mean': 162, 'order': 163, 'mind': 164, 'cluster': 165, 'job': 166, 'mining': 167, 'focus': 168, 'low': 169, 'long': 170, 'expert': 171, 'point': 172, 'build': 173, 'k': 174, 'choose': 175, 'discovery': 176, 'nuclear': 177, 'black': 178, 'design': 179, 'autonomous': 180, 'development': 181, 'reduce': 182, 'robot': 183, 'detection': 184, 'able': 185, 'variable': 186, 'vector': 187, 'step': 188, 'difficult': 189, 'speech': 190, 'dictionary': 191, 'attempt': 192, 'computational': 193, 'far': 194, 'experience': 195, 'bayesian': 196, 'fact': 197, 'certain': 198, 'recommendation': 199, 'potential': 200, 'ethical': 201, 'good': 202, 'self': 203, 'concern': 204, 'probability': 205, 'non': 206, 'definition': 207, 'video': 208, 'exist': 209, 'white': 210, 'important': 211, 'formal': 212, 'come': 213, 'privacy': 214, 'introduce': 215, 'law': 216, 'help': 217, 'play': 218, 'microsoft': 219, 'particular': 220, 'relationship': 221, 'center': 222, 'especially': 223, 'probabilistic': 224, 'weight': 225, 'government': 226, 'linear': 227, 'classifier': 228, 'theoretical': 229, 'observation': 230, 'strategy': 231, 'science': 232, 'rate': 233, 'energy': 234, 'true': 235, 'policy': 236, 'previous': 237, 'contain': 238, 'available': 239, 'capable': 240, 'explain': 241, 'inspire': 242, 'accord': 243, 'widely': 244, 'node': 245, 'pre': 246, 'outcome': 247, 'think': 248, 'common': 249, 'bad': 250, 'involve': 251, 'project': 252, 'physical': 253, 'complexity': 254, 'statement': 255, 'inference': 256, 'networks': 257, 'useful': 258, 'fit': 259, 'kind': 260, 'dimensional': 261, 'discover': 262, 'funding': 263, 'genetic': 264, 'category': 265, 'gpt': 266, 'multiple': 267, 'vision': 268, 'success': 269, 'lack': 270, 'statistic': 271, 'structure': 272, 'change': 273, 'connection': 274, 'billion': 275, 'natural': 276, 'care': 277, 'misinformation': 278, 'framework': 279, 'united': 280, 'similar': 281, 'dataset': 282, 'agree': 283, 'learner': 284, 'open': 285, 'reason': 286, 'easy': 287, 'interest': 288, 'recognize': 289, 'analyze': 290, 'benefit': 291, 'range': 292, 'employ': 293, 'popular': 294, 'case': 295, 'accuracy': 296, 'logical': 297, 'simple': 298, 'enable': 299, 'operate': 300, 'operation': 301, 'variety': 302, 'understand': 303, 'modern': 304, 'supervise': 305, 'word': 306, 'try': 307, 'negative': 308, 'successful': 309, 'hypothesis': 310, 'brain': 311, 'simulate': 312, 'complex': 313, 'response': 314, 'associate': 315, 'symbol': 316, 'safety': 317, 'person': 318, 'generation': 319, 'small': 320, 'society': 321, 'anomaly': 322, 'predictive': 323, 'engineering': 324, 'current': 325, 'sub': 326, 'sparse': 327, 'widespread': 328, 'instance': 329, 'express': 330, 'particularly': 331, 'reduction': 332, 'property': 333, 'previously': 334, 'hardware': 335, 'evaluate': 336, 'expect': 337, 'domain': 338, 'suggest': 339, 'perception': 340, 'likely': 341, 'product': 342, 'propose': 343, 'association': 344, 'view': 345, 'addition': 346, 'algorithmic': 347, 'write': 348, 'similarity': 349, 'compute': 350, 'feel': 351, 'amazon': 352, 'difficulty': 353, 'obtain': 354, 'growth': 355, 'maximize': 356, 'body': 357, 'service': 358, 'observe': 359, 'control': 360, 'combine': 361, 'plan': 362, 'receive': 363, 'professional': 364, 'emotion': 365, 'planning': 366, 'fail': 367, 'reach': 368, 'fold': 369, 'philosophy': 370, 'disease': 371, 'collection': 372, 'unit': 373, 'edge': 374, 'component': 375, 'social': 376, 'support': 377, 'belief': 378, 'assume': 379, 'estimate': 380, 'effect': 381, 'relevant': 382, 'book': 383, 'uncertain': 384, 'automate': 385, 'history': 386, 'source': 387, 'electric': 388, 'inductive': 389, 'sample': 390, 'country': 391, 'robotic': 392, 'directly': 393, 'release': 394, 'computation': 395, 'distribution': 396, 'error': 397, 'context': 398, 'local': 399, 'generalization': 400, 'academic': 401, 'machines': 402, 'exactly': 403, 'adopt': 404, 'actor': 405, 'contrast': 406, 'group': 407, 'handle': 408, 'aim': 409, 'race': 410, 'achieve': 411, 'chance': 412, 'map': 413, 'surveillance': 414, 'industry': 415, 'normal': 416, 'optimal': 417, 'internal': 418, 'look': 419, 'publish': 420, 'refer': 421, 'x': 422, 'biased': 423, 'item': 424, 'file': 425, 'military': 426, 'necessary': 427, 'ethic': 428, 'patient': 429, 'clustering': 430, 'deepmind': 431, 'unknown': 432, 'database': 433, 'european': 434, 'main': 435, 'developer': 436, 'grow': 437, 'additional': 438, 'demonstrate': 439, 'gorilla': 440, 'plant': 441, 'cause': 442, 'representative': 443, 'racist': 444, 'nature': 445, 'actually': 446, 'past': 447, 'hope': 448, 'e': 449, 'kernel': 450, 'turing': 451, 'eventually': 452, 'biological': 453, 'memory': 454, 'tend': 455, 'humanity': 456, 'parameter': 457, 'prove': 458, 'interaction': 459, 'market': 460, 'activity': 461, 'philosopher': 462, 'collect': 463, 'sensor': 464, 'rely': 465, 'concept': 466, 'russell': 467, 'st': 468, 'basis': 469, 'commercial': 470, 'proof': 471, 'matrix': 472, 'detect': 473, 'challenge': 474, 'global': 475, 'evacuation': 476, 'meta': 477, 'ture': 478, 'generally': 479, 'integrate': 480, 'manifold': 481, 'fine': 482, 'position': 483, 'transformer': 484, 'utility': 485, 'vehicle': 486, 'cost': 487, 'harm': 488, 'match': 489, 'regulatory': 490, 'ensure': 491, 'win': 492, 'positive': 493, 'dynamic': 494, 'broad': 495, 'determine': 496, 'depend': 497, 'single': 498, 'notion': 499, 'reward': 500, 'problems': 501, 'face': 502, 'firm': 503, 'chess': 504, 'idea': 505, 'thing': 506, 'device': 507, 'assumption': 508, 'factor': 509, 'usually': 510, 'key': 511, 'loss': 512, 'correctly': 513, 'forecast': 514, 'year': 515, 'embed': 516, 'netflix': 517, 'dimensionality': 518, 'content': 519, 'pass': 520, 'big': 521, 'assistant': 522, 'joint': 523, 'access': 524, 'late': 525, 'principle': 526, 'seek': 527, 'perceive': 528, 'sense': 529, 'architecture': 530, 'continue': 531, 'wide': 532, 'ml': 533, 'uncertainty': 534, 'unseen': 535, 'notably': 536, 'explicit': 537, 'incorporate': 538, 'processes': 539, 't': 540, 'cognitive': 541, 'root': 542, 'hold': 543, 'impact': 544, 'watch': 545, 'preference': 546, 'overfitte': 547, 'founder': 548, 'individual': 549, 'engineer': 550, 'interact': 551, 'pioneer': 552, 'email': 553, 'efficient': 554, 'member': 555, 'follow': 556, 'alan': 557, 'community': 558, 'separate': 559, 'conference': 560, 'major': 561, 'active': 562, 'constraint': 563, 'topic': 564, 'principal': 565, 'draw': 566, 'drive': 567, 'significant': 568, 'consequence': 569, 'advice': 570, 'external': 571, 'caa': 572, 'accurate': 573, 'paradigm': 574, 'sufficiently': 575, 'polynomial': 576, 'markov': 577, 'swarm': 578, 'consist': 579, 'effective': 580, 'fall': 581, 'central': 582, 'unsupervise': 583, 'subset': 584, 'hard': 585, 'identification': 586, 'rare': 587, 'minimize': 588, 'svm': 589, 'machinery': 590, 'replace': 591, 'day': 592, 'objective': 593, 'hidden': 594, 'discipline': 595, 'attention': 596, 'cross': 597, 'diagnosis': 598, 'ann': 599, 'pick': 600, 'philosophical': 601, 'prize': 602, 'implementation': 603, 'john': 604, 'geoffrey': 605, 'o': 606, 'hinton': 607, 'characteristic': 608, 'strong': 609, 'close': 610, 'sequence': 611, 'benchmark': 612, 'instead': 613, 'raise': 614, 'random': 615, 'making': 616, 'gain': 617, 'invest': 618, 'authoritarian': 619, 'capability': 620, 'similarly': 621, 'incomplete': 622, 'fast': 623, 'answer': 624, 'transparency': 625, 'party': 626, 'electrical': 627, 'adversarial': 628, 'demand': 629, 'tech': 630, 'believe': 631, 'discuss': 632, 'virtual': 633, 'speak': 634, 'xai': 635, 'explainable': 636, 'powerful': 637, 'premise': 638, 'copyright': 639, 'survey': 640, 'defendant': 641, 'discussion': 642, 'prevent': 643, 'present': 644, 'superintelligence': 645, 'health': 646, 'public': 647, 'states': 648, 'weapon': 649, 'union': 650, 'china': 651, 'responsible': 652, 'narrow': 653, 'gpu': 654, 'economist': 655, 'asthma': 656, 'cloud': 657, 'commission': 658, 'happen': 659, 'goals': 660, 'advanced': 661, 'scenario': 662, 'impossible': 663, 'consciousness': 664, 'chatgpt': 665, 'existential': 666, 'compas': 667, 'found': 668, 'vast': 669, 'personal': 670, 'international': 671, 'resource': 672, 'facebook': 673, 'explanation': 674, 'apple': 675, 'life': 676, 'textbook': 677, 'select': 678, 'alpha': 679, 'thousand': 680, 'champion': 681, 'pose': 682, 'kill': 683, 'chatbot': 684, 'conscious': 685, 'box': 686, 'soft': 687, 'internet': 688, 'player': 689, 'deliver': 690, 'suffer': 691, 'mathematic': 692, 'heuristic': 693, 'drug': 694, 'guide': 695, 'hand': 696, 'd': 697, 'winter': 698, 'paper': 699, 'outlier': 700, 'automation': 701, 'equal': 702, 'complete': 703, 'subfield': 704, 'speed': 705, 'century': 706, 'boom': 707, 'beat': 708, 'do': 709, 'leader': 710, 'journal': 711, 'techniques': 712, 'efficiency': 713, 'purpose': 714, 'storage': 715, 'imitate': 716, 'convince': 717, 'slow': 718, 'rarely': 719, 'recommend': 720, 'owner': 721, 'gender': 722, 'note': 723, 'advance': 724, 'march': 725, 'graphic': 726, 'aid': 727, 'die': 728, 'preserve': 729, 'digit': 730, 'core': 731, 'openai': 732, 'double': 733, 'special': 734, 'extensive': 735, 'material': 736, 'emulate': 737, 'mistake': 738, 'belong': 739, 'oppose': 740, 'run': 741, 'transfer': 742, 'necessarily': 743, 'original': 744, 'respect': 745, 'regulation': 746, 'significantly': 747, 'decrease': 748, 'criticism': 749, 'p': 750, 'deal': 751, 'youtube': 752, 'offer': 753, 'initial': 754, 'predictions': 755, 'improvement': 756, 'start': 757, 'fuzzy': 758, 'away': 759, 'branch': 760, 'finite': 761, 'counter': 762, 'yield': 763, 'choice': 764, 'backpropagation': 765, 'horn': 766, 'affect': 767, 'sensitive': 768, 'quality': 769, 'appear': 770, 'declaration': 771, 'november': 772, 'subject': 773, 'nation': 774, 'clause': 775, 'unlabeled': 776, 'institution': 777, 'short': 778, 'overall': 779, 'conventional': 780, 'selection': 781, 'c': 782, 'near': 783, 'tune': 784, 'legal': 785, 'free': 786, 'implicitly': 787, 'modeling': 788, 'specialized': 789, 'compress': 790, 'extend': 791, 'token': 792, 'potentially': 793, 'assign': 794, 'protection': 795, 'facial': 796, 'reopen': 797, 'practical': 798, 'matter': 799, 'occur': 800, 'audio': 801, 'grid': 802, 'constellation': 803, 'respond': 804, 'enormous': 805, 'others': 806, 'density': 807, 'commonsense': 808, 'wave': 809, 'difference': 810, 'relation': 811, 'online': 812, 'testing': 813, 'filter': 814, 'guess': 815, 'acquisition': 816, 'limited': 817, 'understanding': 818, 'divide': 819, 'llama': 820, 'size': 821, 'feedback': 822, 'retrieval': 823, 'line': 824, 'electricity': 825, 'event': 826, 'consumption': 827, 'examples': 828, 'deduce': 829, 'dominate': 830, 'agents': 831, 'restrict': 832, 'derive': 833, 'approximate': 834, 'majority': 835, 'arthur': 836, 'samuel': 837, 'ibm': 838, 'resolve': 839, 'send': 840, 'photos': 841, 'threshold': 842, 'british': 843, 'moral': 844, 'period': 845, 'minsky': 846, 'connect': 847, 'biases': 848, 'calculate': 849, 'assess': 850, 'fully': 851, 'team': 852, 'freely': 853, 'distribute': 854, 'adjust': 855, 'false': 856, 'prolog': 857, 'desire': 858, 'dollar': 859, 'medium': 860, 'critic': 861, 'dependent': 862, 'total': 863, 'translation': 864, 'filtering': 865, 'stuart': 866, 'picture': 867, 'statistics': 868, 'increasingly': 869, 'scientist': 870, 'evidence': 871, 'americans': 872, 'influence': 873, 'protein': 874, 'comprise': 875, 'foundation': 876, 'systems': 877, 'direct': 878, 'related': 879, 'designer': 880, 'logistic': 881, 'possibility': 882, 'emerge': 883, 'summit': 884, 'exploratory': 885, 'mitigate': 886, 'business': 887, 'regulate': 888, 'mental': 889, 'medicine': 890, 'approximately': 891, 'accordance': 892, 'asimov': 893, 'correct': 894, 'organization': 895, 'surpass': 896, 'usage': 897, 'fiction': 898, 'record': 899, 'transaction': 900, 'financial': 901, 'co': 902, 'argument': 903, 'commonly': 904, 'uk': 905, 'art': 906, 'store': 907, 'chinese': 908, 'evaluation': 909, 'employment': 910, 'unemployment': 911, 'recently': 912, 'experimental': 913, 'convention': 914, 'historical': 915, 'aggregate': 916, 'wrong': 917, 'equip': 918, 'deviation': 919, 'n': 920, 'exhibit': 921, 'mention': 922, 'million': 923, 'sentience': 924, 'customer': 925, 'toc': 926, 'engine': 927, 'mainly': 928, 'innovation': 929, 'deploy': 930, 'mccarthy': 931, 'hassabis': 932, 'combined': 933, 'demis': 934, 'risks': 935, 'thinking': 936, 'conversely': 937, 'destroy': 938, 'coordination': 939, 'searle': 940, 'compressor': 941, 'agriculture': 942, 'astronomy': 943, 'zip': 944, 'monitor': 945, 'sector': 946, 'finance': 947, 'alternative': 948, 'sentient': 949, 'culture': 950, 'tensorflow': 951, 'analytic': 952, 'mistral': 953, 'clearly': 954, 'opinion': 955, 'darwin': 956, 'evolution': 957, 'conversation': 958, 'adequate': 959, 'poll': 960, 'grant': 961, 'pension': 962, 'dedicated': 963, 'welfare': 964, 'theorem': 965, 'instructions': 966, 'mathematics': 967, 'progress': 968, 'antiquity': 969, 'conduct': 970, 'neat': 971, 'verifiable': 972, 'stable': 973, 'correspond': 974, 'focusse': 975, 'exhaustive': 976, 'examination': 977, 'underlie': 978, 'it': 979, 'banking': 980, 'investment': 981, 'pursue': 982, 'electronic': 983, 'years': 984, 'agi': 985, 'commitment': 986, 'scruffie': 987, 'publication': 988, 'highly': 989, 'rationale': 990, 'sign': 991, 'generalize': 992, 'restore': 993, 'diffusion': 994, 'associated': 995, 'fund': 996, 'computationalism': 997, 'red': 998, 'blind': 999, 'irrelevant': 1000, 'management': 1001, 'string': 1002, 'algebra': 1003, 'utilize': 1004, 'pigeon': 1005, 'behaviour': 1006, 'moravec': 1007, 'threat': 1008, 'industrial': 1009, 'enemy': 1010, 'photo': 1011, 'man': 1012, 'simon': 1013, 'marvin': 1014, 'norvig': 1015, 'valuable': 1016, 'outside': 1017, 'fair': 1018, 'discrimination': 1019, 'hawking': 1020, 'address': 1021, 'awareness': 1022, 'fundamentally': 1023, 'underestimate': 1024, 'offend': 1025, 'factory': 1026, 'manager': 1027, 'disparity': 1028, 'june': 1029, 'morality': 1030, 'hebb': 1031, 'donald': 1032, 'ipsos': 1033, 'entity': 1034, 'second': 1035, 'story': 1036, 'seriously': 1037, 'concerned': 1038, 'decade': 1039, 'propaganda': 1040, 'superintelligent': 1041, 'writing': 1042, 'film': 1043, 'harmful': 1044, 'hypothetical': 1045, 'highlight': 1046, 'communicate': 1047, 'conflict': 1048, 'stephen': 1049, 'decisions': 1050, 'regulator': 1051, 'mass': 1052, 'teacher': 1053, 'warfare': 1054, 'reliably': 1055, 'unlikely': 1056, 'pneumonia': 1057, 'nations': 1058, 'sonar': 1059, 'citizen': 1060, 'speculate': 1061, 'character': 1062, 'letter': 1063, 'thought': 1064, 'pitts': 1065, 'ruler': 1066, 'eliminate': 1067, 'seoul': 1068, 'laws': 1069, 'contribute': 1070, 'subjectivity': 1071, 'collar': 1072, 'compensate': 1073, 'autonomously': 1074, 'trust': 1075, 'mole': 1076, 'checker': 1077, 'specialize': 1078, 'misuse': 1079, 'facility': 1080, 'warn': 1081, 'institute': 1082, 'carbon': 1083, 'ethics': 1084, 'pac': 1085, 'favor': 1086, 'iea': 1087, 'probably': 1088, 'establish': 1089, 'inc': 1090, 'frameworks': 1091, 'stage': 1092, 'connectionism': 1093, 'creation': 1094, 'david': 1095, 'japan': 1096, 'author': 1097, 'court': 1098, 'mid': 1099, 'launch': 1100, 'governance': 1101, 'rights': 1102, 'disagree': 1103, 'coin': 1104, 'provably': 1105, 'extinction': 1106, 'announce': 1107, 'priority': 1108, 'cancerous': 1109, 'stock': 1110, 'dystopian': 1111, 'inform': 1112, 'extreme': 1113, 'yann': 1114, 'scientific': 1115, 'exelon': 1116, 'proponent': 1117, 'crane': 1118, 'lecun': 1119, 'friendly': 1120, 'michigan': 1121, 'act': 1122, 'perceptron': 1123, 'later': 1124, 'reinvention': 1125, 'opening': 1126, 'reactor': 1127, 'j': 1128, 'partial': 1129, 'island': 1130, 'mile': 1131, 'teach': 1132, 'predefine': 1133, 'disaster': 1134, 'turismo': 1135, 'potato': 1136, 'production': 1137, 'continuous': 1138, 'web': 1139, 'operating': 1140, 'marketing': 1141, 'buy': 1142, 'indicate': 1143, 'onion': 1144, 'background': 1145, 'mathrm': 1146, 'r': 1147, 'roc': 1148, 'sale': 1149, 'curve': 1150, 'collectively': 1151, 'utilization': 1152, 'ilp': 1153, 'gordon': 1154, 'intend': 1155, 'investigator': 1156, 'spam': 1157, 'transmit': 1158, 'loosely': 1159, 'holdout': 1160, 'validation': 1161, 'respectively': 1162, 'remain': 1163, 'specificity': 1164, 'shapiro': 1165, 'frequently': 1166, 'iteratively': 1167, 'induction': 1168, 'numerator': 1169, 'denominator': 1170, 'setting': 1171, 'lay': 1172, 'manipulate': 1173, 'racial': 1174, 'achieving': 1175, 'displace': 1176, 'patch': 1177, 'clean': 1178, 'de': 1179, 'sparsely': 1180, 'path': 1181, 'combination': 1182, 'enhancement': 1183, 'dominant': 1184, 'diagnose': 1185, 'mathematically': 1186, 'electrically': 1187, 'adjustable': 1188, 'tensor': 1189, 'code': 1190, 'synapse': 1191, 'factorization': 1192, 'noise': 1193, 'graduate': 1194, 'george': 1195, 'minority': 1196, 'deny': 1197, 'candidate': 1198, 'score': 1199, 'likelihood': 1200, 'inherently': 1201, 'policing': 1202, 'income': 1203, 'micro': 1204, 'phd': 1205, 'appropriately': 1206, 'critical': 1207, 'outli': 1208, 'interesting': 1209, 'intrusion': 1210, 'faculty': 1211, 'university': 1212, 'sum': 1213, 'place': 1214, 'andor': 1215, 'sensitivity': 1216, 'phone': 1217, 'server': 1218, 'centralized': 1219, 'decentralize': 1220, 'review': 1221, 'burden': 1222, 'limit': 1223, 'finding': 1224, 'provider': 1225, 'unconscious': 1226, 'experiment': 1227, 'carry': 1228, 'propublica': 1229, 'corpus': 1230, 'varied': 1231, 'insight': 1232, 'watson': 1233, 'healthcare': 1234, 'manipulation': 1235, 'diagnostic': 1236, 'decide': 1237, 'novel': 1238, 'advancement': 1239, 'evacuate': 1240, 'mla': 1241, 'optimize': 1242, 'reveal': 1243, 'lose': 1244, 'competition': 1245, 'doctor': 1246, 'extract': 1247, 'substantial': 1248, 'street': 1249, 'wall': 1250, 'collaboration': 1251, 'car': 1252, 'proposition': 1253, 'ensemble': 1254, 'fusion': 1255, 'conclusion': 1256, 'trick': 1257, 'efficiently': 1258, 'effectively': 1259, 'mark': 1260, 'svms': 1261, 'explicitly': 1262, 'leave': 1263, 'brown': 1264, 'reportedly': 1265, 'unlike': 1266, 'sound': 1267, 'pixel': 1268, 'correlate': 1269, 'vulnerability': 1270, 'nonlinear': 1271, 'possibly': 1272, 'trendline': 1273, 'refine': 1274, 'interpretable': 1275, 'acyclic': 1276, 'implement': 1277, 'remove': 1278, 'compare': 1279, 'all': 1280, 'analogous': 1281, 'quickly': 1282, 'dempster': 1283, 'algorithms': 1284, 'evolutionary': 1285, 'fei': 1286, 'unobserved': 1287, 'covariance': 1288, 'gaussian': 1289, 'symptom': 1290, 'graphical': 1291, 'transform': 1292, 'behavioral': 1293, 'gran': 1294, 'shape': 1295, 'vague': 1296, 'version': 1297, 'distinguish': 1298, 'be': 1299, 'devise': 1300, 'underlying': 1301, 'precise': 1302, 'diamond': 1303, 'degree': 1304, 'classifiers': 1305, 'neighbor': 1306, 'recognise': 1307, 'suitable': 1308, 'hide': 1309, 'recurrent': 1310, 'perceptrons': 1311, 'truth': 1312, 'analytical': 1313, 'i': 1314, 'sentence': 1315, 'sufficient': 1316, 'bound': 1317, 'incrementally': 1318, 'gradient': 1319, 'descent': 1320, 'ant': 1321, 'predicate': 1322, 'having': 1323, 'competitive': 1324, 'accurately': 1325, 'axiom': 1326, 'negation': 1327, 'solved': 1328, 'intractable': 1329, 'physics': 1330, 'investigate': 1331, 'convolutional': 1332, 'michael': 1333, 'execute': 1334, 'jeopardy': 1335, 'labeling': 1336, 'deployment': 1337, 'allocate': 1338, 'parkinson': 1339, 'treatment': 1340, 'aggregation': 1341, 'blue': 1342, 'beneficial': 1343, 'essential': 1344, 'defeat': 1345, 'centroid': 1346, 'alphago': 1347, 'specified': 1348, 'partition': 1349, 'enhance': 1350, 'compete': 1351, 'basic': 1352, 'moore': 1353, 'patterns': 1354, 'request': 1355, 'curate': 1356, 'population': 1357, 'pretraining': 1358, 'closely': 1359, 'rlhf': 1360, 'hallucination': 1361, 'characterize': 1362, 'gemini': 1363, 'known': 1364, 'discrepancy': 1365, 'claude': 1366, 'month': 1367, 'outperform': 1368, 'easily': 1369, 'trend': 1370, 'kdd': 1371, 'end': 1372, 'multimodal': 1373, 'sentiment': 1374, 'explosion': 1375, 'mdp': 1376, 'trait': 1377, 'display': 1378, 'scope': 1379, 'simulation': 1380, 'puzzle': 1381, 'economics': 1382, 'exponentially': 1383, 'exact': 1384, 'deduction': 1385, 'unsolved': 1386, 'imprecise': 1387, 'conjunction': 1388, 'completely': 1389, 'intelligently': 1390, 'semi': 1391, 'break': 1392, 'prompt': 1393, 'facilitate': 1394, 'cut': 1395, 'iteration': 1396, 'update': 1397, 'cognition': 1398, 'siri': 1399, 'alexa': 1400, 'feeling': 1401, 'creative': 1402, 'crossbar': 1403, 'unintended': 1404, 'adapt': 1405, 'regularization': 1406, 'vastly': 1407, 'pca': 1408, 'accelerate': 1409, 'extraction': 1410, 'consideration': 1411, 'scene': 1412, 'areas': 1413, 'graph': 1414, 'limitation': 1415, 'stream': 1416, 'numeric': 1417, 'array': 1418, 'supervisory': 1419, 'nlp': 1420, 'noam': 1421, 'chomsky': 1422, 'advantage': 1423, 'default': 1424, 'grammar': 1425, 'semantic': 1426, 'meaning': 1427, 'mechanism': 1428, 'applications': 1429, 'affective': 1430, 'overfitting': 1431, 'learned': 1432, 'supply': 1433, 'numerical': 1434, 'classical': 1435, 'tell': 1436, 'criterion': 1437, 'aspect': 1438, 'breadth': 1439, 'genome': 1440, 'estimation': 1441, 'rational': 1442, 'presence': 1443, 'commonality': 1444, 'prefer': 1445, 'verification': 1446, 'avoid': 1447, 'tracking': 1448, 'visual': 1449, 'maximum': 1450, 'dick': 1451}\n"
          ]
        }
      ],
      "source": [
        "# Word embedding\n",
        "word2vec = Word2Vec(processed_texts, min_count=2, vector_size=100)\n",
        "\n",
        "# Vocabulary\n",
        "vocab = word2vec.wv.key_to_index\n",
        "print(vocab)"
      ]
    },
    {
      "cell_type": "markdown",
      "metadata": {
        "id": "RfiqRkeURr9_"
      },
      "source": [
        "Each token (word) is represented by a vector (array) of size 100:"
      ]
    },
    {
      "cell_type": "code",
      "execution_count": 32,
      "metadata": {
        "id": "ynLxnGryTXKc"
      },
      "outputs": [
        {
          "data": {
            "text/plain": [
              "array([-3.22329886e-02,  4.33401018e-02,  1.06781255e-02,  1.07200406e-02,\n",
              "        8.20156652e-03, -5.62110953e-02,  2.82362867e-02,  8.30895081e-02,\n",
              "       -3.68368514e-02, -8.30833148e-03, -1.22796251e-02, -4.79620434e-02,\n",
              "        1.04268780e-02,  1.27805509e-02,  1.95411146e-02, -2.74820495e-02,\n",
              "        2.62866914e-02, -4.52603400e-02, -2.36074030e-02, -9.06634256e-02,\n",
              "        1.86302662e-02,  2.52728257e-02,  2.72871200e-02, -1.49966935e-02,\n",
              "       -2.57472396e-02,  1.23139552e-03, -3.66329178e-02, -5.00373282e-02,\n",
              "       -4.27450836e-02,  8.80292337e-03,  5.72858639e-02, -7.32089998e-03,\n",
              "        2.20550299e-02, -2.11736709e-02, -1.66174944e-03,  5.82325049e-02,\n",
              "        5.32127997e-05, -3.11048999e-02, -3.47336829e-02, -7.47316703e-02,\n",
              "        1.17047958e-03, -3.37128378e-02, -1.44845573e-02,  8.52360856e-03,\n",
              "        2.99281385e-02, -1.29517745e-02, -1.87714100e-02, -1.59746688e-02,\n",
              "        1.52849006e-02,  2.50624847e-02,  2.51156334e-02, -4.17786501e-02,\n",
              "       -1.16222184e-02, -3.86176142e-03, -3.92071269e-02,  2.32283249e-02,\n",
              "        2.87142042e-02,  1.91793917e-03, -3.87683362e-02, -7.09303143e-03,\n",
              "        8.66685249e-03, -8.11674807e-04,  6.31077040e-04, -1.20897517e-02,\n",
              "       -6.63942918e-02,  4.43730727e-02,  1.13671636e-02,  3.92568149e-02,\n",
              "       -6.45201057e-02,  5.27417846e-02, -4.59534936e-02,  1.01983771e-02,\n",
              "        4.83726822e-02, -8.99804384e-03,  3.27358320e-02,  1.97952073e-02,\n",
              "        3.92404007e-04,  1.12815760e-03, -3.31375822e-02,  1.65966097e-02,\n",
              "       -1.74489301e-02, -3.04942299e-03, -4.61438932e-02,  5.58611527e-02,\n",
              "       -8.06752942e-04, -8.95271776e-04,  1.03904009e-02,  4.22528610e-02,\n",
              "        4.08930816e-02,  2.15930939e-02,  4.06396054e-02,  1.83132235e-02,\n",
              "        8.92221346e-04,  4.21967264e-03,  8.67959857e-02,  4.89010252e-02,\n",
              "        3.03792972e-02, -4.14831415e-02,  1.02270562e-02, -2.32457612e-02],\n",
              "      dtype=float32)"
            ]
          },
          "execution_count": 32,
          "metadata": {},
          "output_type": "execute_result"
        }
      ],
      "source": [
        "# Vector\n",
        "v1 = word2vec.wv['intelligence']\n",
        "v1"
      ]
    },
    {
      "cell_type": "markdown",
      "metadata": {
        "id": "gWPAWovGRr-B"
      },
      "source": [
        "In this space, we can explore the similarities between tokens. For instance, let's find the most similar words to \"intelligence\":"
      ]
    },
    {
      "cell_type": "code",
      "execution_count": 33,
      "metadata": {
        "id": "MCQRhSF5bPFI"
      },
      "outputs": [
        {
          "data": {
            "text/plain": [
              "[('use', 0.9792919158935547),\n",
              " ('ai', 0.9791575074195862),\n",
              " ('machine', 0.975047767162323),\n",
              " ('learning', 0.9744248986244202),\n",
              " ('artificial', 0.9734534621238708),\n",
              " ('model', 0.9725300073623657),\n",
              " ('datum', 0.9720403552055359),\n",
              " ('human', 0.9698782563209534),\n",
              " ('problem', 0.9676660299301147),\n",
              " ('learn', 0.9657136797904968)]"
            ]
          },
          "execution_count": 33,
          "metadata": {},
          "output_type": "execute_result"
        }
      ],
      "source": [
        "# Similar vectors/words\n",
        "sim_words = word2vec.wv.most_similar('intelligence')\n",
        "sim_words"
      ]
    },
    {
      "cell_type": "markdown",
      "metadata": {
        "id": "hqxDGwfQRr-C"
      },
      "source": [
        "Or the similarity between two words:"
      ]
    },
    {
      "cell_type": "code",
      "execution_count": 34,
      "metadata": {
        "id": "bRBwWMjtcrOH"
      },
      "outputs": [
        {
          "name": "stdout",
          "output_type": "stream",
          "text": [
            "The similarity between \"computer\" and \"argiculture\" is:  0.046004757\n",
            "The similarity between \"computer\" and \"machine\" is:  0.9465594\n"
          ]
        }
      ],
      "source": [
        "# Similarity between two words\n",
        "print('The similarity between \"computer\" and \"argiculture\" is: ', word2vec.wv.similarity('computer', 'agriculture'))\n",
        "print('The similarity between \"computer\" and \"machine\" is: ', word2vec.wv.similarity('computer', 'machine'))"
      ]
    },
    {
      "cell_type": "markdown",
      "metadata": {
        "id": "zwoQg0xEf9kN"
      },
      "source": [
        "Remarks:\n",
        "- There are other models than Word2Vec in Gensim. For instance, `Doc2Vec` is used to create a vectorised representation of a group of words (i.e., a document) taken collectively as a single unit (illustrated in the next section).\n",
        "- Gensim has many applications besides word embedding, see e.g., [topic modelling](https://www.machinelearningplus.com/nlp/topic-modeling-gensim-python/). Feel free to explore the library!"
      ]
    },
    {
      "cell_type": "markdown",
      "metadata": {
        "id": "1c4GzcyCVHCf"
      },
      "source": [
        "### Using pretrained models\n",
        "Gensim comes with pretrained models. This means that you don't necessarily have to create your model from scartch in some cases. You can see how to use these pretrained models [here](https://radimrehurek.com/gensim/models/word2vec.html#pretrained-models).\n",
        "\n",
        "In our example, we want to see the 10 most similar words to 'twitter' :"
      ]
    },
    {
      "cell_type": "code",
      "execution_count": 35,
      "metadata": {
        "id": "tZLYg6aRV6OO"
      },
      "outputs": [
        {
          "data": {
            "text/plain": [
              "[('facebook', 0.948005199432373),\n",
              " ('tweet', 0.9403423070907593),\n",
              " ('fb', 0.9342358708381653),\n",
              " ('instagram', 0.9104824066162109),\n",
              " ('chat', 0.8964965343475342),\n",
              " ('hashtag', 0.8885937333106995),\n",
              " ('tweets', 0.8878158330917358),\n",
              " ('tl', 0.8778461217880249),\n",
              " ('link', 0.877821147441864),\n",
              " ('internet', 0.8753896355628967)]"
            ]
          },
          "execution_count": 35,
          "metadata": {},
          "output_type": "execute_result"
        }
      ],
      "source": [
        "# Download the \"glove-twitter-25\" embeddings\n",
        "glove_vectors = gensim.downloader.load('glove-twitter-25')\n",
        "# Check the most similar terms to the word 'twitter'\n",
        "glove_vectors.most_similar('twitter')"
      ]
    },
    {
      "cell_type": "markdown",
      "metadata": {
        "id": "z-_83p20NjO-"
      },
      "source": [
        "### Your turn\n",
        "\n",
        "- Using the functions defined above, create a corpus of documents with the following Wikipedia articles: [Photovoltaics](https://en.wikipedia.org/wiki/Photovoltaics), [Wind turbine](https://en.wikipedia.org/wiki/Wind_turbine), [Hydropower](https://en.wikipedia.org/wiki/Hydropower), and [Nuclear power plant](https://en.wikipedia.org/wiki/Nuclear_power_plant). Do you know the share of each technology in the Swiss electricity mix? Check the [Electricity sector in Switzerland](https://en.wikipedia.org/wiki/Electricity_sector_in_Switzerland) for the answer..."
      ]
    },
    {
      "cell_type": "code",
      "execution_count": 36,
      "metadata": {
        "id": "txadH-T7Rr-C"
      },
      "outputs": [],
      "source": [
        "# YOUR CODE HERE\n",
        "\n",
        "# Get articles\n",
        "pv = get_text(\"https://en.wikipedia.org/wiki/Photovoltaics\")\n",
        "hydro = get_text(\"https://en.wikipedia.org/wiki/Hydropower\")\n",
        "wind = get_text(\"https://en.wikipedia.org/wiki/Wind_turbine\")\n",
        "nuclear = get_text(\"https://en.wikipedia.org/wiki/Nuclear_power_plant\")\n",
        "\n",
        "# Group texts in list\n",
        "energy_tech = [pv, hydro, wind, nuclear]"
      ]
    },
    {
      "cell_type": "markdown",
      "metadata": {
        "id": "toZHtMbRRr-C"
      },
      "source": [
        "- Preprocessing: Tokenize your corpus of documents"
      ]
    },
    {
      "cell_type": "code",
      "execution_count": 37,
      "metadata": {
        "id": "kTiVRKpjcrJT"
      },
      "outputs": [],
      "source": [
        "# YOUR CODE HERE\n",
        "\n",
        "# Tokenize texts\n",
        "processed_energy_tech = [spacy_tokenizer(text) for text in energy_tech]"
      ]
    },
    {
      "cell_type": "markdown",
      "metadata": {
        "id": "aOZAfwuRRr-D"
      },
      "source": [
        "- What is the number of occurrences of the word \"energy\"?"
      ]
    },
    {
      "cell_type": "code",
      "execution_count": 38,
      "metadata": {
        "id": "hz5BBzckeLAe"
      },
      "outputs": [
        {
          "data": {
            "text/plain": [
              "188"
            ]
          },
          "execution_count": 38,
          "metadata": {},
          "output_type": "execute_result"
        }
      ],
      "source": [
        "# YOUR CODE HERE\n",
        "\n",
        "# Flatten list of lists\n",
        "flat_processed_energy_tech = [token for energy_techs in processed_energy_tech for token in energy_techs]\n",
        "# Count occurence\n",
        "flat_processed_energy_tech.count('energy')"
      ]
    },
    {
      "cell_type": "markdown",
      "metadata": {
        "id": "TUo2bdpFRr-D"
      },
      "source": [
        "- Create a Word2Vec representation of the article with a min_count of 1 and a vector size of 50"
      ]
    },
    {
      "cell_type": "code",
      "execution_count": 39,
      "metadata": {
        "id": "3-1RbfX7fpzO"
      },
      "outputs": [],
      "source": [
        "# YOUR CODE HERE\n",
        "\n",
        "# Word2Vec\n",
        "word2vec_energy_tech = Word2Vec(processed_energy_tech, min_count=1, vector_size=50)"
      ]
    },
    {
      "cell_type": "markdown",
      "metadata": {
        "id": "bXzm4tKpRr-D"
      },
      "source": [
        "- What are the 10 most similar words to \"electricity\"?"
      ]
    },
    {
      "cell_type": "code",
      "execution_count": 40,
      "metadata": {
        "id": "I3p5FtNmRr-D"
      },
      "outputs": [
        {
          "data": {
            "text/plain": [
              "[('cell', 0.955500602722168),\n",
              " ('power', 0.9436357021331787),\n",
              " ('nuclear', 0.9393112063407898),\n",
              " ('water', 0.9391272068023682),\n",
              " ('large', 0.9380374550819397),\n",
              " ('solar', 0.9309027791023254),\n",
              " ('high', 0.9286004900932312),\n",
              " ('efficiency', 0.9277947545051575),\n",
              " ('energy', 0.9277068376541138),\n",
              " ('hydropower', 0.9275079965591431)]"
            ]
          },
          "execution_count": 40,
          "metadata": {},
          "output_type": "execute_result"
        }
      ],
      "source": [
        "# YOUR CODE HERE\n",
        "\n",
        "word2vec_energy_tech.wv.most_similar('electricity')"
      ]
    },
    {
      "cell_type": "markdown",
      "metadata": {
        "id": "o3he4niYadil"
      },
      "source": [
        "## Application: Text Classification with TF-IDF\n",
        "\n",
        "In this section, we do an application on text classification to illustrate how the embedding can influence the accuracy of a classifier.\n",
        "\n",
        "Our goal is to classify consumer finance complaints into 12 pre-defined categories using:\n",
        "- TF-IDF and logistic regression\n",
        "\n",
        "We use the same tokenizer function, train-test split, classification algorithm, etc. The only difference is the mathematical representation (i.e., the vectorization from the tokens) of the complaints.\n",
        "\n",
        "This application was inspired by the articles published by Susan Li on Towards Data Science:\n",
        "- [Multi-Class Text Classification with Scikit-Learn](https://towardsdatascience.com/multi-class-text-classification-with-scikit-learn-12f1e60e0a9f)"
      ]
    },
    {
      "cell_type": "markdown",
      "metadata": {
        "id": "tAdIAkTNRr-D"
      },
      "source": [
        "### Load and clean data\n",
        "\n",
        "We work with a sample of a large dataset from Data.gov that can be found [here](https://catalog.data.gov/dataset/consumer-complaint-database)."
      ]
    },
    {
      "cell_type": "code",
      "execution_count": 41,
      "metadata": {
        "id": "xiRTQshsihUu"
      },
      "outputs": [
        {
          "data": {
            "text/html": [
              "<div>\n",
              "<style scoped>\n",
              "    .dataframe tbody tr th:only-of-type {\n",
              "        vertical-align: middle;\n",
              "    }\n",
              "\n",
              "    .dataframe tbody tr th {\n",
              "        vertical-align: top;\n",
              "    }\n",
              "\n",
              "    .dataframe thead th {\n",
              "        text-align: right;\n",
              "    }\n",
              "</style>\n",
              "<table border=\"1\" class=\"dataframe\">\n",
              "  <thead>\n",
              "    <tr style=\"text-align: right;\">\n",
              "      <th></th>\n",
              "      <th>Date received</th>\n",
              "      <th>Product</th>\n",
              "      <th>Sub-product</th>\n",
              "      <th>Issue</th>\n",
              "      <th>Sub-issue</th>\n",
              "      <th>Consumer complaint narrative</th>\n",
              "      <th>Company public response</th>\n",
              "      <th>Company</th>\n",
              "      <th>State</th>\n",
              "      <th>ZIP code</th>\n",
              "      <th>Tags</th>\n",
              "      <th>Consumer consent provided?</th>\n",
              "      <th>Submitted via</th>\n",
              "      <th>Date sent to company</th>\n",
              "      <th>Company response to consumer</th>\n",
              "      <th>Timely response?</th>\n",
              "      <th>Consumer disputed?</th>\n",
              "      <th>Complaint ID</th>\n",
              "    </tr>\n",
              "  </thead>\n",
              "  <tbody>\n",
              "    <tr>\n",
              "      <th>0</th>\n",
              "      <td>2012-12-24</td>\n",
              "      <td>Credit card</td>\n",
              "      <td>NaN</td>\n",
              "      <td>Rewards</td>\n",
              "      <td>NaN</td>\n",
              "      <td>NaN</td>\n",
              "      <td>NaN</td>\n",
              "      <td>BANK OF AMERICA, NATIONAL ASSOCIATION</td>\n",
              "      <td>IL</td>\n",
              "      <td>60611</td>\n",
              "      <td>NaN</td>\n",
              "      <td>NaN</td>\n",
              "      <td>Web</td>\n",
              "      <td>2012-12-24</td>\n",
              "      <td>Closed with explanation</td>\n",
              "      <td>Yes</td>\n",
              "      <td>No</td>\n",
              "      <td>217083</td>\n",
              "    </tr>\n",
              "    <tr>\n",
              "      <th>1</th>\n",
              "      <td>2013-12-17</td>\n",
              "      <td>Mortgage</td>\n",
              "      <td>Conventional fixed mortgage</td>\n",
              "      <td>Application, originator, mortgage broker</td>\n",
              "      <td>NaN</td>\n",
              "      <td>NaN</td>\n",
              "      <td>NaN</td>\n",
              "      <td>REGIONS FINANCIAL CORPORATION</td>\n",
              "      <td>FL</td>\n",
              "      <td>33415</td>\n",
              "      <td>NaN</td>\n",
              "      <td>NaN</td>\n",
              "      <td>Web</td>\n",
              "      <td>2013-12-17</td>\n",
              "      <td>Closed with explanation</td>\n",
              "      <td>Yes</td>\n",
              "      <td>Yes</td>\n",
              "      <td>636638</td>\n",
              "    </tr>\n",
              "    <tr>\n",
              "      <th>2</th>\n",
              "      <td>2018-04-23</td>\n",
              "      <td>Credit reporting, credit repair services, or o...</td>\n",
              "      <td>Credit reporting</td>\n",
              "      <td>Incorrect information on your report</td>\n",
              "      <td>Information belongs to someone else</td>\n",
              "      <td>NaN</td>\n",
              "      <td>Company has responded to the consumer and the ...</td>\n",
              "      <td>Experian Information Solutions Inc.</td>\n",
              "      <td>TX</td>\n",
              "      <td>77386</td>\n",
              "      <td>NaN</td>\n",
              "      <td>NaN</td>\n",
              "      <td>Fax</td>\n",
              "      <td>2018-04-23</td>\n",
              "      <td>Closed with explanation</td>\n",
              "      <td>Yes</td>\n",
              "      <td>NaN</td>\n",
              "      <td>2883487</td>\n",
              "    </tr>\n",
              "    <tr>\n",
              "      <th>3</th>\n",
              "      <td>2019-01-04</td>\n",
              "      <td>Checking or savings account</td>\n",
              "      <td>Checking account</td>\n",
              "      <td>Managing an account</td>\n",
              "      <td>Deposits and withdrawals</td>\n",
              "      <td>NaN</td>\n",
              "      <td>NaN</td>\n",
              "      <td>HSBC NORTH AMERICA HOLDINGS INC.</td>\n",
              "      <td>AZ</td>\n",
              "      <td>94521</td>\n",
              "      <td>NaN</td>\n",
              "      <td>NaN</td>\n",
              "      <td>Referral</td>\n",
              "      <td>2019-01-08</td>\n",
              "      <td>Closed with explanation</td>\n",
              "      <td>Yes</td>\n",
              "      <td>NaN</td>\n",
              "      <td>3118526</td>\n",
              "    </tr>\n",
              "    <tr>\n",
              "      <th>4</th>\n",
              "      <td>2014-07-22</td>\n",
              "      <td>Debt collection</td>\n",
              "      <td>Payday loan</td>\n",
              "      <td>Cont'd attempts collect debt not owed</td>\n",
              "      <td>Debt is not mine</td>\n",
              "      <td>NaN</td>\n",
              "      <td>NaN</td>\n",
              "      <td>ENOVA INTERNATIONAL, INC.</td>\n",
              "      <td>GA</td>\n",
              "      <td>30038</td>\n",
              "      <td>NaN</td>\n",
              "      <td>NaN</td>\n",
              "      <td>Web</td>\n",
              "      <td>2014-07-22</td>\n",
              "      <td>Closed with explanation</td>\n",
              "      <td>Yes</td>\n",
              "      <td>No</td>\n",
              "      <td>948293</td>\n",
              "    </tr>\n",
              "  </tbody>\n",
              "</table>\n",
              "</div>"
            ],
            "text/plain": [
              "  Date received                                            Product  \\\n",
              "0    2012-12-24                                        Credit card   \n",
              "1    2013-12-17                                           Mortgage   \n",
              "2    2018-04-23  Credit reporting, credit repair services, or o...   \n",
              "3    2019-01-04                        Checking or savings account   \n",
              "4    2014-07-22                                    Debt collection   \n",
              "\n",
              "                   Sub-product                                     Issue  \\\n",
              "0                          NaN                                   Rewards   \n",
              "1  Conventional fixed mortgage  Application, originator, mortgage broker   \n",
              "2             Credit reporting      Incorrect information on your report   \n",
              "3             Checking account                       Managing an account   \n",
              "4                  Payday loan     Cont'd attempts collect debt not owed   \n",
              "\n",
              "                             Sub-issue Consumer complaint narrative  \\\n",
              "0                                  NaN                          NaN   \n",
              "1                                  NaN                          NaN   \n",
              "2  Information belongs to someone else                          NaN   \n",
              "3             Deposits and withdrawals                          NaN   \n",
              "4                     Debt is not mine                          NaN   \n",
              "\n",
              "                             Company public response  \\\n",
              "0                                                NaN   \n",
              "1                                                NaN   \n",
              "2  Company has responded to the consumer and the ...   \n",
              "3                                                NaN   \n",
              "4                                                NaN   \n",
              "\n",
              "                                 Company State ZIP code Tags  \\\n",
              "0  BANK OF AMERICA, NATIONAL ASSOCIATION    IL    60611  NaN   \n",
              "1          REGIONS FINANCIAL CORPORATION    FL    33415  NaN   \n",
              "2    Experian Information Solutions Inc.    TX    77386  NaN   \n",
              "3       HSBC NORTH AMERICA HOLDINGS INC.    AZ    94521  NaN   \n",
              "4              ENOVA INTERNATIONAL, INC.    GA    30038  NaN   \n",
              "\n",
              "  Consumer consent provided? Submitted via Date sent to company  \\\n",
              "0                        NaN           Web           2012-12-24   \n",
              "1                        NaN           Web           2013-12-17   \n",
              "2                        NaN           Fax           2018-04-23   \n",
              "3                        NaN      Referral           2019-01-08   \n",
              "4                        NaN           Web           2014-07-22   \n",
              "\n",
              "  Company response to consumer Timely response? Consumer disputed?  \\\n",
              "0      Closed with explanation              Yes                 No   \n",
              "1      Closed with explanation              Yes                Yes   \n",
              "2      Closed with explanation              Yes                NaN   \n",
              "3      Closed with explanation              Yes                NaN   \n",
              "4      Closed with explanation              Yes                 No   \n",
              "\n",
              "   Complaint ID  \n",
              "0        217083  \n",
              "1        636638  \n",
              "2       2883487  \n",
              "3       3118526  \n",
              "4        948293  "
            ]
          },
          "execution_count": 41,
          "metadata": {},
          "output_type": "execute_result"
        }
      ],
      "source": [
        "# Load data from GitHub\n",
        "path = \"https://raw.githubusercontent.com/michalis0/DataScience_and_MachineLearning/master/06-text-analytics/data/complaints_sample.csv\"\n",
        "df = pd.read_csv(path, index_col=0)\n",
        "df.head()"
      ]
    },
    {
      "cell_type": "code",
      "execution_count": 42,
      "metadata": {
        "id": "Cys9L2XidZsq"
      },
      "outputs": [
        {
          "name": "stdout",
          "output_type": "stream",
          "text": [
            "<class 'pandas.core.frame.DataFrame'>\n",
            "Index: 9101 entries, 0 to 9100\n",
            "Data columns (total 18 columns):\n",
            " #   Column                        Non-Null Count  Dtype \n",
            "---  ------                        --------------  ----- \n",
            " 0   Date received                 9101 non-null   object\n",
            " 1   Product                       9101 non-null   object\n",
            " 2   Sub-product                   7942 non-null   object\n",
            " 3   Issue                         9101 non-null   object\n",
            " 4   Sub-issue                     6251 non-null   object\n",
            " 5   Consumer complaint narrative  3137 non-null   object\n",
            " 6   Company public response       3863 non-null   object\n",
            " 7   Company                       9101 non-null   object\n",
            " 8   State                         8946 non-null   object\n",
            " 9   ZIP code                      8199 non-null   object\n",
            " 10  Tags                          1171 non-null   object\n",
            " 11  Consumer consent provided?    5869 non-null   object\n",
            " 12  Submitted via                 9101 non-null   object\n",
            " 13  Date sent to company          9101 non-null   object\n",
            " 14  Company response to consumer  9101 non-null   object\n",
            " 15  Timely response?              9101 non-null   object\n",
            " 16  Consumer disputed?            3712 non-null   object\n",
            " 17  Complaint ID                  9101 non-null   int64 \n",
            "dtypes: int64(1), object(17)\n",
            "memory usage: 1.3+ MB\n"
          ]
        }
      ],
      "source": [
        "df.info()"
      ]
    },
    {
      "cell_type": "markdown",
      "metadata": {
        "id": "Pyg-rztyPJ6e"
      },
      "source": [
        "The data set includes 18 columns and 9101 rows describing consumer complaints about financial products. In this case, we want to predict the `Product` category based on the text of the complaint (i.e., `Consumer complaint narrative`)."
      ]
    },
    {
      "cell_type": "code",
      "execution_count": 43,
      "metadata": {
        "id": "9mgx17mnpy2s"
      },
      "outputs": [],
      "source": [
        "# Select columns of interest\n",
        "data = df[[\"Product\", \"Consumer complaint narrative\"]]"
      ]
    },
    {
      "cell_type": "markdown",
      "metadata": {
        "id": "NhB01GG6QXVP"
      },
      "source": [
        "Around 2/3 of the complaints are null values. They are not useful for the prediction so we drop them."
      ]
    },
    {
      "cell_type": "code",
      "execution_count": 44,
      "metadata": {
        "id": "mbno4wghqCNH"
      },
      "outputs": [
        {
          "name": "stdout",
          "output_type": "stream",
          "text": [
            "Product                            0\n",
            "Consumer complaint narrative    5964\n",
            "dtype: int64\n"
          ]
        },
        {
          "data": {
            "text/html": [
              "<div>\n",
              "<style scoped>\n",
              "    .dataframe tbody tr th:only-of-type {\n",
              "        vertical-align: middle;\n",
              "    }\n",
              "\n",
              "    .dataframe tbody tr th {\n",
              "        vertical-align: top;\n",
              "    }\n",
              "\n",
              "    .dataframe thead th {\n",
              "        text-align: right;\n",
              "    }\n",
              "</style>\n",
              "<table border=\"1\" class=\"dataframe\">\n",
              "  <thead>\n",
              "    <tr style=\"text-align: right;\">\n",
              "      <th></th>\n",
              "      <th>Product</th>\n",
              "      <th>Consumer complaint narrative</th>\n",
              "    </tr>\n",
              "  </thead>\n",
              "  <tbody>\n",
              "    <tr>\n",
              "      <th>0</th>\n",
              "      <td>Credit card or prepaid card</td>\n",
              "      <td>Back in XX/XX/2019 a company called XXXX charg...</td>\n",
              "    </tr>\n",
              "    <tr>\n",
              "      <th>1</th>\n",
              "      <td>Credit reporting, credit repair services, or o...</td>\n",
              "      <td>XXXX is reporting a single late payment over 7...</td>\n",
              "    </tr>\n",
              "    <tr>\n",
              "      <th>2</th>\n",
              "      <td>Credit reporting, credit repair services, or o...</td>\n",
              "      <td>I have disputed the following account, ( 1 ) X...</td>\n",
              "    </tr>\n",
              "    <tr>\n",
              "      <th>3</th>\n",
              "      <td>Credit reporting, credit repair services, or o...</td>\n",
              "      <td>In XX/XX/XXXXI disputed the following items on...</td>\n",
              "    </tr>\n",
              "    <tr>\n",
              "      <th>4</th>\n",
              "      <td>Credit card or prepaid card</td>\n",
              "      <td>The response from Citi Cards has cleared up a ...</td>\n",
              "    </tr>\n",
              "  </tbody>\n",
              "</table>\n",
              "</div>"
            ],
            "text/plain": [
              "                                             Product  \\\n",
              "0                        Credit card or prepaid card   \n",
              "1  Credit reporting, credit repair services, or o...   \n",
              "2  Credit reporting, credit repair services, or o...   \n",
              "3  Credit reporting, credit repair services, or o...   \n",
              "4                        Credit card or prepaid card   \n",
              "\n",
              "                        Consumer complaint narrative  \n",
              "0  Back in XX/XX/2019 a company called XXXX charg...  \n",
              "1  XXXX is reporting a single late payment over 7...  \n",
              "2  I have disputed the following account, ( 1 ) X...  \n",
              "3  In XX/XX/XXXXI disputed the following items on...  \n",
              "4  The response from Citi Cards has cleared up a ...  "
            ]
          },
          "execution_count": 44,
          "metadata": {},
          "output_type": "execute_result"
        }
      ],
      "source": [
        "# Drop NaN\n",
        "print(data.isnull().sum())\n",
        "data = data.dropna().reset_index(drop=True)\n",
        "data.head()"
      ]
    },
    {
      "cell_type": "code",
      "execution_count": 45,
      "metadata": {
        "id": "mgb3yc3KqCLr"
      },
      "outputs": [
        {
          "name": "stdout",
          "output_type": "stream",
          "text": [
            "<class 'pandas.core.frame.DataFrame'>\n",
            "RangeIndex: 3137 entries, 0 to 3136\n",
            "Data columns (total 2 columns):\n",
            " #   Column                        Non-Null Count  Dtype \n",
            "---  ------                        --------------  ----- \n",
            " 0   Product                       3137 non-null   object\n",
            " 1   Consumer complaint narrative  3137 non-null   object\n",
            "dtypes: object(2)\n",
            "memory usage: 49.1+ KB\n"
          ]
        }
      ],
      "source": [
        "data.info()"
      ]
    },
    {
      "cell_type": "markdown",
      "metadata": {
        "id": "hCasthTDQrYb"
      },
      "source": [
        "We end up with 3137 complaints for which we would like to predict the product concerned."
      ]
    },
    {
      "cell_type": "markdown",
      "metadata": {
        "id": "Rc8z_6SkTIx2"
      },
      "source": [
        "### Exploratory Data Analysis"
      ]
    },
    {
      "cell_type": "markdown",
      "metadata": {
        "id": "qXpBtEOyRr-F"
      },
      "source": [
        "As always, we start by an EDA to better understand our data and inform our analysis. First note that we are dealing with a dataset containing a large number of words:"
      ]
    },
    {
      "cell_type": "code",
      "execution_count": 46,
      "metadata": {
        "id": "1JQ8GFf0ihb3"
      },
      "outputs": [
        {
          "name": "stdout",
          "output_type": "stream",
          "text": [
            "The complaints contain 610062 words.\n"
          ]
        }
      ],
      "source": [
        "# Total number of words - over 600,000\n",
        "words_number = data['Consumer complaint narrative'].apply(lambda x: len(x.split(' '))).sum()\n",
        "print(f'The complaints contain {words_number} words.')"
      ]
    },
    {
      "cell_type": "markdown",
      "metadata": {
        "id": "ADcRg1jNRr-F"
      },
      "source": [
        "Let's extract a sample to see how the complaints look like:"
      ]
    },
    {
      "cell_type": "code",
      "execution_count": 47,
      "metadata": {
        "id": "ppQTFaZ6t9dy"
      },
      "outputs": [
        {
          "data": {
            "text/plain": [
              "'XXXX ( grocery store ) XXXX XXXX XXXX XXXX XXXX XXXX, CA XXXX Attempted to use an out of network ATM ( USAA terminal in main lobby ). The transaction proceeded as follows : 1 ) Inserted the ATM card 2 ) Machine asked if I wanted a balance on my receipt ( yes ) 3 ) Input my PIN 4 ) Machine printed a receipt and then asked if wanted something else ( yes ... machine had yet to offer a cash withdrawal ).\\n\\n5 ) Selected fast cash ( {$40.00} ) 6 ) Machine showed an access fee of {$3.00} 7 ) I selected NO and walked way. \\n\\nAccording to my bank ( XXXX  XXXX XXXX XXXX ) I was billed {$1.00} twice.'"
            ]
          },
          "execution_count": 47,
          "metadata": {},
          "output_type": "execute_result"
        }
      ],
      "source": [
        "# Sample\n",
        "data['Consumer complaint narrative'].sample().values[0]"
      ]
    },
    {
      "cell_type": "markdown",
      "metadata": {
        "id": "HDpSTJyZQ6O5"
      },
      "source": [
        "The data has been anonymized (i.e., names, dates, IDs, etc. have been replaced by XXXX).\n",
        "\n",
        "Next, note that the classes (products) are imbalanced:"
      ]
    },
    {
      "cell_type": "code",
      "execution_count": 48,
      "metadata": {
        "id": "vdDpzPPouaSN"
      },
      "outputs": [
        {
          "data": {
            "text/plain": [
              "Product\n",
              "Credit reporting, credit repair services, or other personal consumer reports    1123\n",
              "Debt collection                                                                  640\n",
              "Mortgage                                                                         378\n",
              "Credit card or prepaid card                                                      211\n",
              "Credit reporting                                                                 167\n",
              "Student loan                                                                     129\n",
              "Checking or savings account                                                      119\n",
              "Credit card                                                                       74\n",
              "Money transfer, virtual currency, or money service                                64\n",
              "Bank account or service                                                           64\n",
              "Vehicle loan or lease                                                             57\n",
              "Payday loan, title loan, or personal loan                                         47\n",
              "Consumer Loan                                                                     38\n",
              "Payday loan                                                                        8\n",
              "Money transfers                                                                    8\n",
              "Prepaid card                                                                       6\n",
              "Other financial service                                                            4\n",
              "Name: count, dtype: int64"
            ]
          },
          "execution_count": 48,
          "metadata": {},
          "output_type": "execute_result"
        }
      ],
      "source": [
        "# Imbalanced dataset\n",
        "data.Product.value_counts()"
      ]
    },
    {
      "cell_type": "markdown",
      "metadata": {
        "id": "FDon6qpmRMzo"
      },
      "source": [
        "There are 17 categories. We group some of them together (e.g. \"Credit card\", \"Prepaid card\", and \"Credit or prepaid card\") because they are sub-categories of each other. We end up with 12 categories."
      ]
    },
    {
      "cell_type": "code",
      "execution_count": 49,
      "metadata": {
        "id": "er1kzzv3vBSt"
      },
      "outputs": [
        {
          "data": {
            "text/plain": [
              "Product\n",
              "Credit reporting, credit repair services, or other personal consumer reports    1290\n",
              "Debt collection                                                                  640\n",
              "Mortgage                                                                         378\n",
              "Credit card or prepaid card                                                      291\n",
              "Student loan                                                                     129\n",
              "Checking or savings account                                                      119\n",
              "Money transfer, virtual currency, or money service                                72\n",
              "Bank account or service                                                           64\n",
              "Vehicle loan or lease                                                             57\n",
              "Payday loan, title loan, or personal loan                                         55\n",
              "Consumer Loan                                                                     38\n",
              "Other financial service                                                            4\n",
              "Name: count, dtype: int64"
            ]
          },
          "execution_count": 49,
          "metadata": {},
          "output_type": "execute_result"
        }
      ],
      "source": [
        "# Merge categories\n",
        "dic_replace = {'Credit reporting':'Credit reporting, credit repair services, or other personal consumer reports',\n",
        "               'Credit card':'Credit card or prepaid card',\n",
        "               'Payday loan':'Payday loan, title loan, or personal loan',\n",
        "               'Money transfers':'Money transfer, virtual currency, or money service',\n",
        "               'Prepaid card':'Credit card or prepaid card',\n",
        "               'Virtual currency':'Money transfer, virtual currency, or money service'}\n",
        "data.replace(dic_replace, inplace=True)\n",
        "data.Product.value_counts()"
      ]
    },
    {
      "cell_type": "markdown",
      "metadata": {
        "id": "-Y_4RF_VRr-G"
      },
      "source": [
        "Let's visualize the number of observation per product using a bar plot."
      ]
    },
    {
      "cell_type": "code",
      "execution_count": 50,
      "metadata": {
        "id": "iEeOpaMQtgAA"
      },
      "outputs": [
        {
          "data": {
            "image/png": "[encoded data removed]",
            "text/plain": [
              "<Figure size 1200x400 with 1 Axes>"
            ]
          },
          "metadata": {},
          "output_type": "display_data"
        }
      ],
      "source": [
        "# Plot number of complaints per category\n",
        "cnt_pro = data['Product'].value_counts()\n",
        "plt.figure(figsize=(12,4))\n",
        "sns.countplot(x=data['Product'], order = cnt_pro.index)\n",
        "plt.ylabel('Number of Occurrences', fontsize=12)\n",
        "plt.xlabel('Product', fontsize=12)\n",
        "plt.xticks(rotation=90)\n",
        "plt.show()"
      ]
    },
    {
      "cell_type": "markdown",
      "metadata": {
        "id": "XG9sgsx0Rr-G"
      },
      "source": [
        "Finally, let's compute the base rate, i.e., the accuracy obtained using a naive classifier that predicts that all observations are from the largest class (\"Credit reporting, credit repair services, or other personal consumer reports\")."
      ]
    },
    {
      "cell_type": "code",
      "execution_count": 51,
      "metadata": {
        "id": "5JdF1razudYJ",
        "tags": []
      },
      "outputs": [
        {
          "name": "stdout",
          "output_type": "stream",
          "text": [
            "The base rate is: 41.12%\n"
          ]
        }
      ],
      "source": [
        "# Base rate\n",
        "base_rate = round(len(data[data.Product == \"Credit reporting, credit repair services, or other personal consumer reports\"]) / len (data), 4)\n",
        "print(f'The base rate is: {base_rate*100:0.2f}%')"
      ]
    },
    {
      "cell_type": "markdown",
      "metadata": {
        "id": "bBr6OSytTLgD"
      },
      "source": [
        "### Classification using TF-IDF and Logistic Regression"
      ]
    },
    {
      "cell_type": "markdown",
      "metadata": {
        "id": "55qGlGQMRr-H"
      },
      "source": [
        "We first define our training and test set, using the `train_test_split` module of sklearn."
      ]
    },
    {
      "cell_type": "code",
      "execution_count": 52,
      "metadata": {
        "id": "ANzpWDFjRr-H"
      },
      "outputs": [],
      "source": [
        "# Select features\n",
        "X = data['Consumer complaint narrative'] # Features we want to analyze\n",
        "ylabels = data['Product']                # Labels we test against\n",
        "\n",
        "# Train test split\n",
        "X_train, X_test, y_train, y_test = train_test_split(X, ylabels, test_size=0.2, random_state=1234)"
      ]
    },
    {
      "cell_type": "markdown",
      "metadata": {
        "id": "7e3f8HiTRr-H"
      },
      "source": [
        "Next, we use the `TfidfVectorizer` class of sklearn for the word embedding. Since we are dealing with very specific data (e.g., the anonymization process generated non-standard sequence of characters), we are defining our own tokenizer function, which we can use as parameter of `TfidfVectorizer` instead of the default one."
      ]
    },
    {
      "cell_type": "code",
      "execution_count": 53,
      "metadata": {
        "id": "vXHnUbjerLPD"
      },
      "outputs": [],
      "source": [
        "# Define tokenizer function\n",
        "def spacy_tokenizer(sentence):\n",
        "\n",
        "    punctuations = string.punctuation\n",
        "    stop_words = spacy.lang.en.stop_words.STOP_WORDS\n",
        "\n",
        "    # Create token object, which is used to create documents with linguistic annotations.\n",
        "    mytokens = sp(sentence)\n",
        "\n",
        "    # Lemmatize each token and convert each token into lowercase\n",
        "    mytokens = [ word.lemma_.lower().strip() if word.lemma_ != \"-PRON-\" else word.lower_ for word in mytokens ]\n",
        "\n",
        "    # Remove stop words and punctuation\n",
        "    mytokens = [ word for word in mytokens if word not in stop_words and word not in punctuations ]\n",
        "\n",
        "    # Remove anonymous dates and people\n",
        "    mytokens = [ word.replace('xx/', '').replace('xxxx/', '').replace('xx', '') for word in mytokens ]\n",
        "    mytokens = [ word for word in mytokens if word not in [\"xxxx\", \"xx\", \"\"] ]\n",
        "\n",
        "    # Return preprocessed list of tokens\n",
        "    return mytokens"
      ]
    },
    {
      "cell_type": "markdown",
      "metadata": {
        "id": "BDE3sJ_IRr-H"
      },
      "source": [
        "As other parameters of `TfidfVectorizer`, we are using token and pair of tokens (`ngram_range = (1,2)`) and we ignore terms that have a document frequency strictly lower than 5 (`min_df = 5`).\n",
        "\n",
        "Note that we also rely on the `Pipeline` module of sklearn ([Documentation](https://scikit-learn.org/stable/modules/generated/sklearn.pipeline.Pipeline.html)) to sequentially apply models, first the vectorizer, then the classifier. We also time our training (it might take a few minutes)."
      ]
    },
    {
      "cell_type": "code",
      "execution_count": 54,
      "metadata": {
        "id": "3tTbx3oswIan"
      },
      "outputs": [
        {
          "name": "stderr",
          "output_type": "stream",
          "text": [
            "/opt/homebrew/lib/python3.11/site-packages/sklearn/feature_extraction/text.py:525: UserWarning: The parameter 'token_pattern' will not be used since 'tokenizer' is not None'\n",
            "  warnings.warn(\n"
          ]
        },
        {
          "name": "stdout",
          "output_type": "stream",
          "text": [
            "CPU times: user 1min 25s, sys: 2.6 s, total: 1min 28s\n",
            "Wall time: 1min 27s\n"
          ]
        },
        {
          "data": {
            "text/html": [
              "<style>#sk-container-id-1 {color: black;}#sk-container-id-1 pre{padding: 0;}#sk-container-id-1 div.sk-toggleable {background-color: white;}#sk-container-id-1 label.sk-toggleable__label {cursor: pointer;display: block;width: 100%;margin-bottom: 0;padding: 0.3em;box-sizing: border-box;text-align: center;}#sk-container-id-1 label.sk-toggleable__label-arrow:before {content: \"▸\";float: left;margin-right: 0.25em;color: #696969;}#sk-container-id-1 label.sk-toggleable__label-arrow:hover:before {color: black;}#sk-container-id-1 div.sk-estimator:hover label.sk-toggleable__label-arrow:before {color: black;}#sk-container-id-1 div.sk-toggleable__content {max-height: 0;max-width: 0;overflow: hidden;text-align: left;background-color: #f0f8ff;}#sk-container-id-1 div.sk-toggleable__content pre {margin: 0.2em;color: black;border-radius: 0.25em;background-color: #f0f8ff;}#sk-container-id-1 input.sk-toggleable__control:checked~div.sk-toggleable__content {max-height: 200px;max-width: 100%;overflow: auto;}#sk-container-id-1 input.sk-toggleable__control:checked~label.sk-toggleable__label-arrow:before {content: \"▾\";}#sk-container-id-1 div.sk-estimator input.sk-toggleable__control:checked~label.sk-toggleable__label {background-color: #d4ebff;}#sk-container-id-1 div.sk-label input.sk-toggleable__control:checked~label.sk-toggleable__label {background-color: #d4ebff;}#sk-container-id-1 input.sk-hidden--visually {border: 0;clip: rect(1px 1px 1px 1px);clip: rect(1px, 1px, 1px, 1px);height: 1px;margin: -1px;overflow: hidden;padding: 0;position: absolute;width: 1px;}#sk-container-id-1 div.sk-estimator {font-family: monospace;background-color: #f0f8ff;border: 1px dotted black;border-radius: 0.25em;box-sizing: border-box;margin-bottom: 0.5em;}#sk-container-id-1 div.sk-estimator:hover {background-color: #d4ebff;}#sk-container-id-1 div.sk-parallel-item::after {content: \"\";width: 100%;border-bottom: 1px solid gray;flex-grow: 1;}#sk-container-id-1 div.sk-label:hover label.sk-toggleable__label {background-color: #d4ebff;}#sk-container-id-1 div.sk-serial::before {content: \"\";position: absolute;border-left: 1px solid gray;box-sizing: border-box;top: 0;bottom: 0;left: 50%;z-index: 0;}#sk-container-id-1 div.sk-serial {display: flex;flex-direction: column;align-items: center;background-color: white;padding-right: 0.2em;padding-left: 0.2em;position: relative;}#sk-container-id-1 div.sk-item {position: relative;z-index: 1;}#sk-container-id-1 div.sk-parallel {display: flex;align-items: stretch;justify-content: center;background-color: white;position: relative;}#sk-container-id-1 div.sk-item::before, #sk-container-id-1 div.sk-parallel-item::before {content: \"\";position: absolute;border-left: 1px solid gray;box-sizing: border-box;top: 0;bottom: 0;left: 50%;z-index: -1;}#sk-container-id-1 div.sk-parallel-item {display: flex;flex-direction: column;z-index: 1;position: relative;background-color: white;}#sk-container-id-1 div.sk-parallel-item:first-child::after {align-self: flex-end;width: 50%;}#sk-container-id-1 div.sk-parallel-item:last-child::after {align-self: flex-start;width: 50%;}#sk-container-id-1 div.sk-parallel-item:only-child::after {width: 0;}#sk-container-id-1 div.sk-dashed-wrapped {border: 1px dashed gray;margin: 0 0.4em 0.5em 0.4em;box-sizing: border-box;padding-bottom: 0.4em;background-color: white;}#sk-container-id-1 div.sk-label label {font-family: monospace;font-weight: bold;display: inline-block;line-height: 1.2em;}#sk-container-id-1 div.sk-label-container {text-align: center;}#sk-container-id-1 div.sk-container {/* jupyter's `normalize.less` sets `[hidden] { display: none; }` but bootstrap.min.css set `[hidden] { display: none !important; }` so we also need the `!important` here to be able to override the default hidden behavior on the sphinx rendered scikit-learn.org. See: https://github.com/scikit-learn/scikit-learn/issues/21755 */display: inline-block !important;position: relative;}#sk-container-id-1 div.sk-text-repr-fallback {display: none;}</style><div id=\"sk-container-id-1\" class=\"sk-top-container\"><div class=\"sk-text-repr-fallback\"><pre>Pipeline(steps=[(&#x27;vectorizer&#x27;,\n",
              "                 TfidfVectorizer(encoding=&#x27;latin-1&#x27;, min_df=5,\n",
              "                                 ngram_range=(1, 2), sublinear_tf=True,\n",
              "                                 tokenizer=&lt;function spacy_tokenizer at 0x3056a25c0&gt;)),\n",
              "                (&#x27;classifier&#x27;, LogisticRegression(max_iter=1000))])</pre><b>In a Jupyter environment, please rerun this cell to show the HTML representation or trust the notebook. <br />On GitHub, the HTML representation is unable to render, please try loading this page with nbviewer.org.</b></div><div class=\"sk-container\" hidden><div class=\"sk-item sk-dashed-wrapped\"><div class=\"sk-label-container\"><div class=\"sk-label sk-toggleable\"><input class=\"sk-toggleable__control sk-hidden--visually\" id=\"sk-estimator-id-1\" type=\"checkbox\" ><label for=\"sk-estimator-id-1\" class=\"sk-toggleable__label sk-toggleable__label-arrow\">Pipeline</label><div class=\"sk-toggleable__content\"><pre>Pipeline(steps=[(&#x27;vectorizer&#x27;,\n",
              "                 TfidfVectorizer(encoding=&#x27;latin-1&#x27;, min_df=5,\n",
              "                                 ngram_range=(1, 2), sublinear_tf=True,\n",
              "                                 tokenizer=&lt;function spacy_tokenizer at 0x3056a25c0&gt;)),\n",
              "                (&#x27;classifier&#x27;, LogisticRegression(max_iter=1000))])</pre></div></div></div><div class=\"sk-serial\"><div class=\"sk-item\"><div class=\"sk-estimator sk-toggleable\"><input class=\"sk-toggleable__control sk-hidden--visually\" id=\"sk-estimator-id-2\" type=\"checkbox\" ><label for=\"sk-estimator-id-2\" class=\"sk-toggleable__label sk-toggleable__label-arrow\">TfidfVectorizer</label><div class=\"sk-toggleable__content\"><pre>TfidfVectorizer(encoding=&#x27;latin-1&#x27;, min_df=5, ngram_range=(1, 2),\n",
              "                sublinear_tf=True,\n",
              "                tokenizer=&lt;function spacy_tokenizer at 0x3056a25c0&gt;)</pre></div></div></div><div class=\"sk-item\"><div class=\"sk-estimator sk-toggleable\"><input class=\"sk-toggleable__control sk-hidden--visually\" id=\"sk-estimator-id-3\" type=\"checkbox\" ><label for=\"sk-estimator-id-3\" class=\"sk-toggleable__label sk-toggleable__label-arrow\">LogisticRegression</label><div class=\"sk-toggleable__content\"><pre>LogisticRegression(max_iter=1000)</pre></div></div></div></div></div></div></div>"
            ],
            "text/plain": [
              "Pipeline(steps=[('vectorizer',\n",
              "                 TfidfVectorizer(encoding='latin-1', min_df=5,\n",
              "                                 ngram_range=(1, 2), sublinear_tf=True,\n",
              "                                 tokenizer=<function spacy_tokenizer at 0x3056a25c0>)),\n",
              "                ('classifier', LogisticRegression(max_iter=1000))])"
            ]
          },
          "execution_count": 54,
          "metadata": {},
          "output_type": "execute_result"
        }
      ],
      "source": [
        "%%time\n",
        "# Define vectorizer\n",
        "tfidf = TfidfVectorizer(sublinear_tf=True, min_df=5, norm='l2', encoding='latin-1', ngram_range=(1, 2), tokenizer=spacy_tokenizer)\n",
        "\n",
        "# Define classifier\n",
        "classifier = LogisticRegression(solver='lbfgs', max_iter=1000)\n",
        "\n",
        "# Create pipeline\n",
        "pipe = Pipeline([('vectorizer', tfidf),\n",
        "                 ('classifier', classifier)])\n",
        "\n",
        "# Fit model on training set\n",
        "pipe.fit(X_train, y_train)"
      ]
    },
    {
      "cell_type": "markdown",
      "metadata": {
        "id": "IBQl6oFvRr-H"
      },
      "source": [
        "Finally, we predict the test set values and evalute the performance of our model:"
      ]
    },
    {
      "cell_type": "code",
      "execution_count": 55,
      "metadata": {
        "id": "dC3Pbqxlxod2"
      },
      "outputs": [],
      "source": [
        "# Predictions\n",
        "y_pred = pipe.predict(X_test)"
      ]
    },
    {
      "cell_type": "code",
      "execution_count": 56,
      "metadata": {
        "id": "5L0On28bRr-I"
      },
      "outputs": [
        {
          "name": "stdout",
          "output_type": "stream",
          "text": [
            "The accuracy using TF-IDF is: 73.73%\n"
          ]
        },
        {
          "data": {
            "image/png": "[encoded data removed]",
            "text/plain": [
              "<Figure size 800x700 with 2 Axes>"
            ]
          },
          "metadata": {},
          "output_type": "display_data"
        }
      ],
      "source": [
        "# Evaluate model\n",
        "\n",
        "## Accuracy\n",
        "accuracy_tfidf = round(accuracy_score(y_test, y_pred), 4)\n",
        "print(f'The accuracy using TF-IDF is: {accuracy_tfidf*100:0.2f}%')\n",
        "\n",
        "## Confusion matrix\n",
        "conf_mat = confusion_matrix(y_test, y_pred)\n",
        "fig, ax = plt.subplots(figsize=(8,7))\n",
        "sns.heatmap(conf_mat, annot=True, fmt='d')\n",
        "plt.ylabel('Actual')\n",
        "plt.xlabel('Predicted')\n",
        "plt.show()"
      ]
    },
    {
      "cell_type": "markdown",
      "metadata": {
        "id": "0cJeN3YmsV4p"
      },
      "source": [
        "## Introduction to Hugginface and sentiment analysis\n",
        "Another powerful tool is the Hugginface library. You can acces the documentation [here](https://huggingface.co/docs)\n",
        "\n",
        "In our example, we will try to implement a sentiment analysis on a text. A sentiment analysis tries to classify a text into three categories: positive, neutral and negative."
      ]
    },
    {
      "cell_type": "markdown",
      "metadata": {
        "id": "UX0IIJafXfTI"
      },
      "source": [
        "### Implementation of Hugginface\n",
        "First, we have to load the model that we want to use. There are many differents models that you can find [here](https://huggingface.co/docs/transformers/main_classes/model)."
      ]
    },
    {
      "cell_type": "code",
      "execution_count": 57,
      "metadata": {},
      "outputs": [
        {
          "name": "stdout",
          "output_type": "stream",
          "text": [
            "Requirement already satisfied: transformers in /opt/homebrew/lib/python3.11/site-packages (4.45.2)\n",
            "Requirement already satisfied: huggingface_hub in /opt/homebrew/lib/python3.11/site-packages (0.25.2)\n",
            "Requirement already satisfied: tensorflow in /opt/homebrew/lib/python3.11/site-packages (2.17.0)\n",
            "Requirement already satisfied: filelock in /opt/homebrew/lib/python3.11/site-packages (from transformers) (3.13.1)\n",
            "Requirement already satisfied: numpy>=1.17 in /opt/homebrew/lib/python3.11/site-packages (from transformers) (1.26.4)\n",
            "Requirement already satisfied: packaging>=20.0 in /opt/homebrew/lib/python3.11/site-packages (from transformers) (23.2)\n",
            "Requirement already satisfied: pyyaml>=5.1 in /opt/homebrew/lib/python3.11/site-packages (from transformers) (6.0.1)\n",
            "Requirement already satisfied: regex!=2019.12.17 in /opt/homebrew/lib/python3.11/site-packages (from transformers) (2023.10.3)\n",
            "Requirement already satisfied: requests in /opt/homebrew/lib/python3.11/site-packages (from transformers) (2.32.3)\n",
            "Requirement already satisfied: safetensors>=0.4.1 in /opt/homebrew/lib/python3.11/site-packages (from transformers) (0.4.5)\n",
            "Requirement already satisfied: tokenizers<0.21,>=0.20 in /opt/homebrew/lib/python3.11/site-packages (from transformers) (0.20.0)\n",
            "Requirement already satisfied: tqdm>=4.27 in /opt/homebrew/lib/python3.11/site-packages (from transformers) (4.66.5)\n",
            "Requirement already satisfied: fsspec>=2023.5.0 in /opt/homebrew/lib/python3.11/site-packages (from huggingface_hub) (2023.10.0)\n",
            "Requirement already satisfied: typing-extensions>=3.7.4.3 in /opt/homebrew/lib/python3.11/site-packages (from huggingface_hub) (4.11.0)\n",
            "Requirement already satisfied: absl-py>=1.0.0 in /opt/homebrew/lib/python3.11/site-packages (from tensorflow) (2.0.0)\n",
            "Requirement already satisfied: astunparse>=1.6.0 in /opt/homebrew/lib/python3.11/site-packages (from tensorflow) (1.6.3)\n",
            "Requirement already satisfied: flatbuffers>=24.3.25 in /opt/homebrew/lib/python3.11/site-packages (from tensorflow) (24.3.25)\n",
            "Requirement already satisfied: gast!=0.5.0,!=0.5.1,!=0.5.2,>=0.2.1 in /opt/homebrew/lib/python3.11/site-packages (from tensorflow) (0.5.4)\n",
            "Requirement already satisfied: google-pasta>=0.1.1 in /opt/homebrew/lib/python3.11/site-packages (from tensorflow) (0.2.0)\n",
            "Requirement already satisfied: h5py>=3.10.0 in /opt/homebrew/lib/python3.11/site-packages (from tensorflow) (3.10.0)\n",
            "Requirement already satisfied: libclang>=13.0.0 in /opt/homebrew/lib/python3.11/site-packages (from tensorflow) (16.0.6)\n",
            "Requirement already satisfied: ml-dtypes<0.5.0,>=0.3.1 in /opt/homebrew/lib/python3.11/site-packages (from tensorflow) (0.4.1)\n",
            "Requirement already satisfied: opt-einsum>=2.3.2 in /opt/homebrew/lib/python3.11/site-packages (from tensorflow) (3.3.0)\n",
            "Requirement already satisfied: protobuf!=4.21.0,!=4.21.1,!=4.21.2,!=4.21.3,!=4.21.4,!=4.21.5,<5.0.0dev,>=3.20.3 in /opt/homebrew/lib/python3.11/site-packages (from tensorflow) (4.23.4)\n",
            "Requirement already satisfied: setuptools in /opt/homebrew/lib/python3.11/site-packages (from tensorflow) (69.1.0)\n",
            "Requirement already satisfied: six>=1.12.0 in /opt/homebrew/lib/python3.11/site-packages (from tensorflow) (1.16.0)\n",
            "Requirement already satisfied: termcolor>=1.1.0 in /opt/homebrew/lib/python3.11/site-packages (from tensorflow) (2.3.0)\n",
            "Requirement already satisfied: wrapt>=1.11.0 in /opt/homebrew/lib/python3.11/site-packages (from tensorflow) (1.14.1)\n",
            "Requirement already satisfied: grpcio<2.0,>=1.24.3 in /opt/homebrew/lib/python3.11/site-packages (from tensorflow) (1.59.2)\n",
            "Requirement already satisfied: tensorboard<2.18,>=2.17 in /opt/homebrew/lib/python3.11/site-packages (from tensorflow) (2.17.1)\n",
            "Requirement already satisfied: keras>=3.2.0 in /opt/homebrew/lib/python3.11/site-packages (from tensorflow) (3.6.0)\n",
            "Requirement already satisfied: tensorflow-io-gcs-filesystem>=0.23.1 in /opt/homebrew/lib/python3.11/site-packages (from tensorflow) (0.34.0)\n",
            "Requirement already satisfied: wheel<1.0,>=0.23.0 in /opt/homebrew/lib/python3.11/site-packages (from astunparse>=1.6.0->tensorflow) (0.42.0)\n",
            "Requirement already satisfied: rich in /opt/homebrew/lib/python3.11/site-packages (from keras>=3.2.0->tensorflow) (13.6.0)\n",
            "Requirement already satisfied: namex in /opt/homebrew/lib/python3.11/site-packages (from keras>=3.2.0->tensorflow) (0.0.8)\n",
            "Requirement already satisfied: optree in /opt/homebrew/lib/python3.11/site-packages (from keras>=3.2.0->tensorflow) (0.13.0)\n",
            "Requirement already satisfied: charset-normalizer<4,>=2 in /opt/homebrew/lib/python3.11/site-packages (from requests->transformers) (3.3.2)\n",
            "Requirement already satisfied: idna<4,>=2.5 in /opt/homebrew/lib/python3.11/site-packages (from requests->transformers) (3.4)\n",
            "Requirement already satisfied: urllib3<3,>=1.21.1 in /opt/homebrew/lib/python3.11/site-packages (from requests->transformers) (1.26.18)\n",
            "Requirement already satisfied: certifi>=2017.4.17 in /opt/homebrew/lib/python3.11/site-packages (from requests->transformers) (2023.7.22)\n",
            "Requirement already satisfied: markdown>=2.6.8 in /opt/homebrew/lib/python3.11/site-packages (from tensorboard<2.18,>=2.17->tensorflow) (3.5.1)\n",
            "Requirement already satisfied: tensorboard-data-server<0.8.0,>=0.7.0 in /opt/homebrew/lib/python3.11/site-packages (from tensorboard<2.18,>=2.17->tensorflow) (0.7.2)\n",
            "Requirement already satisfied: werkzeug>=1.0.1 in /opt/homebrew/lib/python3.11/site-packages (from tensorboard<2.18,>=2.17->tensorflow) (3.0.1)\n",
            "Requirement already satisfied: MarkupSafe>=2.1.1 in /opt/homebrew/lib/python3.11/site-packages (from werkzeug>=1.0.1->tensorboard<2.18,>=2.17->tensorflow) (2.1.3)\n",
            "Requirement already satisfied: markdown-it-py>=2.2.0 in /opt/homebrew/lib/python3.11/site-packages (from rich->keras>=3.2.0->tensorflow) (3.0.0)\n",
            "Requirement already satisfied: pygments<3.0.0,>=2.13.0 in /opt/homebrew/lib/python3.11/site-packages (from rich->keras>=3.2.0->tensorflow) (2.16.1)\n",
            "Requirement already satisfied: mdurl~=0.1 in /opt/homebrew/lib/python3.11/site-packages (from markdown-it-py>=2.2.0->rich->keras>=3.2.0->tensorflow) (0.1.2)\n",
            "Note: you may need to restart the kernel to use updated packages.\n",
            "Requirement already satisfied: accelerate in /opt/homebrew/lib/python3.11/site-packages (1.0.1)\n",
            "Requirement already satisfied: numpy<3.0.0,>=1.17 in /opt/homebrew/lib/python3.11/site-packages (from accelerate) (1.26.4)\n",
            "Requirement already satisfied: packaging>=20.0 in /opt/homebrew/lib/python3.11/site-packages (from accelerate) (23.2)\n",
            "Requirement already satisfied: psutil in /Users/dimitriroulin/Library/Python/3.11/lib/python/site-packages (from accelerate) (5.9.6)\n",
            "Requirement already satisfied: pyyaml in /opt/homebrew/lib/python3.11/site-packages (from accelerate) (6.0.1)\n",
            "Requirement already satisfied: torch>=1.10.0 in /opt/homebrew/lib/python3.11/site-packages (from accelerate) (2.4.1)\n",
            "Requirement already satisfied: huggingface-hub>=0.21.0 in /opt/homebrew/lib/python3.11/site-packages (from accelerate) (0.25.2)\n",
            "Requirement already satisfied: safetensors>=0.4.3 in /opt/homebrew/lib/python3.11/site-packages (from accelerate) (0.4.5)\n",
            "Requirement already satisfied: filelock in /opt/homebrew/lib/python3.11/site-packages (from huggingface-hub>=0.21.0->accelerate) (3.13.1)\n",
            "Requirement already satisfied: fsspec>=2023.5.0 in /opt/homebrew/lib/python3.11/site-packages (from huggingface-hub>=0.21.0->accelerate) (2023.10.0)\n",
            "Requirement already satisfied: requests in /opt/homebrew/lib/python3.11/site-packages (from huggingface-hub>=0.21.0->accelerate) (2.32.3)\n",
            "Requirement already satisfied: tqdm>=4.42.1 in /opt/homebrew/lib/python3.11/site-packages (from huggingface-hub>=0.21.0->accelerate) (4.66.5)\n",
            "Requirement already satisfied: typing-extensions>=3.7.4.3 in /opt/homebrew/lib/python3.11/site-packages (from huggingface-hub>=0.21.0->accelerate) (4.11.0)\n",
            "Requirement already satisfied: sympy in /opt/homebrew/lib/python3.11/site-packages (from torch>=1.10.0->accelerate) (1.12)\n",
            "Requirement already satisfied: networkx in /opt/homebrew/lib/python3.11/site-packages (from torch>=1.10.0->accelerate) (3.2.1)\n",
            "Requirement already satisfied: jinja2 in /opt/homebrew/lib/python3.11/site-packages (from torch>=1.10.0->accelerate) (3.1.2)\n",
            "Requirement already satisfied: MarkupSafe>=2.0 in /opt/homebrew/lib/python3.11/site-packages (from jinja2->torch>=1.10.0->accelerate) (2.1.3)\n",
            "Requirement already satisfied: charset-normalizer<4,>=2 in /opt/homebrew/lib/python3.11/site-packages (from requests->huggingface-hub>=0.21.0->accelerate) (3.3.2)\n",
            "Requirement already satisfied: idna<4,>=2.5 in /opt/homebrew/lib/python3.11/site-packages (from requests->huggingface-hub>=0.21.0->accelerate) (3.4)\n",
            "Requirement already satisfied: urllib3<3,>=1.21.1 in /opt/homebrew/lib/python3.11/site-packages (from requests->huggingface-hub>=0.21.0->accelerate) (1.26.18)\n",
            "Requirement already satisfied: certifi>=2017.4.17 in /opt/homebrew/lib/python3.11/site-packages (from requests->huggingface-hub>=0.21.0->accelerate) (2023.7.22)\n",
            "Requirement already satisfied: mpmath>=0.19 in /opt/homebrew/lib/python3.11/site-packages (from sympy->torch>=1.10.0->accelerate) (1.3.0)\n",
            "Note: you may need to restart the kernel to use updated packages.\n",
            "Requirement already satisfied: tf-keras in /opt/homebrew/lib/python3.11/site-packages (2.17.0)\n",
            "Requirement already satisfied: tensorflow<2.18,>=2.17 in /opt/homebrew/lib/python3.11/site-packages (from tf-keras) (2.17.0)\n",
            "Requirement already satisfied: absl-py>=1.0.0 in /opt/homebrew/lib/python3.11/site-packages (from tensorflow<2.18,>=2.17->tf-keras) (2.0.0)\n",
            "Requirement already satisfied: astunparse>=1.6.0 in /opt/homebrew/lib/python3.11/site-packages (from tensorflow<2.18,>=2.17->tf-keras) (1.6.3)\n",
            "Requirement already satisfied: flatbuffers>=24.3.25 in /opt/homebrew/lib/python3.11/site-packages (from tensorflow<2.18,>=2.17->tf-keras) (24.3.25)\n",
            "Requirement already satisfied: gast!=0.5.0,!=0.5.1,!=0.5.2,>=0.2.1 in /opt/homebrew/lib/python3.11/site-packages (from tensorflow<2.18,>=2.17->tf-keras) (0.5.4)\n",
            "Requirement already satisfied: google-pasta>=0.1.1 in /opt/homebrew/lib/python3.11/site-packages (from tensorflow<2.18,>=2.17->tf-keras) (0.2.0)\n",
            "Requirement already satisfied: h5py>=3.10.0 in /opt/homebrew/lib/python3.11/site-packages (from tensorflow<2.18,>=2.17->tf-keras) (3.10.0)\n",
            "Requirement already satisfied: libclang>=13.0.0 in /opt/homebrew/lib/python3.11/site-packages (from tensorflow<2.18,>=2.17->tf-keras) (16.0.6)\n",
            "Requirement already satisfied: ml-dtypes<0.5.0,>=0.3.1 in /opt/homebrew/lib/python3.11/site-packages (from tensorflow<2.18,>=2.17->tf-keras) (0.4.1)\n",
            "Requirement already satisfied: opt-einsum>=2.3.2 in /opt/homebrew/lib/python3.11/site-packages (from tensorflow<2.18,>=2.17->tf-keras) (3.3.0)\n",
            "Requirement already satisfied: packaging in /opt/homebrew/lib/python3.11/site-packages (from tensorflow<2.18,>=2.17->tf-keras) (23.2)\n",
            "Requirement already satisfied: protobuf!=4.21.0,!=4.21.1,!=4.21.2,!=4.21.3,!=4.21.4,!=4.21.5,<5.0.0dev,>=3.20.3 in /opt/homebrew/lib/python3.11/site-packages (from tensorflow<2.18,>=2.17->tf-keras) (4.23.4)\n",
            "Requirement already satisfied: requests<3,>=2.21.0 in /opt/homebrew/lib/python3.11/site-packages (from tensorflow<2.18,>=2.17->tf-keras) (2.32.3)\n",
            "Requirement already satisfied: setuptools in /opt/homebrew/lib/python3.11/site-packages (from tensorflow<2.18,>=2.17->tf-keras) (69.1.0)\n",
            "Requirement already satisfied: six>=1.12.0 in /opt/homebrew/lib/python3.11/site-packages (from tensorflow<2.18,>=2.17->tf-keras) (1.16.0)\n",
            "Requirement already satisfied: termcolor>=1.1.0 in /opt/homebrew/lib/python3.11/site-packages (from tensorflow<2.18,>=2.17->tf-keras) (2.3.0)\n",
            "Requirement already satisfied: typing-extensions>=3.6.6 in /opt/homebrew/lib/python3.11/site-packages (from tensorflow<2.18,>=2.17->tf-keras) (4.11.0)\n",
            "Requirement already satisfied: wrapt>=1.11.0 in /opt/homebrew/lib/python3.11/site-packages (from tensorflow<2.18,>=2.17->tf-keras) (1.14.1)\n",
            "Requirement already satisfied: grpcio<2.0,>=1.24.3 in /opt/homebrew/lib/python3.11/site-packages (from tensorflow<2.18,>=2.17->tf-keras) (1.59.2)\n",
            "Requirement already satisfied: tensorboard<2.18,>=2.17 in /opt/homebrew/lib/python3.11/site-packages (from tensorflow<2.18,>=2.17->tf-keras) (2.17.1)\n",
            "Requirement already satisfied: keras>=3.2.0 in /opt/homebrew/lib/python3.11/site-packages (from tensorflow<2.18,>=2.17->tf-keras) (3.6.0)\n",
            "Requirement already satisfied: tensorflow-io-gcs-filesystem>=0.23.1 in /opt/homebrew/lib/python3.11/site-packages (from tensorflow<2.18,>=2.17->tf-keras) (0.34.0)\n",
            "Requirement already satisfied: numpy<2.0.0,>=1.23.5 in /opt/homebrew/lib/python3.11/site-packages (from tensorflow<2.18,>=2.17->tf-keras) (1.26.4)\n",
            "Requirement already satisfied: wheel<1.0,>=0.23.0 in /opt/homebrew/lib/python3.11/site-packages (from astunparse>=1.6.0->tensorflow<2.18,>=2.17->tf-keras) (0.42.0)\n",
            "Requirement already satisfied: rich in /opt/homebrew/lib/python3.11/site-packages (from keras>=3.2.0->tensorflow<2.18,>=2.17->tf-keras) (13.6.0)\n",
            "Requirement already satisfied: namex in /opt/homebrew/lib/python3.11/site-packages (from keras>=3.2.0->tensorflow<2.18,>=2.17->tf-keras) (0.0.8)\n",
            "Requirement already satisfied: optree in /opt/homebrew/lib/python3.11/site-packages (from keras>=3.2.0->tensorflow<2.18,>=2.17->tf-keras) (0.13.0)\n",
            "Requirement already satisfied: charset-normalizer<4,>=2 in /opt/homebrew/lib/python3.11/site-packages (from requests<3,>=2.21.0->tensorflow<2.18,>=2.17->tf-keras) (3.3.2)\n",
            "Requirement already satisfied: idna<4,>=2.5 in /opt/homebrew/lib/python3.11/site-packages (from requests<3,>=2.21.0->tensorflow<2.18,>=2.17->tf-keras) (3.4)\n",
            "Requirement already satisfied: urllib3<3,>=1.21.1 in /opt/homebrew/lib/python3.11/site-packages (from requests<3,>=2.21.0->tensorflow<2.18,>=2.17->tf-keras) (1.26.18)\n",
            "Requirement already satisfied: certifi>=2017.4.17 in /opt/homebrew/lib/python3.11/site-packages (from requests<3,>=2.21.0->tensorflow<2.18,>=2.17->tf-keras) (2023.7.22)\n",
            "Requirement already satisfied: markdown>=2.6.8 in /opt/homebrew/lib/python3.11/site-packages (from tensorboard<2.18,>=2.17->tensorflow<2.18,>=2.17->tf-keras) (3.5.1)\n",
            "Requirement already satisfied: tensorboard-data-server<0.8.0,>=0.7.0 in /opt/homebrew/lib/python3.11/site-packages (from tensorboard<2.18,>=2.17->tensorflow<2.18,>=2.17->tf-keras) (0.7.2)\n",
            "Requirement already satisfied: werkzeug>=1.0.1 in /opt/homebrew/lib/python3.11/site-packages (from tensorboard<2.18,>=2.17->tensorflow<2.18,>=2.17->tf-keras) (3.0.1)\n",
            "Requirement already satisfied: MarkupSafe>=2.1.1 in /opt/homebrew/lib/python3.11/site-packages (from werkzeug>=1.0.1->tensorboard<2.18,>=2.17->tensorflow<2.18,>=2.17->tf-keras) (2.1.3)\n",
            "Requirement already satisfied: markdown-it-py>=2.2.0 in /opt/homebrew/lib/python3.11/site-packages (from rich->keras>=3.2.0->tensorflow<2.18,>=2.17->tf-keras) (3.0.0)\n",
            "Requirement already satisfied: pygments<3.0.0,>=2.13.0 in /opt/homebrew/lib/python3.11/site-packages (from rich->keras>=3.2.0->tensorflow<2.18,>=2.17->tf-keras) (2.16.1)\n",
            "Requirement already satisfied: mdurl~=0.1 in /opt/homebrew/lib/python3.11/site-packages (from markdown-it-py>=2.2.0->rich->keras>=3.2.0->tensorflow<2.18,>=2.17->tf-keras) (0.1.2)\n",
            "Note: you may need to restart the kernel to use updated packages.\n"
          ]
        }
      ],
      "source": [
        "%pip install --upgrade transformers huggingface_hub tensorflow\n",
        "%pip install --upgrade accelerate\n",
        "%pip install --upgrade tf-keras"
      ]
    },
    {
      "cell_type": "code",
      "execution_count": 58,
      "metadata": {
        "id": "scyNna-dXdL_"
      },
      "outputs": [
        {
          "name": "stderr",
          "output_type": "stream",
          "text": [
            "No model was supplied, defaulted to distilbert/distilbert-base-uncased-finetuned-sst-2-english and revision 714eb0f (https://huggingface.co/distilbert/distilbert-base-uncased-finetuned-sst-2-english).\n",
            "Using a pipeline without specifying a model name and revision in production is not recommended.\n",
            "Hardware accelerator e.g. GPU is available in the environment, but no `device` argument is passed to the `Pipeline` object. Model will be on CPU.\n"
          ]
        }
      ],
      "source": [
        "from transformers import pipeline\n",
        "\n",
        "# Test with a simpler model\n",
        "sentiment_pipeline = pipeline(\"sentiment-analysis\")\n"
      ]
    },
    {
      "cell_type": "markdown",
      "metadata": {
        "id": "Gv3rvKVMXw8z"
      },
      "source": [
        "Then, we will try to classify these two sentences:"
      ]
    },
    {
      "cell_type": "code",
      "execution_count": 59,
      "metadata": {
        "id": "elisWT-EX2bR"
      },
      "outputs": [
        {
          "data": {
            "text/plain": [
              "[{'label': 'POSITIVE', 'score': 0.9998656511306763},\n",
              " {'label': 'NEGATIVE', 'score': 0.9991129040718079}]"
            ]
          },
          "execution_count": 59,
          "metadata": {},
          "output_type": "execute_result"
        }
      ],
      "source": [
        "data = [\"I love you\", \"I hate you\"]\n",
        "sentiment_pipeline(data)"
      ]
    },
    {
      "cell_type": "markdown",
      "metadata": {
        "id": "4PacdclyX94T"
      },
      "source": [
        "This is it! We are already done and we see that the first sentence is obviously classified as *positive* and that the second one is *negative*."
      ]
    },
    {
      "cell_type": "markdown",
      "metadata": {
        "id": "FREWVtLbYde7"
      },
      "source": [
        "### Your turn !\n",
        "Try to use this [pipeline](https://huggingface.co/SamLowe/roberta-base-go_emotions) to classify the emotions of this sentence : \"I am not having a great day\":"
      ]
    },
    {
      "cell_type": "code",
      "execution_count": 60,
      "metadata": {
        "id": "wJLgE8mvaTw3"
      },
      "outputs": [
        {
          "name": "stderr",
          "output_type": "stream",
          "text": [
            "Hardware accelerator e.g. GPU is available in the environment, but no `device` argument is passed to the `Pipeline` object. Model will be on CPU.\n"
          ]
        }
      ],
      "source": [
        "# YOUR CODE HERE\n",
        "#import the model\n",
        "classifier = pipeline(task=\"text-classification\", model=\"SamLowe/roberta-base-go_emotions\", top_k=None)"
      ]
    },
    {
      "cell_type": "code",
      "execution_count": 61,
      "metadata": {
        "id": "FiWToag0YTw2"
      },
      "outputs": [
        {
          "name": "stdout",
          "output_type": "stream",
          "text": [
            "[{'label': 'joy', 'score': 0.7601534724235535}, {'label': 'excitement', 'score': 0.1981448531150818}, {'label': 'admiration', 'score': 0.06439309567213058}, {'label': 'neutral', 'score': 0.03208456188440323}, {'label': 'approval', 'score': 0.03131645917892456}, {'label': 'gratitude', 'score': 0.02883210778236389}, {'label': 'caring', 'score': 0.020071281120181084}, {'label': 'relief', 'score': 0.01637624204158783}, {'label': 'optimism', 'score': 0.012584558688104153}, {'label': 'love', 'score': 0.00895428191870451}, {'label': 'pride', 'score': 0.008360236883163452}, {'label': 'amusement', 'score': 0.006774324458092451}, {'label': 'desire', 'score': 0.005910138599574566}, {'label': 'annoyance', 'score': 0.003989816177636385}, {'label': 'realization', 'score': 0.003874130081385374}, {'label': 'disapproval', 'score': 0.0024815991055220366}, {'label': 'surprise', 'score': 0.0023469754960387945}, {'label': 'sadness', 'score': 0.0021285698749125004}, {'label': 'curiosity', 'score': 0.002121188910678029}, {'label': 'anger', 'score': 0.0018085893243551254}, {'label': 'nervousness', 'score': 0.0017943402053788304}, {'label': 'confusion', 'score': 0.0015612912829965353}, {'label': 'disappointment', 'score': 0.001101405476219952}, {'label': 'grief', 'score': 0.0009590403642505407}, {'label': 'fear', 'score': 0.0008792793960310519}, {'label': 'disgust', 'score': 0.0005659325397573411}, {'label': 'remorse', 'score': 0.0005382546223700047}, {'label': 'embarrassment', 'score': 0.0005070115439593792}]\n"
          ]
        }
      ],
      "source": [
        "# print the outputs\n",
        "sentences = [\"I am having a great day\"]\n",
        "model_outputs = classifier(sentences)\n",
        "print(model_outputs[0])\n"
      ]
    },
    {
      "cell_type": "markdown",
      "metadata": {
        "id": "OfBeVuIpagVu"
      },
      "source": [
        "What are the top three emotions related to this sentence : \"I don't like clowns, I am afraid of them\""
      ]
    },
    {
      "cell_type": "code",
      "execution_count": 62,
      "metadata": {
        "id": "Q2eQGbVJZIwK"
      },
      "outputs": [
        {
          "name": "stdout",
          "output_type": "stream",
          "text": [
            "[{'label': 'fear', 'score': 0.8777067065238953}, {'label': 'nervousness', 'score': 0.07606003433465958}, {'label': 'disapproval', 'score': 0.05109110847115517}]\n"
          ]
        }
      ],
      "source": [
        "sentences = [\"I don't like clowns, I am afraid of them\"]\n",
        "# YOUR CODE HERE\n",
        "model_outputs = classifier(sentences)\n",
        "print(model_outputs[0][:3])"
      ]
    }
  ],
  "metadata": {
    "colab": {
      "provenance": [],
      "toc_visible": true
    },
    "kernelspec": {
      "display_name": "Python 3",
      "language": "python",
      "name": "python3"
    },
    "language_info": {
      "codemirror_mode": {
        "name": "ipython",
        "version": 3
      },
      "file_extension": ".py",
      "mimetype": "text/x-python",
      "name": "python",
      "nbconvert_exporter": "python",
      "pygments_lexer": "ipython3",
      "version": "3.11.8"
    },
    "toc": {
      "base_numbering": 1,
      "nav_menu": {},
      "number_sections": true,
      "sideBar": true,
      "skip_h1_title": false,
      "title_cell": "Table of Contents",
      "title_sidebar": "Contents",
      "toc_cell": false,
      "toc_position": {},
      "toc_section_display": true,
      "toc_window_display": false
    }
  },
  "nbformat": 4,
  "nbformat_minor": 0
}
