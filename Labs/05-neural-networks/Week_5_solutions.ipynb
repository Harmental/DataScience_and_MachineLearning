{
  "cells": [
    {
      "cell_type": "markdown",
      "metadata": {
        "id": "view-in-github",
        "colab_type": "text"
      },
      "source": [
        "<a href=\"https://colab.research.google.com/github/michalis0/DataScience_and_MachineLearning/blob/master/05-neural-networks/Week_5_solutions.ipynb\" target=\"_parent\"><img src=\"https://colab.research.google.com/assets/colab-badge.svg\" alt=\"Open In Colab\"/></a>"
      ]
    },
    {
      "cell_type": "markdown",
      "id": "gD1Vv4GS8TwY",
      "metadata": {
        "id": "gD1Vv4GS8TwY"
      },
      "source": [
        "<a href=\"https://colab.research.google.com/github/michalis0/DataScience_and_MachineLearning/blob/master/05-neural-networks/Week_5_solutions.ipynb\" target=\"_parent\"><img src=\"https://colab.research.google.com/assets/colab-badge.svg\" alt=\"Open In Colab\"/></a>"
      ]
    },
    {
      "cell_type": "code",
      "execution_count": null,
      "id": "15dc4475-7f7d-4457-8762-bb031a0629b2",
      "metadata": {
        "id": "15dc4475-7f7d-4457-8762-bb031a0629b2"
      },
      "outputs": [],
      "source": [
        "# Import standard libraries\n",
        "import pandas as pd\n",
        "import numpy as np\n",
        "import seaborn as sns\n",
        "import matplotlib.pylab as plt\n",
        "%matplotlib inline\n",
        "from IPython.display import YouTubeVideo\n",
        "\n",
        "# ML import\n",
        "from sklearn.model_selection import train_test_split # Splitting the data set\n",
        "from sklearn.preprocessing import MinMaxScaler       # Normalization\n",
        "from sklearn.preprocessing import LabelEncoder       # Encoder\n",
        "import torch                                   # PyTorch\n",
        "import torch.nn as nn                          # PyTorch building blocks\n",
        "from IPython.display import YouTubeVideo\n",
        "from sklearn.metrics import mean_squared_error, mean_absolute_error, r2_score"
      ]
    },
    {
      "cell_type": "markdown",
      "id": "a844a8c0-078c-4946-8927-e570469c601c",
      "metadata": {
        "id": "a844a8c0-078c-4946-8927-e570469c601c"
      },
      "source": [
        "# Neural Nets"
      ]
    },
    {
      "cell_type": "markdown",
      "id": "9984e553-36af-42c8-9522-dd090686c913",
      "metadata": {
        "id": "9984e553-36af-42c8-9522-dd090686c913"
      },
      "source": [
        "<img src='https://imgs.xkcd.com/comics/trained_a_neural_net.png' width=\"270\">\n",
        "\n",
        "Source: [xqcd 2173](https://xkcd.com/2173/)"
      ]
    },
    {
      "cell_type": "markdown",
      "id": "4392fab0-671b-45ea-b27a-61a797c0e090",
      "metadata": {
        "id": "4392fab0-671b-45ea-b27a-61a797c0e090"
      },
      "source": [
        "## Content\n",
        "\n",
        "The goal of this walkthrough is to provide you with insights on Neural Nets. After presenting the main concepts, you will be introduced to the techniques to implement your own neural network in Python, with PyTorch and using a pre-build Neural Net.\n",
        "\n",
        "This notebook is organized as follows:\n",
        "- [Background](#Background)\n",
        "    - [Neurons](#Neurons)\n",
        "        - [Biological Neuron](#Biological-Neuron)\n",
        "        - [Artificial neuron and perceptron](#Artificial-neuron-and-perceptron)\n",
        "            - [Activation function](#Activation-function)\n",
        "    - [Some Neural Nets](#Some-Neural-Nets)\n",
        "        - [Multilayer Perceptron (MLP)](#Multilayer-Perceptron-(MLP))\n",
        "        - [Convolutional Neural Nerwork (CNN)](#Convolutional-Neural-Nerwork-(CNN))\n",
        "        - [Recurrent Neural Network (RNN)](#Recurrent-Neural-Network-(RNN))\n",
        "- [How to build your own Neural Net?](#How-to-build-your-own-Neural-Net?)\n",
        "    - [Application: Predicting house prices](#Application:-Predicting-house-prices)\n",
        "        - [Data](#Data)\n",
        "            - [Preprocessing](#Preprocessing)\n",
        "            - [Creating training and test set](#Creating-training-and-test-set)\n",
        "            - [Normalizing-the-data](#Normalizing-the-data)\n",
        "        - [Building a Linear Regression model with PyTorch](#Building-a-Linear-Regression-model-with-PyTorch)\n",
        "            - [Create tensors](#Create-tensors)\n",
        "            - [Define and train a model with PyTorch](#Define-and-train-a-model-with-PyTorch)\n",
        "        - [Your turn](#Your-turn)\n",
        "- [Implement a pre-built Neural Net](#Implement-a-pre-built-Neural-Net)"
      ]
    },
    {
      "cell_type": "markdown",
      "id": "7763984b-c9d6-43b0-ba06-fd749431aa32",
      "metadata": {
        "id": "7763984b-c9d6-43b0-ba06-fd749431aa32"
      },
      "source": [
        "# 1. Background\n",
        "\n",
        "[Artificial Neural Networks](https://en.wikipedia.org/wiki/Artificial_neural_network) - simply called Neural Nets (NNs) - are computing systems inspired by the biological neural networks that constitute animal brains. They are used to approximate functions that are generally unknown.\n",
        "\n",
        "NNs are based on a collection of connected nodes, called **artificial neurons**. In short, an [artificial neuron](https://en.wikipedia.org/wiki/Artificial_neuron) is a mathematical function conceived as a model of biological neurons.\n",
        "\n",
        "These artificial neurons are aggregated into **layers**. Signals travel from the first layer (the *input layer*), to the last layer (the *output layer*), traversing one or several *hidden layers*, which perform different transformations on their inputs. The output of one layer is the input of the next one: this is called **forward propagation**. A neural network with multiple layers between the input and output layers is called [Deep Neural Network](https://en.wikipedia.org/wiki/Deep_learning#Deep_neural_networks) (DNN).\n",
        "\n",
        "Below is an illustration of a simple NN. Each circle represents an artificial neuron and an arrow represents a connection from the output of one artificial neuron to the input of another:\n",
        "\n",
        "<center>\n",
        "<img src='https://upload.wikimedia.org/wikipedia/commons/thumb/4/46/Colored_neural_network.svg/444px-Colored_neural_network.svg.png?20130228185515' width=\"270\"></center>\n",
        "\n",
        "Source: [Glosser.ca](https://commons.wikimedia.org/wiki/File:Colored_neural_network.svg), Wikipedia, [Artificial Neural Network](https://en.wikipedia.org/wiki/Artificial_neural_network)"
      ]
    },
    {
      "cell_type": "markdown",
      "id": "c63fa865-07da-4109-b61b-cd4d155fb33d",
      "metadata": {
        "id": "c63fa865-07da-4109-b61b-cd4d155fb33d"
      },
      "source": [
        "Depending on the structure of the network, we differentiate between feedforward and recurrent NNs:\n",
        "- [Feedforward Neural Network](https://en.wikipedia.org/wiki/Feedforward_neural_network) (FFNN)  was the first and simplest type of artificial neural network devised. In FFNNs, connections between the nodes do not form a cycle. FFNN are trained by backward propagation ([**backpropagation**](https://en.wikipedia.org/wiki/Backpropagation)).\n",
        "- [Recurrent Neural Networks](https://en.wikipedia.org/wiki/Recurrent_neural_network) (RNN) are networks wherein connections between nodes can create a cycle, allowing output from some nodes to affect subsequent input to the same nodes. RNNs are trained by [**backpropagation through time**](https://en.wikipedia.org/wiki/Backpropagation_through_time) (BPTT).\n",
        "\n",
        "In the following, we will explore the concept of (artificial) neurons and present a few types of neural nets.\n",
        "\n",
        "For a nice visual introduction to Neural Nets and to backpropagation, you can view the series of videos by [3Blue1Brown](https://www.youtube.com/playlist?list=PLZHQObOWTQDNU6R1_67000Dx_ZCJB-3pi) on the topic:"
      ]
    },
    {
      "cell_type": "code",
      "execution_count": null,
      "id": "3a1828da-c74c-44b3-a0a3-352c02ff9079",
      "metadata": {
        "colab": {
          "base_uri": "https://localhost:8080/"
        },
        "id": "3a1828da-c74c-44b3-a0a3-352c02ff9079",
        "outputId": "f21f7c9d-d299-46ca-f74c-c9fcacc01ee3"
      },
      "outputs": [
        {
          "data": {
            "image/jpeg": "[encoded data removed]",
            "text/html": [
              "\n",
              "        <iframe\n",
              "            width=\"560\"\n",
              "            height=\"315\"\n",
              "            src=\"https://www.youtube.com/embed/aircAruvnKk\"\n",
              "            frameborder=\"0\"\n",
              "            allowfullscreen\n",
              "            \n",
              "        ></iframe>\n",
              "        "
            ],
            "text/plain": [
              "<IPython.lib.display.YouTubeVideo at 0x28b225010>"
            ]
          },
          "execution_count": 161,
          "metadata": {},
          "output_type": "execute_result"
        }
      ],
      "source": [
        "YouTubeVideo(\"aircAruvnKk\", width=\"560\", height=\"315\")"
      ]
    },
    {
      "cell_type": "markdown",
      "id": "27b2f794-7e6b-4438-968d-87cf15802f91",
      "metadata": {
        "id": "27b2f794-7e6b-4438-968d-87cf15802f91"
      },
      "source": [
        "Further reading:\n",
        "- [Hands-On Machine Learning with Scikit-Learn, Keras, and TensorFlow](https://www.oreilly.com/library/view/hands-on-machine-learning/9781492032632/), by Aurélien Géron\n",
        "- [Everything you need to know about Neural Networks and Backpropagation — Machine Learning Easy and Fun](https://towardsdatascience.com/everything-you-need-to-know-about-neural-networks-and-backpropagation-machine-learning-made-easy-e5285bc2be3a), by Gavril Ognjanovski\n",
        "- [Neural Network from scratch in Python](https://towardsdatascience.com/math-neural-network-from-scratch-in-python-d6da9f29ce65), by Omar Aflak"
      ]
    },
    {
      "cell_type": "markdown",
      "id": "5d74b223-5b65-4bb3-b6a9-4ec89d491649",
      "metadata": {
        "id": "5d74b223-5b65-4bb3-b6a9-4ec89d491649"
      },
      "source": [
        "## 1.1 Neurons"
      ]
    },
    {
      "cell_type": "markdown",
      "id": "7a1b7d97-3e8c-4ffc-bc2e-67116d23a889",
      "metadata": {
        "id": "7a1b7d97-3e8c-4ffc-bc2e-67116d23a889"
      },
      "source": [
        "### Biological Neuron\n",
        "\n",
        "The nervous system is composed of more than 100 billion cells known as [neurons](https://en.wikipedia.org/wiki/Neuron), which process and transmit the information received from our senses. Neurons are arranged together in our brain to form a network of nerves. These nerves pass electrical impulses from one neuron to the other.\n",
        "\n",
        "<img src='https://miro.medium.com/v2/resize:fit:1100/format:webp/1*vBIWWCFLLzZzGes1HcCJOw.jpeg' width=\"450\">\n",
        "\n",
        "Neurons are made up of three major parts:\n",
        "- the *dendrites* collect information from other cells and send this information to the soma;\n",
        "- the *soma* is the cell body containing the nucleus of the cell and keeping it alive;\n",
        "- the *axon* transmits information away from the cell body towards other neurons or to the muscles and glands;\n",
        "    - when the axon is stimulated by an electrical signal from the dendrites, the impulse is transmitted if the electrical signal is strong enough that it passes a certain level or threshold.\n",
        "    - the axon terminal, located at the end of the axon farthest from the soma, contains [*synapses*](https://en.wikipedia.org/wiki/Synapse), which are structure that permits the transmission of information to another cell. Synapses have the ability to strengthen or weaken over time in responses to increases or decreases in their activity: this is called [*synaptic plasticity*](https://en.wikipedia.org/wiki/Synaptic_plasticity).\n",
        "\n",
        "<center>\n",
        "<img src='https://opentextbc.ca/introductiontopsychology/wp-content/uploads/sites/9/2013/11/6a3f0732c22683476ea201ffc5e428ad.jpg' width=\"400\"></center>\n",
        "\n",
        "Source: Jennifer Walinga, [The Neuron Is the Building Block of the Nervous System](https://opentextbc.ca/introductiontopsychology/chapter/3-1-the-neuron-is-the-building-block-of-the-nervous-system/), Chapter 4.1 of *Introduction to Psychology*"
      ]
    },
    {
      "cell_type": "markdown",
      "id": "11fe51c9-40ab-4ad4-a54f-19563870533d",
      "metadata": {
        "id": "11fe51c9-40ab-4ad4-a54f-19563870533d"
      },
      "source": [
        "### Artificial neuron and perceptron\n",
        "\n",
        "An [artificial neuron](https://en.wikipedia.org/wiki/Artificial_neuron) is inspired by its biological counterpart. It receives some inputs, transforms them, and transmits the output.  \n",
        "\n",
        "An artificial neuron typically: 1) performs a weighted sum of the inputs; 2) passes this sum through an [activation function](https://en.wikipedia.org/wiki/Activation_function). We'll discuss what is an activation function below. For now, let's formalize what is happening in an artificial neuron. Let:\n",
        "- $\\boldsymbol{x}=(x_1, ..., x_d)$ be some input signals\n",
        "    - the input signals can come from artificial neurons from the input layer (input data) or from artificial neurons from the hidden layers\n",
        "- $y_k$ be the output signal of neuron $k$\n",
        "\n",
        "The operation performed by an artificial neuron is:\n",
        "$$y_k = \\varphi(\\boldsymbol{w} \\cdot \\boldsymbol{x} + b) = \\varphi(w_{k1} x_{1} +  w_{k2} x_{2} + ... +  w_{kd} x_{d} + b_k) $$\n",
        "\n",
        "Where:\n",
        "- $\\boldsymbol{w}=(w_{k1}, ..., w_{kd})$ are the **weights**\n",
        "    -  the weights have the same role than the synapses. Their value determines the strength of the link between one artificial neuron and another. When we learn the weights, this link can strengthen or weaken, similarly than with synaptic plasticity\n",
        "- $b_k$ is the **bias**\n",
        "- $\\varphi$ is an **activation function**\n",
        "    - the activation function models what is happening in the axon of a biological neuron: the electrical impulses are only transmitted if they are strong enough to reach a given threshold\n",
        "\n",
        "<center>\n",
        "<img src='https://www.gabormelli.com/RKB/images/thumb/3/31/artificial-neuron-model.png/600px-artificial-neuron-model.png' width=\"450\"></center>\n",
        "\n",
        "Source: [Artificial Neuron](https://www.gabormelli.com/RKB/Artificial_Neuron), Gabor Melli's Research Knowledge Base\n",
        "\n",
        "Note that, oftentimes, we write $b_k=w_{k0}$ and $x_{0}=1$, so that the expression simplifies to $y_k = \\varphi(\\boldsymbol{w} \\cdot \\boldsymbol{x})$.\n",
        "\n",
        "The first artificial neuron was the [perceptron](https://en.wikipedia.org/wiki/Perceptron), invented in 1943 by Warren McCulloch and Walter Pitts. It was a binary classifier, i.e., the activation function was the unit step function:\n",
        "- $\\varphi(\\boldsymbol{x}) = 1$ if $\\boldsymbol{w} \\cdot \\boldsymbol{x} +b>0$\n",
        "- $\\varphi(\\boldsymbol{x}) = 0$ otherwise\n",
        "\n",
        "The perceptron, also called the single-layer perceptron, was the first and simplest (feedforward) neural network!"
      ]
    },
    {
      "cell_type": "markdown",
      "id": "be768579-7a57-43d8-b26b-b6abc9efeb92",
      "metadata": {
        "id": "be768579-7a57-43d8-b26b-b6abc9efeb92"
      },
      "source": [
        "#### Activation function\n",
        "\n",
        "As mentioned above, the [activation function](https://en.wikipedia.org/wiki/Activation_function) represents what is happening in the axon of a biological neuron: the electrical impulses are only transmitted if they are strong enough to reach a given threshold. There are many possible activation functions:\n",
        "- unit step function ([Heaviside step function](https://en.wikipedia.org/wiki/Heaviside_step_function)), as used in the perceptron;\n",
        "- sigmoid, e.g., the [logistic function](https://en.wikipedia.org/wiki/Logistic_function), previously seen for logistic regression\n",
        "    - $\\varphi(x)=\\frac{1}{1 + e^{-x}}$\n",
        "- Rectified linear unit ([ReLU](https://en.wikipedia.org/wiki/Rectifier_(neural_networks))), one of the most popular because of its good performance and fast gradient computation\n",
        "    - $\\varphi(x) = \\max(0,x) $\n",
        "- Parametric rectified linear unit ([PReLU](https://en.wikipedia.org/wiki/Rectifier_(neural_networks)#Parametric_ReLU)), a variant of ReLU that avoids the *dead* neurons problem, i.e., neurons becoming inactive\n",
        "    - $\\varphi(x) = \\max(\\alpha x,x) $ with $0<\\alpha<1$\n",
        "    - when $\\alpha=0.01$, the function is called Leaky ReLU\n",
        "\n",
        "<center>\n",
        "<img src='https://miro.medium.com/v2/resize:fit:1400/format:webp/1*ypsvQH7kvtI2BhzR2eT_Sw.png' width=\"400\"> </center>\n",
        "\n",
        "Source: Danqing Liu, [A Practical Guide to ReLU](https://medium.com/@danqing/a-practical-guide-to-relu-b83ca804f1f7)\n",
        "\n",
        "There are numerous other activation functions. Explore them [here](https://en.wikipedia.org/wiki/Activation_function#Comparison_of_activation_functions)!\n",
        "\n",
        "You can also play and visualize more esay how neural networs are build with this [Web app](http://playground.tensorflow.org/)"
      ]
    },
    {
      "cell_type": "markdown",
      "id": "f5654a34-b6ea-4513-968d-a4af75e4efd1",
      "metadata": {
        "id": "f5654a34-b6ea-4513-968d-a4af75e4efd1",
        "tags": []
      },
      "source": [
        "## 1.2 Examples of Neural Nets\n"
      ]
    },
    {
      "cell_type": "markdown",
      "id": "4ca625a0-b1b7-4d5d-8660-ea33f7a22b1e",
      "metadata": {
        "id": "4ca625a0-b1b7-4d5d-8660-ea33f7a22b1e"
      },
      "source": [
        "### Multilayer Perceptron (MLP)\n",
        "\n",
        "A [Multilayer Perceptron](https://en.wikipedia.org/wiki/Multilayer_perceptron) (MLP) is a *fully-connected* feedforward neural network. Here is an illustration, with 3 hidden layers:\n",
        "\n",
        "<center>\n",
        "<img src='https://miro.medium.com/v2/resize:fit:569/0*03elfV9p5nZTnRKe.png' width=\"500\"> </center>\n",
        "\n",
        "Each circle represents one perceptron. Historically, the perceptrons used a sigmoid activation function, but nowadays, ReLU and its variants are more frequently used.\n",
        "\n",
        "Originally developed in the 1960s, these models had applications in diverse fields in the 1980s, such as speech recognition and machine translation software. Recently, interest in these networks was renewed due to the successes of deep learning.  "
      ]
    },
    {
      "cell_type": "markdown",
      "id": "1ab5a330-3cac-42a5-9079-c7b564993c0b",
      "metadata": {
        "id": "1ab5a330-3cac-42a5-9079-c7b564993c0b"
      },
      "source": [
        "### Convolutional Neural Network (CNN)\n",
        "\n",
        "A [Convolutional Neural Network](https://en.wikipedia.org/wiki/Convolutional_neural_network) (CNN) is a class of neural network most commonly applied in processing data that has a grid-like topology, such as an image. They have proven very effective in analyzing visual imagery, e.g., image recognition and classification.\n",
        "\n",
        "CNNs use a mathematical operation called [convolution](https://en.wikipedia.org/wiki/Convolution) in place of general matrix multiplication in at least one of their layers. This layer performs a dot product between two matrices, where one matrix is the set of learnable parameters otherwise known as a [kernel](https://en.wikipedia.org/wiki/Kernel_(image_processing)), and the other matrix is the restricted portion of the receptive field. In other words, a convolution is the process of adding each element of the image to its local neighbors, weighted by the kernel:\n",
        "\n",
        "<center>\n",
        "<img src='https://upload.wikimedia.org/wikipedia/commons/1/19/2D_Convolution_Animation.gif' width=\"300\"> </center>\n",
        "\n",
        "Source: Michael Plotke, [Kernel (image processing)](https://en.wikipedia.org/wiki/Kernel_(image_processing))\n",
        "\n",
        "The kernel is a filter that applies a transformation to the original image, e.g., blurring, sharpening, embossing, edge detection, etc.\n",
        "\n",
        "For a more detailed introduction of CNN, you can read:\n",
        "- [An Intuitive Explanation of Convolutional Neural Networks](https://ujjwalkarn.me/2016/08/11/intuitive-explanation-convnets/), by Ujjwal Karn\n",
        "- [Convolutional Neural Networks, Explained](https://towardsdatascience.com/convolutional-neural-networks-explained-9cc5188c4939), by Mayank Mishra"
      ]
    },
    {
      "cell_type": "markdown",
      "id": "2d9ede07-61c4-42bc-85d5-191bdb70e9af",
      "metadata": {
        "id": "2d9ede07-61c4-42bc-85d5-191bdb70e9af"
      },
      "source": [
        "### Recurrent Neural Network (RNN)\n",
        "\n",
        "A [Recurrent Neural Networks](https://en.wikipedia.org/wiki/Recurrent_neural_network) (RNN) is a class of artificial neural networks where connections between nodes can create a cycle, allowing output from some nodes to affect subsequent input to the same nodes. RNNs are useful when dealing with sequential data like natural language and time series. They are mostly used in the fields of natural language processing and speech recognition.\n",
        "\n",
        "A RNN is very much alike feedforward neural nerworks, except it also has connections pointing backforward: at each time step $t$, a *recurrent neuron* receives the input $x_t$ as well as its own output from the previous step $y_{t-1}$:\n",
        "$$y_{t} = \\varphi(\\boldsymbol{w_t} \\cdot \\boldsymbol{x_t} + \\boldsymbol{w_y} \\cdot \\boldsymbol{y_{t-1}} + b)$$\n",
        "\n",
        "We can represent a recurrent neuron graphically:\n",
        "<center>\n",
        "<img src='https://www.oreilly.com/api/v2/epubs/9781492037354/files/assets/mlst_1401.png' width=\"400\"> </center>\n",
        "\n",
        "\n",
        "More generally, a recurrent unit may store more information than the previous predictions. A part of a neural network that preserves some state across time steps is called a *memory cell*. Indeed, since the output at time $t$ is a function of the inputs from previous time steps, the recurrent neuron has a form of memory! The memory cell is a hidden layer that flows through time:\n",
        "\n",
        "<center>\n",
        "<img src='https://www.oreilly.com/api/v2/epubs/9781492037354/files/assets/mlst_1403.png' width=\"400\"> </center>\n",
        "\n",
        "\n",
        "RNNs have the obvious advantage of taking into account historical information. However, computation can be slow and it might be difficult to access information from a long time ago (issue of *fading memory*). To solve this issue, various memory cell architectures with long-term memory have been developed to save information, including:  \n",
        "- The [Long Short-Term Memory](https://en.wikipedia.org/wiki/Long_short-term_memory) (LSTM) with the idea to store a short-term state $h_t$ and a long-term state $c_t$. LTSM rely on *gates*: when the gate is open, the output is multiplied by 1 (information preserved); when the gate is closed, the outputs is multiplied by 0 (information erased). Gates are a way to update and reset persistent information:\n",
        "    - the *forget gate* controls which parts of the long-term state should be erased,\n",
        "    - the *input gate* controls which parts of the output should be added to the long-term state,\n",
        "    - the *output gate* controls which parts should be output at this time step\n",
        "- The [Gated Recurrent Unit](https://en.wikipedia.org/wiki/Gated_recurrent_unit) (GRU), a simplified version of the LTSM.\n",
        "\n",
        "<center>\n",
        "<img src='https://www.oreilly.com/api/v2/epubs/9781492037354/files/assets/mlst_1413.png' width=\"400\"> </center>\n",
        "\n",
        "For a more detailed introduction of RNN, you can read:\n",
        "- [Source behind all the figures in this section]: [Chapter 4. Recurrent Neural Networks](https://www.oreilly.com/library/view/neural-networks-and/9781492037354/ch04.html), *Neural networks and deep learning*, by Aurélien Géron\n",
        "- [Recurrent Neural Networks cheatsheet](https://stanford.edu/~shervine/teaching/cs-230/cheatsheet-recurrent-neural-networks), by Afshine Amidi"
      ]
    },
    {
      "cell_type": "markdown",
      "id": "ce878d70-296b-4ce2-9a05-a5d0410d79e1",
      "metadata": {
        "id": "ce878d70-296b-4ce2-9a05-a5d0410d79e1"
      },
      "source": [
        "# 2. Implmentation\n",
        "\n",
        "There exists several libraries to implement Neural Nets in Python, the most popular being PyTorch and TensorFlow/Keras:\n",
        "- [PyTorch](https://pytorch.org/) is a deep learning framework based on [Torch](https://en.wikipedia.org/wiki/Torch_(machine_learning)). It was developed by Meta AI (Facebook) and open-sourced in 2017.\n",
        "- [TensorFlow](https://www.tensorflow.org/) is an end-to-end open-source platform for machine learning. It was developed by Google and released as open source in 2015. Its name comes from the basic data structure used, namely [tensors](https://en.wikipedia.org/wiki/Tensor).\n",
        "- [Keras](https://keras.io/) is a high-level neural networks library that is running on the top of TensorFlow, among others.\n",
        "\n",
        "For a comparison of TensorFlow, Keras, and Pytorch, you can refer to:\n",
        "- [PyTorch vs TensorFlow for Your Python Deep Learning Project](https://realpython.com/pytorch-vs-tensorflow/), by Ray Johns\n",
        "- [Keras vs Tensorflow vs Pytorch: Key Differences Among Deep Learning](https://www.simplilearn.com/keras-vs-tensorflow-vs-pytorch-article), by John Terra\n",
        "\n",
        "In this notebook, we are going to implement a Neural Net with PyTorch, displaying the simplicity, ease of use, and flexibility of this library. For a walkthrough on Neural Nets with TensorFlow/Keras, you can for instance refer to [Deep Learning with Python](https://github.com/fchollet/deep-learning-with-python-notebooks), by François Chollet (Chapter 7)."
      ]
    },
    {
      "cell_type": "markdown",
      "id": "1d33d277-2861-493d-8fad-63baec052f8e",
      "metadata": {
        "id": "1d33d277-2861-493d-8fad-63baec052f8e"
      },
      "source": [
        "## 2.1 Application: Predicting house prices\n",
        "\n",
        "In this application, we will implement a Linear Regression model with PyTorch to predict house prices using the [Ames Housing dataset](https://www.kaggle.com/c/house-prices-advanced-regression-techniques)."
      ]
    },
    {
      "cell_type": "markdown",
      "id": "e439b086-55d0-442f-ab05-0e9399e15659",
      "metadata": {
        "id": "e439b086-55d0-442f-ab05-0e9399e15659"
      },
      "source": [
        "### Data"
      ]
    },
    {
      "cell_type": "code",
      "execution_count": null,
      "id": "240c89a5-84f5-4229-a987-1dbeaa878682",
      "metadata": {
        "colab": {
          "base_uri": "https://localhost:8080/",
          "height": 256
        },
        "id": "240c89a5-84f5-4229-a987-1dbeaa878682",
        "outputId": "a181ca6f-3760-4d06-f85c-181564db581c"
      },
      "outputs": [
        {
          "data": {
            "text/html": [
              "<div>\n",
              "<style scoped>\n",
              "    .dataframe tbody tr th:only-of-type {\n",
              "        vertical-align: middle;\n",
              "    }\n",
              "\n",
              "    .dataframe tbody tr th {\n",
              "        vertical-align: top;\n",
              "    }\n",
              "\n",
              "    .dataframe thead th {\n",
              "        text-align: right;\n",
              "    }\n",
              "</style>\n",
              "<table border=\"1\" class=\"dataframe\">\n",
              "  <thead>\n",
              "    <tr style=\"text-align: right;\">\n",
              "      <th></th>\n",
              "      <th>Id</th>\n",
              "      <th>MSSubClass</th>\n",
              "      <th>MSZoning</th>\n",
              "      <th>LotFrontage</th>\n",
              "      <th>LotArea</th>\n",
              "      <th>Street</th>\n",
              "      <th>Alley</th>\n",
              "      <th>LotShape</th>\n",
              "      <th>LandContour</th>\n",
              "      <th>Utilities</th>\n",
              "      <th>...</th>\n",
              "      <th>PoolArea</th>\n",
              "      <th>PoolQC</th>\n",
              "      <th>Fence</th>\n",
              "      <th>MiscFeature</th>\n",
              "      <th>MiscVal</th>\n",
              "      <th>MoSold</th>\n",
              "      <th>YrSold</th>\n",
              "      <th>SaleType</th>\n",
              "      <th>SaleCondition</th>\n",
              "      <th>SalePrice</th>\n",
              "    </tr>\n",
              "  </thead>\n",
              "  <tbody>\n",
              "    <tr>\n",
              "      <th>0</th>\n",
              "      <td>1</td>\n",
              "      <td>60</td>\n",
              "      <td>RL</td>\n",
              "      <td>65.0</td>\n",
              "      <td>8450</td>\n",
              "      <td>Pave</td>\n",
              "      <td>NaN</td>\n",
              "      <td>Reg</td>\n",
              "      <td>Lvl</td>\n",
              "      <td>AllPub</td>\n",
              "      <td>...</td>\n",
              "      <td>0</td>\n",
              "      <td>NaN</td>\n",
              "      <td>NaN</td>\n",
              "      <td>NaN</td>\n",
              "      <td>0</td>\n",
              "      <td>2</td>\n",
              "      <td>2008</td>\n",
              "      <td>WD</td>\n",
              "      <td>Normal</td>\n",
              "      <td>208500</td>\n",
              "    </tr>\n",
              "    <tr>\n",
              "      <th>1</th>\n",
              "      <td>2</td>\n",
              "      <td>20</td>\n",
              "      <td>RL</td>\n",
              "      <td>80.0</td>\n",
              "      <td>9600</td>\n",
              "      <td>Pave</td>\n",
              "      <td>NaN</td>\n",
              "      <td>Reg</td>\n",
              "      <td>Lvl</td>\n",
              "      <td>AllPub</td>\n",
              "      <td>...</td>\n",
              "      <td>0</td>\n",
              "      <td>NaN</td>\n",
              "      <td>NaN</td>\n",
              "      <td>NaN</td>\n",
              "      <td>0</td>\n",
              "      <td>5</td>\n",
              "      <td>2007</td>\n",
              "      <td>WD</td>\n",
              "      <td>Normal</td>\n",
              "      <td>181500</td>\n",
              "    </tr>\n",
              "    <tr>\n",
              "      <th>2</th>\n",
              "      <td>3</td>\n",
              "      <td>60</td>\n",
              "      <td>RL</td>\n",
              "      <td>68.0</td>\n",
              "      <td>11250</td>\n",
              "      <td>Pave</td>\n",
              "      <td>NaN</td>\n",
              "      <td>IR1</td>\n",
              "      <td>Lvl</td>\n",
              "      <td>AllPub</td>\n",
              "      <td>...</td>\n",
              "      <td>0</td>\n",
              "      <td>NaN</td>\n",
              "      <td>NaN</td>\n",
              "      <td>NaN</td>\n",
              "      <td>0</td>\n",
              "      <td>9</td>\n",
              "      <td>2008</td>\n",
              "      <td>WD</td>\n",
              "      <td>Normal</td>\n",
              "      <td>223500</td>\n",
              "    </tr>\n",
              "    <tr>\n",
              "      <th>3</th>\n",
              "      <td>4</td>\n",
              "      <td>70</td>\n",
              "      <td>RL</td>\n",
              "      <td>60.0</td>\n",
              "      <td>9550</td>\n",
              "      <td>Pave</td>\n",
              "      <td>NaN</td>\n",
              "      <td>IR1</td>\n",
              "      <td>Lvl</td>\n",
              "      <td>AllPub</td>\n",
              "      <td>...</td>\n",
              "      <td>0</td>\n",
              "      <td>NaN</td>\n",
              "      <td>NaN</td>\n",
              "      <td>NaN</td>\n",
              "      <td>0</td>\n",
              "      <td>2</td>\n",
              "      <td>2006</td>\n",
              "      <td>WD</td>\n",
              "      <td>Abnorml</td>\n",
              "      <td>140000</td>\n",
              "    </tr>\n",
              "    <tr>\n",
              "      <th>4</th>\n",
              "      <td>5</td>\n",
              "      <td>60</td>\n",
              "      <td>RL</td>\n",
              "      <td>84.0</td>\n",
              "      <td>14260</td>\n",
              "      <td>Pave</td>\n",
              "      <td>NaN</td>\n",
              "      <td>IR1</td>\n",
              "      <td>Lvl</td>\n",
              "      <td>AllPub</td>\n",
              "      <td>...</td>\n",
              "      <td>0</td>\n",
              "      <td>NaN</td>\n",
              "      <td>NaN</td>\n",
              "      <td>NaN</td>\n",
              "      <td>0</td>\n",
              "      <td>12</td>\n",
              "      <td>2008</td>\n",
              "      <td>WD</td>\n",
              "      <td>Normal</td>\n",
              "      <td>250000</td>\n",
              "    </tr>\n",
              "  </tbody>\n",
              "</table>\n",
              "<p>5 rows × 81 columns</p>\n",
              "</div>"
            ],
            "text/plain": [
              "   Id  MSSubClass MSZoning  LotFrontage  LotArea Street Alley LotShape  \\\n",
              "0   1          60       RL         65.0     8450   Pave   NaN      Reg   \n",
              "1   2          20       RL         80.0     9600   Pave   NaN      Reg   \n",
              "2   3          60       RL         68.0    11250   Pave   NaN      IR1   \n",
              "3   4          70       RL         60.0     9550   Pave   NaN      IR1   \n",
              "4   5          60       RL         84.0    14260   Pave   NaN      IR1   \n",
              "\n",
              "  LandContour Utilities  ... PoolArea PoolQC Fence MiscFeature MiscVal MoSold  \\\n",
              "0         Lvl    AllPub  ...        0    NaN   NaN         NaN       0      2   \n",
              "1         Lvl    AllPub  ...        0    NaN   NaN         NaN       0      5   \n",
              "2         Lvl    AllPub  ...        0    NaN   NaN         NaN       0      9   \n",
              "3         Lvl    AllPub  ...        0    NaN   NaN         NaN       0      2   \n",
              "4         Lvl    AllPub  ...        0    NaN   NaN         NaN       0     12   \n",
              "\n",
              "  YrSold  SaleType  SaleCondition  SalePrice  \n",
              "0   2008        WD         Normal     208500  \n",
              "1   2007        WD         Normal     181500  \n",
              "2   2008        WD         Normal     223500  \n",
              "3   2006        WD        Abnorml     140000  \n",
              "4   2008        WD         Normal     250000  \n",
              "\n",
              "[5 rows x 81 columns]"
            ]
          },
          "execution_count": 162,
          "metadata": {},
          "output_type": "execute_result"
        }
      ],
      "source": [
        "raw_data = pd.read_csv(\"https://raw.githubusercontent.com/michalis0/DataScience_and_MachineLearning/master/05-neural-networks/data/house_price.csv\")\n",
        "raw_data.head()"
      ]
    },
    {
      "cell_type": "code",
      "execution_count": null,
      "id": "cf6af7a8-2aad-45ec-af77-7b00a60cfbac",
      "metadata": {
        "colab": {
          "base_uri": "https://localhost:8080/"
        },
        "id": "cf6af7a8-2aad-45ec-af77-7b00a60cfbac",
        "outputId": "06241ca6-d9b5-4ee2-8d89-f9c16d8c8682"
      },
      "outputs": [
        {
          "data": {
            "text/plain": [
              "(1460, 81)"
            ]
          },
          "execution_count": 163,
          "metadata": {},
          "output_type": "execute_result"
        }
      ],
      "source": [
        "raw_data.shape"
      ]
    },
    {
      "cell_type": "markdown",
      "id": "bfabbcb8-ef34-46d2-b156-6787824e3a85",
      "metadata": {
        "id": "bfabbcb8-ef34-46d2-b156-6787824e3a85"
      },
      "source": [
        "The dataset contains 81 columns. A description of the features is available in the file \"[house_price_data_description](https://github.com/michalis0/DataScience_and_MachineLearning/blob/master/Week_5/data/house_price_data_description.txt)\""
      ]
    },
    {
      "cell_type": "markdown",
      "id": "72baf826-a96e-49d7-a6df-57cd349781f3",
      "metadata": {
        "id": "72baf826-a96e-49d7-a6df-57cd349781f3"
      },
      "source": [
        "##### Preprocessing"
      ]
    },
    {
      "cell_type": "markdown",
      "id": "59cd5835-e7e1-451b-8e5e-64968834756a",
      "metadata": {
        "id": "59cd5835-e7e1-451b-8e5e-64968834756a"
      },
      "source": [
        "Let's first extract the features of interest. We will use the numeric columns:"
      ]
    },
    {
      "cell_type": "code",
      "execution_count": null,
      "id": "dadf3888-4c1a-406f-a199-05145d017ff7",
      "metadata": {
        "colab": {
          "base_uri": "https://localhost:8080/"
        },
        "id": "dadf3888-4c1a-406f-a199-05145d017ff7",
        "outputId": "e2c57621-2715-40fb-b490-997aa215844f"
      },
      "outputs": [
        {
          "data": {
            "text/plain": [
              "Id                 int64\n",
              "MSSubClass         int64\n",
              "MSZoning          object\n",
              "LotFrontage      float64\n",
              "LotArea            int64\n",
              "                  ...   \n",
              "MoSold             int64\n",
              "YrSold             int64\n",
              "SaleType          object\n",
              "SaleCondition     object\n",
              "SalePrice          int64\n",
              "Length: 81, dtype: object"
            ]
          },
          "execution_count": 164,
          "metadata": {},
          "output_type": "execute_result"
        }
      ],
      "source": [
        "# Data types\n",
        "raw_data.dtypes"
      ]
    },
    {
      "cell_type": "code",
      "execution_count": null,
      "id": "bc199722-8f76-4ad7-9b33-65f76a6bb2bb",
      "metadata": {
        "colab": {
          "base_uri": "https://localhost:8080/"
        },
        "id": "bc199722-8f76-4ad7-9b33-65f76a6bb2bb",
        "outputId": "5c2ec611-64dd-4760-efda-1c279a94e06b"
      },
      "outputs": [
        {
          "name": "stdout",
          "output_type": "stream",
          "text": [
            "['Id', 'MSSubClass', 'LotFrontage', 'LotArea', 'OverallQual', 'OverallCond', 'YearBuilt', 'YearRemodAdd', 'MasVnrArea', 'BsmtFinSF1', 'BsmtFinSF2', 'BsmtUnfSF', 'TotalBsmtSF', '1stFlrSF', '2ndFlrSF', 'LowQualFinSF', 'GrLivArea', 'BsmtFullBath', 'BsmtHalfBath', 'FullBath', 'HalfBath', 'BedroomAbvGr', 'KitchenAbvGr', 'TotRmsAbvGrd', 'Fireplaces', 'GarageYrBlt', 'GarageCars', 'GarageArea', 'WoodDeckSF', 'OpenPorchSF', 'EnclosedPorch', '3SsnPorch', 'ScreenPorch', 'PoolArea', 'MiscVal', 'MoSold', 'YrSold', 'SalePrice'] \n",
            " 38\n"
          ]
        }
      ],
      "source": [
        "# Display numeric features (integer and floats)\n",
        "numeric_columns = list(raw_data.columns[(raw_data.dtypes==np.int64) |\n",
        "                 (raw_data.dtypes==np.float64)])\n",
        "print(numeric_columns, \"\\n\", len(numeric_columns))"
      ]
    },
    {
      "cell_type": "markdown",
      "id": "f9354882-1469-42ee-8fd6-38301f89ed0f",
      "metadata": {
        "id": "f9354882-1469-42ee-8fd6-38301f89ed0f"
      },
      "source": [
        "`SalePrice` is the value we want to predict. We set it as the last column:"
      ]
    },
    {
      "cell_type": "code",
      "execution_count": null,
      "id": "28dd7159-374a-47b0-ae56-5864dbac3cf8",
      "metadata": {
        "id": "28dd7159-374a-47b0-ae56-5864dbac3cf8"
      },
      "outputs": [],
      "source": [
        "# Output SalePrice as last column\n",
        "numeric_columns.remove('SalePrice')\n",
        "numeric_columns.append('SalePrice')"
      ]
    },
    {
      "cell_type": "markdown",
      "id": "dfd2153a-be33-48b1-b191-31f95b4734aa",
      "metadata": {
        "id": "dfd2153a-be33-48b1-b191-31f95b4734aa"
      },
      "source": [
        "We also remove the `Id` column:"
      ]
    },
    {
      "cell_type": "code",
      "execution_count": null,
      "id": "8e372a0d-4c5c-444d-bd1e-7fd8d411d84c",
      "metadata": {
        "id": "8e372a0d-4c5c-444d-bd1e-7fd8d411d84c"
      },
      "outputs": [],
      "source": [
        "# Remove Id\n",
        "numeric_columns.remove('Id')"
      ]
    },
    {
      "cell_type": "markdown",
      "id": "05c160a2-ec7f-4690-9eba-464cfffe2e7a",
      "metadata": {
        "id": "05c160a2-ec7f-4690-9eba-464cfffe2e7a"
      },
      "source": [
        "Now we extract the numeric data."
      ]
    },
    {
      "cell_type": "code",
      "execution_count": null,
      "id": "a410bfa5-0140-4d42-a766-c3a553d67683",
      "metadata": {
        "colab": {
          "base_uri": "https://localhost:8080/",
          "height": 256
        },
        "id": "a410bfa5-0140-4d42-a766-c3a553d67683",
        "outputId": "f50524ac-4193-4da0-ca7f-079ba6c76233"
      },
      "outputs": [
        {
          "data": {
            "text/html": [
              "<div>\n",
              "<style scoped>\n",
              "    .dataframe tbody tr th:only-of-type {\n",
              "        vertical-align: middle;\n",
              "    }\n",
              "\n",
              "    .dataframe tbody tr th {\n",
              "        vertical-align: top;\n",
              "    }\n",
              "\n",
              "    .dataframe thead th {\n",
              "        text-align: right;\n",
              "    }\n",
              "</style>\n",
              "<table border=\"1\" class=\"dataframe\">\n",
              "  <thead>\n",
              "    <tr style=\"text-align: right;\">\n",
              "      <th></th>\n",
              "      <th>MSSubClass</th>\n",
              "      <th>LotFrontage</th>\n",
              "      <th>LotArea</th>\n",
              "      <th>OverallQual</th>\n",
              "      <th>OverallCond</th>\n",
              "      <th>YearBuilt</th>\n",
              "      <th>YearRemodAdd</th>\n",
              "      <th>MasVnrArea</th>\n",
              "      <th>BsmtFinSF1</th>\n",
              "      <th>BsmtFinSF2</th>\n",
              "      <th>...</th>\n",
              "      <th>WoodDeckSF</th>\n",
              "      <th>OpenPorchSF</th>\n",
              "      <th>EnclosedPorch</th>\n",
              "      <th>3SsnPorch</th>\n",
              "      <th>ScreenPorch</th>\n",
              "      <th>PoolArea</th>\n",
              "      <th>MiscVal</th>\n",
              "      <th>MoSold</th>\n",
              "      <th>YrSold</th>\n",
              "      <th>SalePrice</th>\n",
              "    </tr>\n",
              "  </thead>\n",
              "  <tbody>\n",
              "    <tr>\n",
              "      <th>0</th>\n",
              "      <td>60</td>\n",
              "      <td>65.0</td>\n",
              "      <td>8450</td>\n",
              "      <td>7</td>\n",
              "      <td>5</td>\n",
              "      <td>2003</td>\n",
              "      <td>2003</td>\n",
              "      <td>196.0</td>\n",
              "      <td>706</td>\n",
              "      <td>0</td>\n",
              "      <td>...</td>\n",
              "      <td>0</td>\n",
              "      <td>61</td>\n",
              "      <td>0</td>\n",
              "      <td>0</td>\n",
              "      <td>0</td>\n",
              "      <td>0</td>\n",
              "      <td>0</td>\n",
              "      <td>2</td>\n",
              "      <td>2008</td>\n",
              "      <td>208500</td>\n",
              "    </tr>\n",
              "    <tr>\n",
              "      <th>1</th>\n",
              "      <td>20</td>\n",
              "      <td>80.0</td>\n",
              "      <td>9600</td>\n",
              "      <td>6</td>\n",
              "      <td>8</td>\n",
              "      <td>1976</td>\n",
              "      <td>1976</td>\n",
              "      <td>0.0</td>\n",
              "      <td>978</td>\n",
              "      <td>0</td>\n",
              "      <td>...</td>\n",
              "      <td>298</td>\n",
              "      <td>0</td>\n",
              "      <td>0</td>\n",
              "      <td>0</td>\n",
              "      <td>0</td>\n",
              "      <td>0</td>\n",
              "      <td>0</td>\n",
              "      <td>5</td>\n",
              "      <td>2007</td>\n",
              "      <td>181500</td>\n",
              "    </tr>\n",
              "    <tr>\n",
              "      <th>2</th>\n",
              "      <td>60</td>\n",
              "      <td>68.0</td>\n",
              "      <td>11250</td>\n",
              "      <td>7</td>\n",
              "      <td>5</td>\n",
              "      <td>2001</td>\n",
              "      <td>2002</td>\n",
              "      <td>162.0</td>\n",
              "      <td>486</td>\n",
              "      <td>0</td>\n",
              "      <td>...</td>\n",
              "      <td>0</td>\n",
              "      <td>42</td>\n",
              "      <td>0</td>\n",
              "      <td>0</td>\n",
              "      <td>0</td>\n",
              "      <td>0</td>\n",
              "      <td>0</td>\n",
              "      <td>9</td>\n",
              "      <td>2008</td>\n",
              "      <td>223500</td>\n",
              "    </tr>\n",
              "    <tr>\n",
              "      <th>3</th>\n",
              "      <td>70</td>\n",
              "      <td>60.0</td>\n",
              "      <td>9550</td>\n",
              "      <td>7</td>\n",
              "      <td>5</td>\n",
              "      <td>1915</td>\n",
              "      <td>1970</td>\n",
              "      <td>0.0</td>\n",
              "      <td>216</td>\n",
              "      <td>0</td>\n",
              "      <td>...</td>\n",
              "      <td>0</td>\n",
              "      <td>35</td>\n",
              "      <td>272</td>\n",
              "      <td>0</td>\n",
              "      <td>0</td>\n",
              "      <td>0</td>\n",
              "      <td>0</td>\n",
              "      <td>2</td>\n",
              "      <td>2006</td>\n",
              "      <td>140000</td>\n",
              "    </tr>\n",
              "    <tr>\n",
              "      <th>4</th>\n",
              "      <td>60</td>\n",
              "      <td>84.0</td>\n",
              "      <td>14260</td>\n",
              "      <td>8</td>\n",
              "      <td>5</td>\n",
              "      <td>2000</td>\n",
              "      <td>2000</td>\n",
              "      <td>350.0</td>\n",
              "      <td>655</td>\n",
              "      <td>0</td>\n",
              "      <td>...</td>\n",
              "      <td>192</td>\n",
              "      <td>84</td>\n",
              "      <td>0</td>\n",
              "      <td>0</td>\n",
              "      <td>0</td>\n",
              "      <td>0</td>\n",
              "      <td>0</td>\n",
              "      <td>12</td>\n",
              "      <td>2008</td>\n",
              "      <td>250000</td>\n",
              "    </tr>\n",
              "  </tbody>\n",
              "</table>\n",
              "<p>5 rows × 37 columns</p>\n",
              "</div>"
            ],
            "text/plain": [
              "   MSSubClass  LotFrontage  LotArea  OverallQual  OverallCond  YearBuilt  \\\n",
              "0          60         65.0     8450            7            5       2003   \n",
              "1          20         80.0     9600            6            8       1976   \n",
              "2          60         68.0    11250            7            5       2001   \n",
              "3          70         60.0     9550            7            5       1915   \n",
              "4          60         84.0    14260            8            5       2000   \n",
              "\n",
              "   YearRemodAdd  MasVnrArea  BsmtFinSF1  BsmtFinSF2  ...  WoodDeckSF  \\\n",
              "0          2003       196.0         706           0  ...           0   \n",
              "1          1976         0.0         978           0  ...         298   \n",
              "2          2002       162.0         486           0  ...           0   \n",
              "3          1970         0.0         216           0  ...           0   \n",
              "4          2000       350.0         655           0  ...         192   \n",
              "\n",
              "   OpenPorchSF  EnclosedPorch  3SsnPorch  ScreenPorch  PoolArea  MiscVal  \\\n",
              "0           61              0          0            0         0        0   \n",
              "1            0              0          0            0         0        0   \n",
              "2           42              0          0            0         0        0   \n",
              "3           35            272          0            0         0        0   \n",
              "4           84              0          0            0         0        0   \n",
              "\n",
              "   MoSold  YrSold  SalePrice  \n",
              "0       2    2008     208500  \n",
              "1       5    2007     181500  \n",
              "2       9    2008     223500  \n",
              "3       2    2006     140000  \n",
              "4      12    2008     250000  \n",
              "\n",
              "[5 rows x 37 columns]"
            ]
          },
          "execution_count": 168,
          "metadata": {},
          "output_type": "execute_result"
        }
      ],
      "source": [
        "# Extract numeric data\n",
        "numeric_data = raw_data[numeric_columns]\n",
        "numeric_data.head()"
      ]
    },
    {
      "cell_type": "markdown",
      "id": "a51ca5a4-e780-4b42-a304-01c5b6a915b2",
      "metadata": {
        "id": "a51ca5a4-e780-4b42-a304-01c5b6a915b2"
      },
      "source": [
        "Now let's deal with the missing values in the data."
      ]
    },
    {
      "cell_type": "code",
      "execution_count": null,
      "id": "a9084d6e-2a1f-4e81-ab29-a575cf340478",
      "metadata": {
        "colab": {
          "base_uri": "https://localhost:8080/"
        },
        "id": "a9084d6e-2a1f-4e81-ab29-a575cf340478",
        "outputId": "39cef36c-83ca-47fd-d7fa-3f1096733442"
      },
      "outputs": [
        {
          "data": {
            "text/plain": [
              "['LotFrontage', 'MasVnrArea', 'GarageYrBlt']"
            ]
          },
          "execution_count": 169,
          "metadata": {},
          "output_type": "execute_result"
        }
      ],
      "source": [
        "# Display features with missing values\n",
        "nan_columns = np.any(pd.isna(numeric_data), axis = 0)\n",
        "nan_columns = list(nan_columns[nan_columns == True].index)\n",
        "nan_columns"
      ]
    },
    {
      "cell_type": "markdown",
      "id": "748bbb00-d6db-47a8-b295-8652159c69c1",
      "metadata": {
        "id": "748bbb00-d6db-47a8-b295-8652159c69c1"
      },
      "source": [
        "We simply replace them with zero."
      ]
    },
    {
      "cell_type": "code",
      "execution_count": null,
      "id": "45c3bbd9-c641-4864-b657-b193d1659f67",
      "metadata": {
        "id": "45c3bbd9-c641-4864-b657-b193d1659f67"
      },
      "outputs": [],
      "source": [
        "# Replace NAN with 0\n",
        "numeric_data = numeric_data.fillna(0)"
      ]
    },
    {
      "cell_type": "markdown",
      "id": "a3244053-ee49-4f29-b4c1-aefe674bdb33",
      "metadata": {
        "id": "a3244053-ee49-4f29-b4c1-aefe674bdb33"
      },
      "source": [
        "##### Creating training and test set\n",
        "\n",
        "Let's split the data for training and test. We use the `train_test_split` module of `sklearn`:"
      ]
    },
    {
      "cell_type": "code",
      "execution_count": null,
      "id": "91354d50-6616-4454-a8cf-3aa8a615d9e6",
      "metadata": {
        "id": "91354d50-6616-4454-a8cf-3aa8a615d9e6"
      },
      "outputs": [],
      "source": [
        "# Splitting training/test set\n",
        "numeric_data_train, numeric_data_test = train_test_split(numeric_data, test_size=0.1, random_state=7)"
      ]
    },
    {
      "cell_type": "markdown",
      "id": "0ac2ae80-d076-489e-af05-251d81820da3",
      "metadata": {
        "id": "0ac2ae80-d076-489e-af05-251d81820da3"
      },
      "source": [
        "##### Normalizing the data\n",
        "\n",
        "Before training our linear regression model, we have to normalize the data. We do this by subtracting each column from its minimum value and then dividing it by the difference between maximum and minimum. We use the `MinMaxScaler` of `sklearn`."
      ]
    },
    {
      "cell_type": "code",
      "execution_count": null,
      "id": "ea634322-702e-42d7-aaa3-722b144ac6f9",
      "metadata": {
        "id": "ea634322-702e-42d7-aaa3-722b144ac6f9"
      },
      "outputs": [],
      "source": [
        "#Define the scaler\n",
        "scaler = MinMaxScaler()\n",
        "#Fit the scaler\n",
        "scaler.fit(numeric_data_train)\n",
        "#Transform the train and the test set\n",
        "numeric_data_train.loc[:,:] = scaler.transform(numeric_data_train)\n",
        "numeric_data_test.loc[:,:] = scaler.transform(numeric_data_test)"
      ]
    },
    {
      "cell_type": "markdown",
      "id": "dce94995-d1aa-4efc-9bc9-727c32d23291",
      "metadata": {
        "id": "dce94995-d1aa-4efc-9bc9-727c32d23291"
      },
      "source": [
        "Finally, we split the column we want to predict (\"SalePrice\") to our features:"
      ]
    },
    {
      "cell_type": "code",
      "execution_count": null,
      "id": "14d211f0-ee9d-4ded-bfb0-c870e91ff0a9",
      "metadata": {
        "id": "14d211f0-ee9d-4ded-bfb0-c870e91ff0a9"
      },
      "outputs": [],
      "source": [
        "# Extract features and output\n",
        "numeric_x_columns = list(numeric_data_train.columns)\n",
        "numeric_x_columns.remove(\"SalePrice\")\n",
        "X_train_df = numeric_data_train[numeric_x_columns]\n",
        "y_train_df = pd.DataFrame(numeric_data_train[\"SalePrice\"])\n",
        "X_test_df = numeric_data_test[numeric_x_columns]\n",
        "y_test_df = pd.DataFrame(numeric_data_test[\"SalePrice\"])\n"
      ]
    },
    {
      "cell_type": "markdown",
      "id": "6b91b5e4-c62a-48eb-9ded-7b3799c69f85",
      "metadata": {
        "id": "6b91b5e4-c62a-48eb-9ded-7b3799c69f85"
      },
      "source": [
        "Ok, all set, we can start building our Neural Net!"
      ]
    },
    {
      "cell_type": "markdown",
      "id": "e69796e1-d7d7-4cf4-9950-395082f2084d",
      "metadata": {
        "id": "e69796e1-d7d7-4cf4-9950-395082f2084d"
      },
      "source": [
        "### Building a Linear Regression model with PyTorch\n",
        "\n",
        "We use the `PyTorch` library ([Documentation](https://pytorch.org/), imported at the beginning of this notebook with the following lines of codes:\n",
        "\n",
        "```python\n",
        "import torch\n",
        "import torch.nn as nn\n",
        "```\n",
        "\n",
        "`torch.nn` contains the building blocks to build Neural Nets, e.g., the layers ([Documentation](https://pytorch.org/docs/stable/nn.html))."
      ]
    },
    {
      "cell_type": "markdown",
      "id": "b18b7976-ea1e-4a95-9e53-c29d816e615d",
      "metadata": {
        "id": "b18b7976-ea1e-4a95-9e53-c29d816e615d"
      },
      "source": [
        "#### Create tensors\n",
        "\n",
        "The first step is to convert the data into torch tensors. A `torch.Tensor` is a multi-dimensional matrix containing elements of a single data type. It's very similar to arrays in `NumPy`.\n",
        "\n",
        "We rely on `torch.tensor()` for the conversion ([Documentation](https://pytorch.org/docs/stable/tensors.html))."
      ]
    },
    {
      "cell_type": "code",
      "execution_count": null,
      "id": "ad283baf-f652-4d6f-a6fa-441c53731ea2",
      "metadata": {
        "id": "ad283baf-f652-4d6f-a6fa-441c53731ea2"
      },
      "outputs": [],
      "source": [
        "X_train = torch.tensor(X_train_df.values, dtype=torch.float)\n",
        "y_train = torch.tensor(y_train_df.values, dtype=torch.float)\n",
        "X_test = torch.tensor(X_test_df.values, dtype=torch.float)\n",
        "y_test = torch.tensor(y_test_df.values, dtype=torch.float)"
      ]
    },
    {
      "cell_type": "code",
      "execution_count": null,
      "id": "2abafe50-c9cf-4275-8d08-3aca51122e0f",
      "metadata": {
        "colab": {
          "base_uri": "https://localhost:8080/"
        },
        "id": "2abafe50-c9cf-4275-8d08-3aca51122e0f",
        "outputId": "571bddd2-c990-4e92-ac19-2668f0acbbd1"
      },
      "outputs": [
        {
          "name": "stdout",
          "output_type": "stream",
          "text": [
            "torch.Size([1314, 36]) torch.Size([1314, 1])\n"
          ]
        }
      ],
      "source": [
        "print(X_train.size(), y_train.size())"
      ]
    },
    {
      "cell_type": "markdown",
      "id": "aae66a72-8269-4917-9ac4-0c42f8dcd249",
      "metadata": {
        "id": "aae66a72-8269-4917-9ac4-0c42f8dcd249"
      },
      "source": [
        "#### Define and train a model with PyTorch\n",
        "\n",
        "A model is defined as a `class` in PyTorch. Classes are a means of bundling data and functionality together, allowing to create a new type of Python object. You can read the Python documentation on [Classes](https://docs.python.org/3/tutorial/classes.html) to learn more about them.\n",
        "\n",
        "When you create your Neural Net, you should define:\n",
        "- a `__init__` function in which you define the layers of your network.\n",
        "- a `forward` function (method) that defines the forward pass on the network.\n",
        "\n",
        "For the beginning, let's start with a single layer network:\n",
        "- The layer `nn.Linear()` performs a linear transformation ([Documentation](https://pytorch.org/docs/stable/generated/torch.nn.Linear.html)). The input and output are the number of neurons\n",
        "- `nn.ReLU()` applies the Rectified Linear Unit function: $ReLU(x)=\\max(0,x)$ ([Documentation](https://pytorch.org/docs/stable/generated/torch.nn.ReLU.html))."
      ]
    },
    {
      "cell_type": "code",
      "execution_count": null,
      "id": "27e00f35-13ce-4e0b-946c-a2f0ad780e79",
      "metadata": {
        "id": "27e00f35-13ce-4e0b-946c-a2f0ad780e79"
      },
      "outputs": [],
      "source": [
        "class Net(nn.Module):\n",
        "    def __init__(self, D_in, H1, D_out):\n",
        "        super(Net, self).__init__()\n",
        "\n",
        "        self.linear1 = nn.Linear(D_in, H1)        # Linear transformation for hidden layer\n",
        "        self.linear2 = nn.Linear(H1, D_out)       # Linear transformation for output layer\n",
        "        self.activation = nn.ReLU()               # Activation function for hidden layer\n",
        "\n",
        "    def forward(self, x):\n",
        "        y_pred = self.activation(self.linear1(x))   # Hidden layer: linear transformation + ReLU\n",
        "        y_pred = self.linear2(y_pred)               # Output layer: linear transformation\n",
        "        return y_pred"
      ]
    },
    {
      "cell_type": "markdown",
      "id": "3ccb4e35-61d3-49fe-aa50-a0c9e7590be9",
      "metadata": {
        "id": "3ccb4e35-61d3-49fe-aa50-a0c9e7590be9"
      },
      "source": [
        "`D_in` is the input dimension, i.e., the number of features. Similarly, `D_out` is the output dimension, i.e., 1 (we only predict the \"SalePrice\"):"
      ]
    },
    {
      "cell_type": "code",
      "execution_count": null,
      "id": "7dc3176e-1cab-4b11-88c6-f3547752aca3",
      "metadata": {
        "id": "7dc3176e-1cab-4b11-88c6-f3547752aca3",
        "outputId": "b2f4e160-ec45-40b5-c309-9684955d87ad"
      },
      "outputs": [
        {
          "name": "stdout",
          "output_type": "stream",
          "text": [
            "36 1\n"
          ]
        }
      ],
      "source": [
        "D_in, D_out = X_train.shape[1], y_train.shape[1]\n",
        "\n",
        "print(D_in, D_out)"
      ]
    },
    {
      "cell_type": "markdown",
      "id": "1be40cbf-4811-4338-afab-2de1798c6257",
      "metadata": {
        "id": "1be40cbf-4811-4338-afab-2de1798c6257"
      },
      "source": [
        "Ok, let's define our first model. It is an instance of our newly-created class \"Net\". We are going to use 500 neurons for the hidden layer:"
      ]
    },
    {
      "cell_type": "code",
      "execution_count": null,
      "id": "1c315b3f-951b-4b8b-8e5b-12594dcc265f",
      "metadata": {
        "id": "1c315b3f-951b-4b8b-8e5b-12594dcc265f"
      },
      "outputs": [],
      "source": [
        "# Model with 500 neurons\n",
        "model1 = Net(D_in, 500, D_out)"
      ]
    },
    {
      "cell_type": "markdown",
      "id": "WfBZxU5fmHsg",
      "metadata": {
        "id": "WfBZxU5fmHsg"
      },
      "source": [
        "Let's calculate now how many parameters we have in the model."
      ]
    },
    {
      "cell_type": "code",
      "execution_count": null,
      "id": "2_pUo4LGl7Us",
      "metadata": {
        "colab": {
          "base_uri": "https://localhost:8080/"
        },
        "id": "2_pUo4LGl7Us",
        "outputId": "67991f1f-90b4-4cda-d99c-5b8a7ad957b3"
      },
      "outputs": [
        {
          "name": "stdout",
          "output_type": "stream",
          "text": [
            "19001\n"
          ]
        }
      ],
      "source": [
        "# calculate how many parameters are in the model\n",
        "pytorch_total_params = sum(p.numel() for p in model1.parameters() if p.requires_grad)\n",
        "print(pytorch_total_params)"
      ]
    },
    {
      "cell_type": "markdown",
      "id": "ae8c9515-d808-4838-92d1-a56deb34ff08",
      "metadata": {
        "id": "ae8c9515-d808-4838-92d1-a56deb34ff08"
      },
      "source": [
        "The next steps is to define the **loss criterion** and the **optimizer** for the network. That is, we have to define the loss function we want to optimize during training and also the optimization method. We use:\n",
        "- `MSELoss()` as loss criterion, i.e., the mean square error ([Documentation](https://pytorch.org/docs/stable/generated/torch.nn.MSELoss.html))\n",
        "- `SGD()`as optimizer, i.e., stochastic gradient descent ([Documentation](https://pytorch.org/docs/stable/generated/torch.optim.SGD.html))"
      ]
    },
    {
      "cell_type": "code",
      "execution_count": null,
      "id": "0efef490-e70e-445e-be89-3f206912d03e",
      "metadata": {
        "id": "0efef490-e70e-445e-be89-3f206912d03e"
      },
      "outputs": [],
      "source": [
        "# MSE loss\n",
        "criterion = nn.MSELoss(reduction='sum')\n",
        "# SGD optimizer for finding the weights of the network\n",
        "optimizer = torch.optim.SGD(model1.parameters(), lr=1e-4)"
      ]
    },
    {
      "cell_type": "markdown",
      "id": "a4268da0-fa53-43e2-8ee8-e8f3bb952d22",
      "metadata": {
        "id": "a4268da0-fa53-43e2-8ee8-e8f3bb952d22"
      },
      "source": [
        "Wonderful, we are ready to do the training! We can simply by looping over the number of iterations. The training has 3 main steps:\n",
        "- A forward pass to compute the prediction for the current data point (batch).\n",
        "- Computing the loss for the current prediction with the previously defined criterion.\n",
        "- A backward pass to compute the gradient of the loss with respect to the weight of the network (`backward()`)\n",
        "- Finally, updating the weights of the network (`optimizer.step()`).\n",
        "\n",
        "Note that in each backward pass PyTorch saves the gradient for all of the parameters. Therefore it is important to replace the old gradient values with zero in the beginning of each iteration (`optimizer.zero_grad()`), otherwise the gradients will be accumulated during the iterations!"
      ]
    },
    {
      "cell_type": "code",
      "execution_count": null,
      "id": "42ec6c24-99e9-4a0f-bebd-25ea390edd0b",
      "metadata": {
        "id": "42ec6c24-99e9-4a0f-bebd-25ea390edd0b"
      },
      "outputs": [],
      "source": [
        "losses1 = []\n",
        "losses1_test = []\n",
        "\n",
        "for t in range(500):                # 500 iterations\n",
        "\n",
        "    # Forward pass: compute prediction on training set\n",
        "    y_pred = model1(X_train)\n",
        "\n",
        "    # Compute loss\n",
        "    loss = criterion(y_pred, y_train)\n",
        "    if t%100 == 0:\n",
        "      print(t, loss.item())\n",
        "    losses1.append(loss.item())\n",
        "    if torch.isnan(loss):\n",
        "        break\n",
        "\n",
        "    # Compute gradient\n",
        "    optimizer.zero_grad()\n",
        "    loss.backward()\n",
        "\n",
        "    # Update\n",
        "    optimizer.step()\n",
        "\n",
        "    # Compute loss on test set\n",
        "    losses1_test.append(criterion(model1(X_test), y_test).item())"
      ]
    },
    {
      "cell_type": "markdown",
      "id": "09d02e07-bd34-45ac-867d-8982849127a0",
      "metadata": {
        "id": "09d02e07-bd34-45ac-867d-8982849127a0"
      },
      "source": [
        "Let's visualize the evolution of the MSE on the training set and test set:"
      ]
    },
    {
      "cell_type": "code",
      "execution_count": null,
      "id": "72f20a67-f7f3-457b-be47-fa0884f43921",
      "metadata": {
        "colab": {
          "base_uri": "https://localhost:8080/",
          "height": 391
        },
        "id": "72f20a67-f7f3-457b-be47-fa0884f43921",
        "outputId": "d7b55cca-a4a0-4cc9-cbe3-047c668386f4"
      },
      "outputs": [
        {
          "data": {
            "image/png": "[encoded data removed]",
            "text/plain": [
              "<Figure size 600x400 with 1 Axes>"
            ]
          },
          "metadata": {},
          "output_type": "display_data"
        }
      ],
      "source": [
        "# Plot training and test loss\n",
        "plt.figure(figsize=(6, 4))\n",
        "plt.plot(losses1, label=\"Training loss\")\n",
        "plt.plot(losses1_test, label=\"Test loss\")\n",
        "plt.title('Evolution of training and test loss - 500 neurons')\n",
        "plt.ylim(top=70, bottom=0.0)\n",
        "plt.legend()\n",
        "plt.show()"
      ]
    },
    {
      "cell_type": "markdown",
      "id": "1a0d9df0-6281-4f7e-bc24-de4043050d9f",
      "metadata": {
        "id": "1a0d9df0-6281-4f7e-bc24-de4043050d9f"
      },
      "source": [
        "Now let's try a new model with more neurons in the hidden layer. We use 1000 neurons, and follow the same steps as before:"
      ]
    },
    {
      "cell_type": "code",
      "execution_count": null,
      "id": "9e01fdf3-d136-4186-9031-5afa987dcff6",
      "metadata": {
        "id": "9e01fdf3-d136-4186-9031-5afa987dcff6"
      },
      "outputs": [],
      "source": [
        "model2 = Net(D_in, 1000, D_out)"
      ]
    },
    {
      "cell_type": "code",
      "execution_count": null,
      "id": "4bff1abe-a077-4aae-ac9b-3f691384d92d",
      "metadata": {
        "id": "4bff1abe-a077-4aae-ac9b-3f691384d92d"
      },
      "outputs": [],
      "source": [
        "# MSE loss\n",
        "criterion = nn.MSELoss(reduction='sum')\n",
        "# SGD optimizer for finding the weights of the network\n",
        "optimizer = torch.optim.SGD(model2.parameters(), lr=1e-4)"
      ]
    },
    {
      "cell_type": "code",
      "execution_count": null,
      "id": "6a66ea8a-0024-4a15-a610-b2a48bffb53f",
      "metadata": {
        "id": "6a66ea8a-0024-4a15-a610-b2a48bffb53f"
      },
      "outputs": [],
      "source": [
        "losses2 = []\n",
        "\n",
        "for t in range(500):\n",
        "    y_pred = model2(X_train)\n",
        "\n",
        "    loss = criterion(y_pred, y_train)\n",
        "    losses2.append(loss.item())\n",
        "\n",
        "    if torch.isnan(loss):\n",
        "        break\n",
        "\n",
        "    optimizer.zero_grad()\n",
        "    loss.backward()\n",
        "    optimizer.step()"
      ]
    },
    {
      "cell_type": "markdown",
      "id": "9a867ebe-fc63-48e5-bf2c-4c0f04c4f507",
      "metadata": {
        "id": "9a867ebe-fc63-48e5-bf2c-4c0f04c4f507"
      },
      "source": [
        "Let's visualize the evolution of the training loss for the two models:"
      ]
    },
    {
      "cell_type": "code",
      "execution_count": null,
      "id": "e65c835d-cadf-4149-83f0-36356f48a67a",
      "metadata": {
        "colab": {
          "base_uri": "https://localhost:8080/",
          "height": 391
        },
        "id": "e65c835d-cadf-4149-83f0-36356f48a67a",
        "outputId": "53473407-cda2-4563-c49e-1bbacd88b7b5"
      },
      "outputs": [
        {
          "data": {
            "image/png": "[encoded data removed]",
            "text/plain": [
              "<Figure size 600x400 with 1 Axes>"
            ]
          },
          "metadata": {},
          "output_type": "display_data"
        }
      ],
      "source": [
        "# Plot training and test loss\n",
        "plt.figure(figsize=(6, 4))\n",
        "plt.plot(losses1, label=\"Model 1: 500 neurons\")\n",
        "plt.plot(losses2, label=\"Model 2: 1000 neurons\")\n",
        "plt.title('Evolution of training loss')\n",
        "plt.ylim(top=70, bottom=0.0)\n",
        "plt.legend()\n",
        "plt.show()"
      ]
    },
    {
      "cell_type": "markdown",
      "id": "2da286f3-4298-4bac-901a-a553314f7201",
      "metadata": {
        "id": "2da286f3-4298-4bac-901a-a553314f7201"
      },
      "source": [
        "Let's compare the MSE loss on the test data:"
      ]
    },
    {
      "cell_type": "code",
      "execution_count": null,
      "id": "e7035489-609d-423f-a36c-0158923fb064",
      "metadata": {
        "colab": {
          "base_uri": "https://localhost:8080/"
        },
        "id": "e7035489-609d-423f-a36c-0158923fb064",
        "outputId": "170e511e-db8a-4696-c8f8-f752c9869d74"
      },
      "outputs": [
        {
          "name": "stdout",
          "output_type": "stream",
          "text": [
            "MSE loss for model 1:  tensor(0.3581, grad_fn=<MseLossBackward0>)\n",
            "MSE loss for model 2:  tensor(0.2589, grad_fn=<MseLossBackward0>)\n"
          ]
        }
      ],
      "source": [
        "# prediction for model 1\n",
        "model1_pred = model1(X_test)\n",
        "print(\"MSE loss for model 1: \", criterion(model1_pred, y_test))\n",
        "# prediction for model 2\n",
        "model2_pred = model2(X_test)\n",
        "print(\"MSE loss for model 2: \", criterion(model2_pred, y_test))"
      ]
    },
    {
      "cell_type": "markdown",
      "id": "8f7f0b8d",
      "metadata": {
        "id": "8f7f0b8d"
      },
      "source": [
        "Then, we can switch the model to evaluation mode with `.eval()`, then predict both the training and test data. After making predictions, calculate and print the training and test accuracy to evaluate the model's performance."
      ]
    },
    {
      "cell_type": "code",
      "execution_count": null,
      "id": "a27475c5",
      "metadata": {
        "id": "a27475c5",
        "outputId": "fc6848a3-011a-4640-b86c-4847e2945b33"
      },
      "outputs": [
        {
          "name": "stdout",
          "output_type": "stream",
          "text": [
            "train accuracy: 1.0\n",
            "test accuracy: 0.0\n"
          ]
        }
      ],
      "source": [
        "# Set the model to evaluation mode\n",
        "model1.eval()\n",
        "\n",
        "# Predict and calculate training accuracy\n",
        "y_tr_pred = model1(X_train)\n",
        "y_tr_pred = torch.argmax(y_tr_pred, dim=1)\n",
        "# train_labels = y_train.argmax(dim=1)\n",
        "train_acc = (y_train == y_tr_pred).sum() / len(y_train)\n",
        "print(f\"train accuracy: {train_acc}\")\n",
        "\n",
        "# Predict and calculate test accuracy\n",
        "y_te_pred = model1(X_test)\n",
        "y_te_pred = torch.argmax(y_te_pred, dim=1)\n",
        "# test_labels = y_test.argmax(dim=1)\n",
        "test_acc = (y_test == y_te_pred).sum() / len(y_test)\n",
        "print(f\"test accuracy: {test_acc}\")"
      ]
    },
    {
      "cell_type": "markdown",
      "id": "4fd45a42-8bdc-45e6-be68-7e18b7253a63",
      "metadata": {
        "id": "4fd45a42-8bdc-45e6-be68-7e18b7253a63"
      },
      "source": [
        "What do you think?"
      ]
    },
    {
      "cell_type": "markdown",
      "id": "dorz99y4EToc",
      "metadata": {
        "id": "dorz99y4EToc"
      },
      "source": [
        "## Your turn !"
      ]
    },
    {
      "cell_type": "markdown",
      "id": "CuT4YoaXEV-A",
      "metadata": {
        "id": "CuT4YoaXEV-A"
      },
      "source": [
        "Based on this dataset ([link](https://github.com/michalis0/DataScience_and_MachineLearning/blob/master/05-neural-networks/data/spotify.csv)) imported from kaggle, create a Neural Network that will predict the streams of a song based on its bpm, key, danceability, valence, energy, acousticness, instrumentalness, liveness, and speechiness. (Hint: if there are some errors, try to copy/paste them in Google to see some solutions.)"
      ]
    },
    {
      "cell_type": "code",
      "execution_count": null,
      "id": "CUKC2qaLETBV",
      "metadata": {
        "colab": {
          "base_uri": "https://localhost:8080/",
          "height": 478
        },
        "id": "CUKC2qaLETBV",
        "outputId": "30c357b2-e6f7-48bf-e5e6-fc459db71706"
      },
      "outputs": [
        {
          "data": {
            "text/html": [
              "<div>\n",
              "<style scoped>\n",
              "    .dataframe tbody tr th:only-of-type {\n",
              "        vertical-align: middle;\n",
              "    }\n",
              "\n",
              "    .dataframe tbody tr th {\n",
              "        vertical-align: top;\n",
              "    }\n",
              "\n",
              "    .dataframe thead th {\n",
              "        text-align: right;\n",
              "    }\n",
              "</style>\n",
              "<table border=\"1\" class=\"dataframe\">\n",
              "  <thead>\n",
              "    <tr style=\"text-align: right;\">\n",
              "      <th></th>\n",
              "      <th>track_name</th>\n",
              "      <th>artist(s)_name</th>\n",
              "      <th>artist_count</th>\n",
              "      <th>released_year</th>\n",
              "      <th>released_month</th>\n",
              "      <th>released_day</th>\n",
              "      <th>in_spotify_playlists</th>\n",
              "      <th>in_spotify_charts</th>\n",
              "      <th>streams</th>\n",
              "      <th>in_apple_playlists</th>\n",
              "      <th>...</th>\n",
              "      <th>bpm</th>\n",
              "      <th>key</th>\n",
              "      <th>mode</th>\n",
              "      <th>danceability_%</th>\n",
              "      <th>valence_%</th>\n",
              "      <th>energy_%</th>\n",
              "      <th>acousticness_%</th>\n",
              "      <th>instrumentalness_%</th>\n",
              "      <th>liveness_%</th>\n",
              "      <th>speechiness_%</th>\n",
              "    </tr>\n",
              "  </thead>\n",
              "  <tbody>\n",
              "    <tr>\n",
              "      <th>0</th>\n",
              "      <td>LALA</td>\n",
              "      <td>Myke Towers</td>\n",
              "      <td>1.0</td>\n",
              "      <td>2023.0</td>\n",
              "      <td>3.0</td>\n",
              "      <td>23.0</td>\n",
              "      <td>1474.0</td>\n",
              "      <td>48.0</td>\n",
              "      <td>133716286.0</td>\n",
              "      <td>48.0</td>\n",
              "      <td>...</td>\n",
              "      <td>92.0</td>\n",
              "      <td>C#</td>\n",
              "      <td>Major</td>\n",
              "      <td>71.0</td>\n",
              "      <td>61.0</td>\n",
              "      <td>74.0</td>\n",
              "      <td>7.0</td>\n",
              "      <td>0.0</td>\n",
              "      <td>10.0</td>\n",
              "      <td>4.0</td>\n",
              "    </tr>\n",
              "    <tr>\n",
              "      <th>1</th>\n",
              "      <td>vampire</td>\n",
              "      <td>Olivia Rodrigo</td>\n",
              "      <td>1.0</td>\n",
              "      <td>2023.0</td>\n",
              "      <td>6.0</td>\n",
              "      <td>30.0</td>\n",
              "      <td>1397.0</td>\n",
              "      <td>113.0</td>\n",
              "      <td>140003974.0</td>\n",
              "      <td>94.0</td>\n",
              "      <td>...</td>\n",
              "      <td>138.0</td>\n",
              "      <td>F</td>\n",
              "      <td>Major</td>\n",
              "      <td>51.0</td>\n",
              "      <td>32.0</td>\n",
              "      <td>53.0</td>\n",
              "      <td>17.0</td>\n",
              "      <td>0.0</td>\n",
              "      <td>31.0</td>\n",
              "      <td>6.0</td>\n",
              "    </tr>\n",
              "    <tr>\n",
              "      <th>2</th>\n",
              "      <td>Cruel Summer</td>\n",
              "      <td>Taylor Swift</td>\n",
              "      <td>1.0</td>\n",
              "      <td>2019.0</td>\n",
              "      <td>8.0</td>\n",
              "      <td>23.0</td>\n",
              "      <td>7858.0</td>\n",
              "      <td>100.0</td>\n",
              "      <td>800840817.0</td>\n",
              "      <td>116.0</td>\n",
              "      <td>...</td>\n",
              "      <td>170.0</td>\n",
              "      <td>A</td>\n",
              "      <td>Major</td>\n",
              "      <td>55.0</td>\n",
              "      <td>58.0</td>\n",
              "      <td>72.0</td>\n",
              "      <td>11.0</td>\n",
              "      <td>0.0</td>\n",
              "      <td>11.0</td>\n",
              "      <td>15.0</td>\n",
              "    </tr>\n",
              "    <tr>\n",
              "      <th>3</th>\n",
              "      <td>WHERE SHE GOES</td>\n",
              "      <td>Bad Bunny</td>\n",
              "      <td>1.0</td>\n",
              "      <td>2023.0</td>\n",
              "      <td>5.0</td>\n",
              "      <td>18.0</td>\n",
              "      <td>3133.0</td>\n",
              "      <td>50.0</td>\n",
              "      <td>303236322.0</td>\n",
              "      <td>84.0</td>\n",
              "      <td>...</td>\n",
              "      <td>144.0</td>\n",
              "      <td>A</td>\n",
              "      <td>Minor</td>\n",
              "      <td>65.0</td>\n",
              "      <td>23.0</td>\n",
              "      <td>80.0</td>\n",
              "      <td>14.0</td>\n",
              "      <td>63.0</td>\n",
              "      <td>11.0</td>\n",
              "      <td>6.0</td>\n",
              "    </tr>\n",
              "    <tr>\n",
              "      <th>4</th>\n",
              "      <td>Columbia</td>\n",
              "      <td>Quevedo</td>\n",
              "      <td>1.0</td>\n",
              "      <td>2023.0</td>\n",
              "      <td>7.0</td>\n",
              "      <td>7.0</td>\n",
              "      <td>714.0</td>\n",
              "      <td>43.0</td>\n",
              "      <td>58149378.0</td>\n",
              "      <td>25.0</td>\n",
              "      <td>...</td>\n",
              "      <td>100.0</td>\n",
              "      <td>F</td>\n",
              "      <td>Major</td>\n",
              "      <td>67.0</td>\n",
              "      <td>26.0</td>\n",
              "      <td>71.0</td>\n",
              "      <td>37.0</td>\n",
              "      <td>0.0</td>\n",
              "      <td>11.0</td>\n",
              "      <td>4.0</td>\n",
              "    </tr>\n",
              "    <tr>\n",
              "      <th>...</th>\n",
              "      <td>...</td>\n",
              "      <td>...</td>\n",
              "      <td>...</td>\n",
              "      <td>...</td>\n",
              "      <td>...</td>\n",
              "      <td>...</td>\n",
              "      <td>...</td>\n",
              "      <td>...</td>\n",
              "      <td>...</td>\n",
              "      <td>...</td>\n",
              "      <td>...</td>\n",
              "      <td>...</td>\n",
              "      <td>...</td>\n",
              "      <td>...</td>\n",
              "      <td>...</td>\n",
              "      <td>...</td>\n",
              "      <td>...</td>\n",
              "      <td>...</td>\n",
              "      <td>...</td>\n",
              "      <td>...</td>\n",
              "      <td>...</td>\n",
              "    </tr>\n",
              "    <tr>\n",
              "      <th>435</th>\n",
              "      <td>BackOutsideBoyz</td>\n",
              "      <td>Drake</td>\n",
              "      <td>1.0</td>\n",
              "      <td>2022.0</td>\n",
              "      <td>11.0</td>\n",
              "      <td>4.0</td>\n",
              "      <td>1045.0</td>\n",
              "      <td>0.0</td>\n",
              "      <td>93367537.0</td>\n",
              "      <td>8.0</td>\n",
              "      <td>...</td>\n",
              "      <td>142.0</td>\n",
              "      <td>F</td>\n",
              "      <td>Minor</td>\n",
              "      <td>85.0</td>\n",
              "      <td>40.0</td>\n",
              "      <td>43.0</td>\n",
              "      <td>4.0</td>\n",
              "      <td>0.0</td>\n",
              "      <td>39.0</td>\n",
              "      <td>32.0</td>\n",
              "    </tr>\n",
              "    <tr>\n",
              "      <th>436</th>\n",
              "      <td>The Great War</td>\n",
              "      <td>Taylor Swift</td>\n",
              "      <td>1.0</td>\n",
              "      <td>2022.0</td>\n",
              "      <td>10.0</td>\n",
              "      <td>21.0</td>\n",
              "      <td>1274.0</td>\n",
              "      <td>0.0</td>\n",
              "      <td>181382590.0</td>\n",
              "      <td>1.0</td>\n",
              "      <td>...</td>\n",
              "      <td>96.0</td>\n",
              "      <td>F</td>\n",
              "      <td>Major</td>\n",
              "      <td>57.0</td>\n",
              "      <td>55.0</td>\n",
              "      <td>74.0</td>\n",
              "      <td>22.0</td>\n",
              "      <td>0.0</td>\n",
              "      <td>8.0</td>\n",
              "      <td>4.0</td>\n",
              "    </tr>\n",
              "    <tr>\n",
              "      <th>437</th>\n",
              "      <td>My Mind &amp; Me</td>\n",
              "      <td>Selena Gomez</td>\n",
              "      <td>1.0</td>\n",
              "      <td>2022.0</td>\n",
              "      <td>11.0</td>\n",
              "      <td>3.0</td>\n",
              "      <td>953.0</td>\n",
              "      <td>0.0</td>\n",
              "      <td>91473363.0</td>\n",
              "      <td>61.0</td>\n",
              "      <td>...</td>\n",
              "      <td>144.0</td>\n",
              "      <td>A</td>\n",
              "      <td>Major</td>\n",
              "      <td>60.0</td>\n",
              "      <td>24.0</td>\n",
              "      <td>39.0</td>\n",
              "      <td>57.0</td>\n",
              "      <td>0.0</td>\n",
              "      <td>8.0</td>\n",
              "      <td>3.0</td>\n",
              "    </tr>\n",
              "    <tr>\n",
              "      <th>438</th>\n",
              "      <td>Bigger Than The Whole Sky</td>\n",
              "      <td>Taylor Swift</td>\n",
              "      <td>1.0</td>\n",
              "      <td>2022.0</td>\n",
              "      <td>10.0</td>\n",
              "      <td>21.0</td>\n",
              "      <td>1180.0</td>\n",
              "      <td>0.0</td>\n",
              "      <td>121871870.0</td>\n",
              "      <td>4.0</td>\n",
              "      <td>...</td>\n",
              "      <td>166.0</td>\n",
              "      <td>F#</td>\n",
              "      <td>Major</td>\n",
              "      <td>42.0</td>\n",
              "      <td>7.0</td>\n",
              "      <td>24.0</td>\n",
              "      <td>83.0</td>\n",
              "      <td>1.0</td>\n",
              "      <td>12.0</td>\n",
              "      <td>6.0</td>\n",
              "    </tr>\n",
              "    <tr>\n",
              "      <th>439</th>\n",
              "      <td>Alone</td>\n",
              "      <td>Burna Boy</td>\n",
              "      <td>1.0</td>\n",
              "      <td>2022.0</td>\n",
              "      <td>11.0</td>\n",
              "      <td>4.0</td>\n",
              "      <td>782.0</td>\n",
              "      <td>2.0</td>\n",
              "      <td>96007391.0</td>\n",
              "      <td>27.0</td>\n",
              "      <td>...</td>\n",
              "      <td>90.0</td>\n",
              "      <td>E</td>\n",
              "      <td>Minor</td>\n",
              "      <td>61.0</td>\n",
              "      <td>32.0</td>\n",
              "      <td>67.0</td>\n",
              "      <td>15.0</td>\n",
              "      <td>0.0</td>\n",
              "      <td>11.0</td>\n",
              "      <td>5.0</td>\n",
              "    </tr>\n",
              "  </tbody>\n",
              "</table>\n",
              "<p>440 rows × 24 columns</p>\n",
              "</div>"
            ],
            "text/plain": [
              "                    track_name  artist(s)_name  artist_count  released_year  \\\n",
              "0                         LALA     Myke Towers           1.0         2023.0   \n",
              "1                      vampire  Olivia Rodrigo           1.0         2023.0   \n",
              "2                 Cruel Summer    Taylor Swift           1.0         2019.0   \n",
              "3               WHERE SHE GOES       Bad Bunny           1.0         2023.0   \n",
              "4                     Columbia         Quevedo           1.0         2023.0   \n",
              "..                         ...             ...           ...            ...   \n",
              "435            BackOutsideBoyz           Drake           1.0         2022.0   \n",
              "436              The Great War    Taylor Swift           1.0         2022.0   \n",
              "437               My Mind & Me    Selena Gomez           1.0         2022.0   \n",
              "438  Bigger Than The Whole Sky    Taylor Swift           1.0         2022.0   \n",
              "439                      Alone       Burna Boy           1.0         2022.0   \n",
              "\n",
              "     released_month  released_day  in_spotify_playlists  in_spotify_charts  \\\n",
              "0               3.0          23.0                1474.0               48.0   \n",
              "1               6.0          30.0                1397.0              113.0   \n",
              "2               8.0          23.0                7858.0              100.0   \n",
              "3               5.0          18.0                3133.0               50.0   \n",
              "4               7.0           7.0                 714.0               43.0   \n",
              "..              ...           ...                   ...                ...   \n",
              "435            11.0           4.0                1045.0                0.0   \n",
              "436            10.0          21.0                1274.0                0.0   \n",
              "437            11.0           3.0                 953.0                0.0   \n",
              "438            10.0          21.0                1180.0                0.0   \n",
              "439            11.0           4.0                 782.0                2.0   \n",
              "\n",
              "         streams  in_apple_playlists  ...    bpm  key   mode  danceability_%  \\\n",
              "0    133716286.0                48.0  ...   92.0   C#  Major            71.0   \n",
              "1    140003974.0                94.0  ...  138.0    F  Major            51.0   \n",
              "2    800840817.0               116.0  ...  170.0    A  Major            55.0   \n",
              "3    303236322.0                84.0  ...  144.0    A  Minor            65.0   \n",
              "4     58149378.0                25.0  ...  100.0    F  Major            67.0   \n",
              "..           ...                 ...  ...    ...  ...    ...             ...   \n",
              "435   93367537.0                 8.0  ...  142.0    F  Minor            85.0   \n",
              "436  181382590.0                 1.0  ...   96.0    F  Major            57.0   \n",
              "437   91473363.0                61.0  ...  144.0    A  Major            60.0   \n",
              "438  121871870.0                 4.0  ...  166.0   F#  Major            42.0   \n",
              "439   96007391.0                27.0  ...   90.0    E  Minor            61.0   \n",
              "\n",
              "     valence_% energy_% acousticness_%  instrumentalness_%  liveness_%  \\\n",
              "0         61.0     74.0            7.0                 0.0        10.0   \n",
              "1         32.0     53.0           17.0                 0.0        31.0   \n",
              "2         58.0     72.0           11.0                 0.0        11.0   \n",
              "3         23.0     80.0           14.0                63.0        11.0   \n",
              "4         26.0     71.0           37.0                 0.0        11.0   \n",
              "..         ...      ...            ...                 ...         ...   \n",
              "435       40.0     43.0            4.0                 0.0        39.0   \n",
              "436       55.0     74.0           22.0                 0.0         8.0   \n",
              "437       24.0     39.0           57.0                 0.0         8.0   \n",
              "438        7.0     24.0           83.0                 1.0        12.0   \n",
              "439       32.0     67.0           15.0                 0.0        11.0   \n",
              "\n",
              "     speechiness_%  \n",
              "0              4.0  \n",
              "1              6.0  \n",
              "2             15.0  \n",
              "3              6.0  \n",
              "4              4.0  \n",
              "..             ...  \n",
              "435           32.0  \n",
              "436            4.0  \n",
              "437            3.0  \n",
              "438            6.0  \n",
              "439            5.0  \n",
              "\n",
              "[440 rows x 24 columns]"
            ]
          },
          "metadata": {},
          "output_type": "display_data"
        }
      ],
      "source": [
        "#import the dataset\n",
        "df_lab = pd.read_csv(\"https://raw.githubusercontent.com/michalis0/DataScience_and_MachineLearning/master/05-neural-networks/data/spotify.csv\", encoding='latin-1', index_col=\"Unnamed: 0\")\n",
        "display(df_lab)"
      ]
    },
    {
      "cell_type": "code",
      "execution_count": null,
      "id": "11c1303a-7a43-4bcc-a930-b91d16acf1af",
      "metadata": {
        "colab": {
          "base_uri": "https://localhost:8080/",
          "height": 243
        },
        "id": "11c1303a-7a43-4bcc-a930-b91d16acf1af",
        "outputId": "d585eaf5-c179-479e-8a54-0d714a97776e"
      },
      "outputs": [
        {
          "data": {
            "text/plain": [
              "track_name             object\n",
              "artist(s)_name         object\n",
              "streams               float64\n",
              "bpm                   float64\n",
              "key                    object\n",
              "danceability_%        float64\n",
              "valence_%             float64\n",
              "energy_%              float64\n",
              "acousticness_%        float64\n",
              "instrumentalness_%    float64\n",
              "liveness_%            float64\n",
              "speechiness_%         float64\n",
              "dtype: object"
            ]
          },
          "metadata": {},
          "output_type": "display_data"
        }
      ],
      "source": [
        "#select only the columns that are interesting for you and display the type of the data\n",
        "df_lab = df_lab[['track_name', 'artist(s)_name', 'streams', 'bpm', 'key', 'danceability_%', 'valence_%', 'energy_%',\n",
        "       'acousticness_%', 'instrumentalness_%', 'liveness_%', 'speechiness_%']]\n",
        "display(df_lab.dtypes)"
      ]
    },
    {
      "cell_type": "code",
      "execution_count": null,
      "id": "2qjJ53TKH24I",
      "metadata": {
        "colab": {
          "base_uri": "https://localhost:8080/",
          "height": 444
        },
        "id": "2qjJ53TKH24I",
        "outputId": "dfad7782-05ad-4add-955a-811436c212b0"
      },
      "outputs": [
        {
          "data": {
            "text/html": [
              "<div>\n",
              "<style scoped>\n",
              "    .dataframe tbody tr th:only-of-type {\n",
              "        vertical-align: middle;\n",
              "    }\n",
              "\n",
              "    .dataframe tbody tr th {\n",
              "        vertical-align: top;\n",
              "    }\n",
              "\n",
              "    .dataframe thead th {\n",
              "        text-align: right;\n",
              "    }\n",
              "</style>\n",
              "<table border=\"1\" class=\"dataframe\">\n",
              "  <thead>\n",
              "    <tr style=\"text-align: right;\">\n",
              "      <th></th>\n",
              "      <th>streams</th>\n",
              "      <th>bpm</th>\n",
              "      <th>key</th>\n",
              "      <th>danceability_%</th>\n",
              "      <th>valence_%</th>\n",
              "      <th>energy_%</th>\n",
              "      <th>acousticness_%</th>\n",
              "      <th>instrumentalness_%</th>\n",
              "      <th>liveness_%</th>\n",
              "      <th>speechiness_%</th>\n",
              "    </tr>\n",
              "  </thead>\n",
              "  <tbody>\n",
              "    <tr>\n",
              "      <th>0</th>\n",
              "      <td>133716286.0</td>\n",
              "      <td>92.0</td>\n",
              "      <td>C#</td>\n",
              "      <td>71.0</td>\n",
              "      <td>61.0</td>\n",
              "      <td>74.0</td>\n",
              "      <td>7.0</td>\n",
              "      <td>0.0</td>\n",
              "      <td>10.0</td>\n",
              "      <td>4.0</td>\n",
              "    </tr>\n",
              "    <tr>\n",
              "      <th>1</th>\n",
              "      <td>140003974.0</td>\n",
              "      <td>138.0</td>\n",
              "      <td>F</td>\n",
              "      <td>51.0</td>\n",
              "      <td>32.0</td>\n",
              "      <td>53.0</td>\n",
              "      <td>17.0</td>\n",
              "      <td>0.0</td>\n",
              "      <td>31.0</td>\n",
              "      <td>6.0</td>\n",
              "    </tr>\n",
              "    <tr>\n",
              "      <th>2</th>\n",
              "      <td>800840817.0</td>\n",
              "      <td>170.0</td>\n",
              "      <td>A</td>\n",
              "      <td>55.0</td>\n",
              "      <td>58.0</td>\n",
              "      <td>72.0</td>\n",
              "      <td>11.0</td>\n",
              "      <td>0.0</td>\n",
              "      <td>11.0</td>\n",
              "      <td>15.0</td>\n",
              "    </tr>\n",
              "    <tr>\n",
              "      <th>3</th>\n",
              "      <td>303236322.0</td>\n",
              "      <td>144.0</td>\n",
              "      <td>A</td>\n",
              "      <td>65.0</td>\n",
              "      <td>23.0</td>\n",
              "      <td>80.0</td>\n",
              "      <td>14.0</td>\n",
              "      <td>63.0</td>\n",
              "      <td>11.0</td>\n",
              "      <td>6.0</td>\n",
              "    </tr>\n",
              "    <tr>\n",
              "      <th>4</th>\n",
              "      <td>58149378.0</td>\n",
              "      <td>100.0</td>\n",
              "      <td>F</td>\n",
              "      <td>67.0</td>\n",
              "      <td>26.0</td>\n",
              "      <td>71.0</td>\n",
              "      <td>37.0</td>\n",
              "      <td>0.0</td>\n",
              "      <td>11.0</td>\n",
              "      <td>4.0</td>\n",
              "    </tr>\n",
              "    <tr>\n",
              "      <th>...</th>\n",
              "      <td>...</td>\n",
              "      <td>...</td>\n",
              "      <td>...</td>\n",
              "      <td>...</td>\n",
              "      <td>...</td>\n",
              "      <td>...</td>\n",
              "      <td>...</td>\n",
              "      <td>...</td>\n",
              "      <td>...</td>\n",
              "      <td>...</td>\n",
              "    </tr>\n",
              "    <tr>\n",
              "      <th>435</th>\n",
              "      <td>93367537.0</td>\n",
              "      <td>142.0</td>\n",
              "      <td>F</td>\n",
              "      <td>85.0</td>\n",
              "      <td>40.0</td>\n",
              "      <td>43.0</td>\n",
              "      <td>4.0</td>\n",
              "      <td>0.0</td>\n",
              "      <td>39.0</td>\n",
              "      <td>32.0</td>\n",
              "    </tr>\n",
              "    <tr>\n",
              "      <th>436</th>\n",
              "      <td>181382590.0</td>\n",
              "      <td>96.0</td>\n",
              "      <td>F</td>\n",
              "      <td>57.0</td>\n",
              "      <td>55.0</td>\n",
              "      <td>74.0</td>\n",
              "      <td>22.0</td>\n",
              "      <td>0.0</td>\n",
              "      <td>8.0</td>\n",
              "      <td>4.0</td>\n",
              "    </tr>\n",
              "    <tr>\n",
              "      <th>437</th>\n",
              "      <td>91473363.0</td>\n",
              "      <td>144.0</td>\n",
              "      <td>A</td>\n",
              "      <td>60.0</td>\n",
              "      <td>24.0</td>\n",
              "      <td>39.0</td>\n",
              "      <td>57.0</td>\n",
              "      <td>0.0</td>\n",
              "      <td>8.0</td>\n",
              "      <td>3.0</td>\n",
              "    </tr>\n",
              "    <tr>\n",
              "      <th>438</th>\n",
              "      <td>121871870.0</td>\n",
              "      <td>166.0</td>\n",
              "      <td>F#</td>\n",
              "      <td>42.0</td>\n",
              "      <td>7.0</td>\n",
              "      <td>24.0</td>\n",
              "      <td>83.0</td>\n",
              "      <td>1.0</td>\n",
              "      <td>12.0</td>\n",
              "      <td>6.0</td>\n",
              "    </tr>\n",
              "    <tr>\n",
              "      <th>439</th>\n",
              "      <td>96007391.0</td>\n",
              "      <td>90.0</td>\n",
              "      <td>E</td>\n",
              "      <td>61.0</td>\n",
              "      <td>32.0</td>\n",
              "      <td>67.0</td>\n",
              "      <td>15.0</td>\n",
              "      <td>0.0</td>\n",
              "      <td>11.0</td>\n",
              "      <td>5.0</td>\n",
              "    </tr>\n",
              "  </tbody>\n",
              "</table>\n",
              "<p>440 rows × 10 columns</p>\n",
              "</div>"
            ],
            "text/plain": [
              "         streams    bpm key  danceability_%  valence_%  energy_%  \\\n",
              "0    133716286.0   92.0  C#            71.0       61.0      74.0   \n",
              "1    140003974.0  138.0   F            51.0       32.0      53.0   \n",
              "2    800840817.0  170.0   A            55.0       58.0      72.0   \n",
              "3    303236322.0  144.0   A            65.0       23.0      80.0   \n",
              "4     58149378.0  100.0   F            67.0       26.0      71.0   \n",
              "..           ...    ...  ..             ...        ...       ...   \n",
              "435   93367537.0  142.0   F            85.0       40.0      43.0   \n",
              "436  181382590.0   96.0   F            57.0       55.0      74.0   \n",
              "437   91473363.0  144.0   A            60.0       24.0      39.0   \n",
              "438  121871870.0  166.0  F#            42.0        7.0      24.0   \n",
              "439   96007391.0   90.0   E            61.0       32.0      67.0   \n",
              "\n",
              "     acousticness_%  instrumentalness_%  liveness_%  speechiness_%  \n",
              "0               7.0                 0.0        10.0            4.0  \n",
              "1              17.0                 0.0        31.0            6.0  \n",
              "2              11.0                 0.0        11.0           15.0  \n",
              "3              14.0                63.0        11.0            6.0  \n",
              "4              37.0                 0.0        11.0            4.0  \n",
              "..              ...                 ...         ...            ...  \n",
              "435             4.0                 0.0        39.0           32.0  \n",
              "436            22.0                 0.0         8.0            4.0  \n",
              "437            57.0                 0.0         8.0            3.0  \n",
              "438            83.0                 1.0        12.0            6.0  \n",
              "439            15.0                 0.0        11.0            5.0  \n",
              "\n",
              "[440 rows x 10 columns]"
            ]
          },
          "metadata": {},
          "output_type": "display_data"
        }
      ],
      "source": [
        "# keep only the numeric data\n",
        "df_lab_num = df_lab[['streams', 'bpm', 'key', 'danceability_%', 'valence_%', 'energy_%',\n",
        "       'acousticness_%', 'instrumentalness_%', 'liveness_%', 'speechiness_%']]\n",
        "display(df_lab_num)"
      ]
    },
    {
      "cell_type": "code",
      "execution_count": null,
      "id": "iPg_l8aOID0E",
      "metadata": {
        "id": "iPg_l8aOID0E"
      },
      "outputs": [],
      "source": [
        "# Splitting training/test set\n",
        "num_train, num_test = train_test_split(df_lab_num, test_size=0.1, random_state=1)"
      ]
    },
    {
      "cell_type": "code",
      "execution_count": null,
      "id": "yohti5cUXn7I",
      "metadata": {
        "id": "yohti5cUXn7I"
      },
      "outputs": [],
      "source": [
        "# encode 'key' feature using LabelEncoder\n",
        "le = LabelEncoder()\n",
        "num_train['key'] = le.fit_transform(num_train['key'])\n",
        "num_test['key'] = le.transform(num_test['key'])"
      ]
    },
    {
      "cell_type": "code",
      "execution_count": null,
      "id": "_EiU-bHLOO_R",
      "metadata": {
        "id": "_EiU-bHLOO_R"
      },
      "outputs": [],
      "source": [
        "# scale your data using MinMaxScaler\n",
        "#Define the scaler\n",
        "scaler = MinMaxScaler()\n",
        "#Fit the scaler\n",
        "scaler.fit(num_train)\n",
        "#Transform the train and the test set\n",
        "num_train.loc[:,:] = scaler.transform(num_train)\n",
        "num_test.loc[:,:] = scaler.transform(num_test)"
      ]
    },
    {
      "cell_type": "code",
      "execution_count": null,
      "id": "Gaosh24gOOqz",
      "metadata": {
        "id": "Gaosh24gOOqz",
        "outputId": "2ed52c91-9b0c-416d-c5bb-24408cfdd2f0"
      },
      "outputs": [
        {
          "data": {
            "text/html": [
              "<div>\n",
              "<style scoped>\n",
              "    .dataframe tbody tr th:only-of-type {\n",
              "        vertical-align: middle;\n",
              "    }\n",
              "\n",
              "    .dataframe tbody tr th {\n",
              "        vertical-align: top;\n",
              "    }\n",
              "\n",
              "    .dataframe thead th {\n",
              "        text-align: right;\n",
              "    }\n",
              "</style>\n",
              "<table border=\"1\" class=\"dataframe\">\n",
              "  <thead>\n",
              "    <tr style=\"text-align: right;\">\n",
              "      <th></th>\n",
              "      <th>bpm</th>\n",
              "      <th>key</th>\n",
              "      <th>danceability_%</th>\n",
              "      <th>valence_%</th>\n",
              "      <th>energy_%</th>\n",
              "      <th>acousticness_%</th>\n",
              "      <th>instrumentalness_%</th>\n",
              "      <th>liveness_%</th>\n",
              "      <th>speechiness_%</th>\n",
              "    </tr>\n",
              "  </thead>\n",
              "  <tbody>\n",
              "    <tr>\n",
              "      <th>165</th>\n",
              "      <td>0.390071</td>\n",
              "      <td>0.5</td>\n",
              "      <td>0.816901</td>\n",
              "      <td>0.548387</td>\n",
              "      <td>0.373494</td>\n",
              "      <td>0.154639</td>\n",
              "      <td>0.033333</td>\n",
              "      <td>0.0750</td>\n",
              "      <td>0.162791</td>\n",
              "    </tr>\n",
              "    <tr>\n",
              "      <th>172</th>\n",
              "      <td>0.858156</td>\n",
              "      <td>0.6</td>\n",
              "      <td>0.239437</td>\n",
              "      <td>0.053763</td>\n",
              "      <td>0.566265</td>\n",
              "      <td>0.020619</td>\n",
              "      <td>0.000000</td>\n",
              "      <td>0.1125</td>\n",
              "      <td>0.046512</td>\n",
              "    </tr>\n",
              "    <tr>\n",
              "      <th>277</th>\n",
              "      <td>0.843972</td>\n",
              "      <td>0.8</td>\n",
              "      <td>0.633803</td>\n",
              "      <td>0.935484</td>\n",
              "      <td>0.590361</td>\n",
              "      <td>0.113402</td>\n",
              "      <td>0.000000</td>\n",
              "      <td>0.0750</td>\n",
              "      <td>0.651163</td>\n",
              "    </tr>\n",
              "    <tr>\n",
              "      <th>287</th>\n",
              "      <td>0.170213</td>\n",
              "      <td>0.3</td>\n",
              "      <td>0.577465</td>\n",
              "      <td>0.602151</td>\n",
              "      <td>0.554217</td>\n",
              "      <td>0.113402</td>\n",
              "      <td>0.000000</td>\n",
              "      <td>0.0875</td>\n",
              "      <td>0.860465</td>\n",
              "    </tr>\n",
              "    <tr>\n",
              "      <th>375</th>\n",
              "      <td>0.673759</td>\n",
              "      <td>1.0</td>\n",
              "      <td>0.788732</td>\n",
              "      <td>0.752688</td>\n",
              "      <td>0.554217</td>\n",
              "      <td>0.082474</td>\n",
              "      <td>0.000000</td>\n",
              "      <td>0.1375</td>\n",
              "      <td>0.534884</td>\n",
              "    </tr>\n",
              "    <tr>\n",
              "      <th>...</th>\n",
              "      <td>...</td>\n",
              "      <td>...</td>\n",
              "      <td>...</td>\n",
              "      <td>...</td>\n",
              "      <td>...</td>\n",
              "      <td>...</td>\n",
              "      <td>...</td>\n",
              "      <td>...</td>\n",
              "      <td>...</td>\n",
              "    </tr>\n",
              "    <tr>\n",
              "      <th>255</th>\n",
              "      <td>0.765957</td>\n",
              "      <td>0.0</td>\n",
              "      <td>0.225352</td>\n",
              "      <td>0.161290</td>\n",
              "      <td>0.180723</td>\n",
              "      <td>0.886598</td>\n",
              "      <td>0.000000</td>\n",
              "      <td>0.3875</td>\n",
              "      <td>0.023256</td>\n",
              "    </tr>\n",
              "    <tr>\n",
              "      <th>72</th>\n",
              "      <td>0.460993</td>\n",
              "      <td>0.8</td>\n",
              "      <td>0.549296</td>\n",
              "      <td>0.483871</td>\n",
              "      <td>0.710843</td>\n",
              "      <td>0.051546</td>\n",
              "      <td>0.000000</td>\n",
              "      <td>0.0750</td>\n",
              "      <td>0.000000</td>\n",
              "    </tr>\n",
              "    <tr>\n",
              "      <th>396</th>\n",
              "      <td>0.390071</td>\n",
              "      <td>1.0</td>\n",
              "      <td>0.802817</td>\n",
              "      <td>0.731183</td>\n",
              "      <td>0.614458</td>\n",
              "      <td>0.041237</td>\n",
              "      <td>0.000000</td>\n",
              "      <td>0.1375</td>\n",
              "      <td>0.023256</td>\n",
              "    </tr>\n",
              "    <tr>\n",
              "      <th>235</th>\n",
              "      <td>0.205674</td>\n",
              "      <td>0.4</td>\n",
              "      <td>0.464789</td>\n",
              "      <td>0.344086</td>\n",
              "      <td>0.530120</td>\n",
              "      <td>0.051546</td>\n",
              "      <td>0.000000</td>\n",
              "      <td>0.1500</td>\n",
              "      <td>0.000000</td>\n",
              "    </tr>\n",
              "    <tr>\n",
              "      <th>37</th>\n",
              "      <td>0.248227</td>\n",
              "      <td>0.8</td>\n",
              "      <td>0.352113</td>\n",
              "      <td>0.139785</td>\n",
              "      <td>0.253012</td>\n",
              "      <td>0.731959</td>\n",
              "      <td>0.100000</td>\n",
              "      <td>0.1000</td>\n",
              "      <td>0.000000</td>\n",
              "    </tr>\n",
              "  </tbody>\n",
              "</table>\n",
              "<p>396 rows × 9 columns</p>\n",
              "</div>"
            ],
            "text/plain": [
              "          bpm  key  danceability_%  valence_%  energy_%  acousticness_%  \\\n",
              "165  0.390071  0.5        0.816901   0.548387  0.373494        0.154639   \n",
              "172  0.858156  0.6        0.239437   0.053763  0.566265        0.020619   \n",
              "277  0.843972  0.8        0.633803   0.935484  0.590361        0.113402   \n",
              "287  0.170213  0.3        0.577465   0.602151  0.554217        0.113402   \n",
              "375  0.673759  1.0        0.788732   0.752688  0.554217        0.082474   \n",
              "..        ...  ...             ...        ...       ...             ...   \n",
              "255  0.765957  0.0        0.225352   0.161290  0.180723        0.886598   \n",
              "72   0.460993  0.8        0.549296   0.483871  0.710843        0.051546   \n",
              "396  0.390071  1.0        0.802817   0.731183  0.614458        0.041237   \n",
              "235  0.205674  0.4        0.464789   0.344086  0.530120        0.051546   \n",
              "37   0.248227  0.8        0.352113   0.139785  0.253012        0.731959   \n",
              "\n",
              "     instrumentalness_%  liveness_%  speechiness_%  \n",
              "165            0.033333      0.0750       0.162791  \n",
              "172            0.000000      0.1125       0.046512  \n",
              "277            0.000000      0.0750       0.651163  \n",
              "287            0.000000      0.0875       0.860465  \n",
              "375            0.000000      0.1375       0.534884  \n",
              "..                  ...         ...            ...  \n",
              "255            0.000000      0.3875       0.023256  \n",
              "72             0.000000      0.0750       0.000000  \n",
              "396            0.000000      0.1375       0.023256  \n",
              "235            0.000000      0.1500       0.000000  \n",
              "37             0.100000      0.1000       0.000000  \n",
              "\n",
              "[396 rows x 9 columns]"
            ]
          },
          "metadata": {},
          "output_type": "display_data"
        },
        {
          "data": {
            "text/html": [
              "<div>\n",
              "<style scoped>\n",
              "    .dataframe tbody tr th:only-of-type {\n",
              "        vertical-align: middle;\n",
              "    }\n",
              "\n",
              "    .dataframe tbody tr th {\n",
              "        vertical-align: top;\n",
              "    }\n",
              "\n",
              "    .dataframe thead th {\n",
              "        text-align: right;\n",
              "    }\n",
              "</style>\n",
              "<table border=\"1\" class=\"dataframe\">\n",
              "  <thead>\n",
              "    <tr style=\"text-align: right;\">\n",
              "      <th></th>\n",
              "      <th>streams</th>\n",
              "    </tr>\n",
              "  </thead>\n",
              "  <tbody>\n",
              "    <tr>\n",
              "      <th>165</th>\n",
              "      <td>0.129677</td>\n",
              "    </tr>\n",
              "    <tr>\n",
              "      <th>172</th>\n",
              "      <td>0.377040</td>\n",
              "    </tr>\n",
              "    <tr>\n",
              "      <th>277</th>\n",
              "      <td>0.213535</td>\n",
              "    </tr>\n",
              "    <tr>\n",
              "      <th>287</th>\n",
              "      <td>0.015817</td>\n",
              "    </tr>\n",
              "    <tr>\n",
              "      <th>375</th>\n",
              "      <td>0.190737</td>\n",
              "    </tr>\n",
              "    <tr>\n",
              "      <th>...</th>\n",
              "      <td>...</td>\n",
              "    </tr>\n",
              "    <tr>\n",
              "      <th>255</th>\n",
              "      <td>0.338151</td>\n",
              "    </tr>\n",
              "    <tr>\n",
              "      <th>72</th>\n",
              "      <td>0.147587</td>\n",
              "    </tr>\n",
              "    <tr>\n",
              "      <th>396</th>\n",
              "      <td>0.109283</td>\n",
              "    </tr>\n",
              "    <tr>\n",
              "      <th>235</th>\n",
              "      <td>0.257261</td>\n",
              "    </tr>\n",
              "    <tr>\n",
              "      <th>37</th>\n",
              "      <td>0.049600</td>\n",
              "    </tr>\n",
              "  </tbody>\n",
              "</table>\n",
              "<p>396 rows × 1 columns</p>\n",
              "</div>"
            ],
            "text/plain": [
              "      streams\n",
              "165  0.129677\n",
              "172  0.377040\n",
              "277  0.213535\n",
              "287  0.015817\n",
              "375  0.190737\n",
              "..        ...\n",
              "255  0.338151\n",
              "72   0.147587\n",
              "396  0.109283\n",
              "235  0.257261\n",
              "37   0.049600\n",
              "\n",
              "[396 rows x 1 columns]"
            ]
          },
          "metadata": {},
          "output_type": "display_data"
        }
      ],
      "source": [
        "# Extract features and output\n",
        "numeric_x_columns = list(num_train.columns)\n",
        "numeric_x_columns.remove(\"streams\")\n",
        "X_train_df_lab = num_train[numeric_x_columns]\n",
        "y_train_df_lab = pd.DataFrame(num_train[\"streams\"])\n",
        "X_test_df_lab = num_test[numeric_x_columns]\n",
        "y_test_df_lab = pd.DataFrame(num_test[\"streams\"])\n",
        "display(X_train_df_lab)\n",
        "display(y_train_df_lab)"
      ]
    },
    {
      "cell_type": "code",
      "execution_count": null,
      "id": "kVXb22yzOrFD",
      "metadata": {
        "id": "kVXb22yzOrFD"
      },
      "outputs": [],
      "source": [
        "# Transform the data into tensor\n",
        "X_train_lab = torch.tensor(X_train_df_lab.values, dtype=torch.float)\n",
        "y_train_lab = torch.tensor(y_train_df_lab.values, dtype=torch.float)\n",
        "X_test_lab = torch.tensor(X_test_df_lab.values, dtype=torch.float)\n",
        "y_test_lab = torch.tensor(y_test_df_lab.values, dtype=torch.float)"
      ]
    },
    {
      "cell_type": "markdown",
      "id": "oJBlJsBYO6Qa",
      "metadata": {
        "id": "oJBlJsBYO6Qa"
      },
      "source": [
        "Now create a Neural Net class with two hidden layer using the ReLU activation layer for both of them:"
      ]
    },
    {
      "cell_type": "code",
      "execution_count": null,
      "id": "gw_4_CVsO1yL",
      "metadata": {
        "id": "gw_4_CVsO1yL"
      },
      "outputs": [],
      "source": [
        "class Net_lab(nn.Module):\n",
        "    def __init__(self, D_in, H1, H2, D_out):\n",
        "        super(Net_lab, self).__init__()\n",
        "\n",
        "        self.linear1 = nn.Linear(D_in, H1)        # Linear transformation for first hidden layer\n",
        "        self.linear2 = nn.Linear(H1, H2)          # Linear transformation for second hidden layer\n",
        "        self.linear3 = nn.Linear(H2, D_out)       # Linear transformation for output layer\n",
        "        self.activation = nn.ReLU()               # Activation function for hidden layer\n",
        "\n",
        "    def forward(self, x):\n",
        "        y_pred = self.activation(self.linear1(x))        # Hidden layer: linear transformation + ReLU\n",
        "        y_pred = self.activation(self.linear2(y_pred))   # Hidden layer: linear transformation + ReLU\n",
        "        y_pred = self.linear3(y_pred)                    # Output layer: linear transformation\n",
        "        return y_pred"
      ]
    },
    {
      "cell_type": "code",
      "execution_count": null,
      "id": "YlpMENjKO2dl",
      "metadata": {
        "id": "YlpMENjKO2dl"
      },
      "outputs": [],
      "source": [
        "# give the right dimension to the input and output layers\n",
        "D_in_lab, D_out_lab = X_train_lab.shape[1], y_train_lab.shape[1]"
      ]
    },
    {
      "cell_type": "code",
      "execution_count": null,
      "id": "MPvresr1O2bR",
      "metadata": {
        "id": "MPvresr1O2bR"
      },
      "outputs": [],
      "source": [
        "# Create a model with 100 neurons for both hidden layers\n",
        "model_lab = Net_lab(D_in_lab, 100, 100, D_out_lab)"
      ]
    },
    {
      "cell_type": "code",
      "execution_count": null,
      "id": "gjsYOgwDmU2C",
      "metadata": {
        "colab": {
          "base_uri": "https://localhost:8080/",
          "height": 34
        },
        "id": "gjsYOgwDmU2C",
        "outputId": "47984157-19a7-44e5-d897-da74ce97bf0b"
      },
      "outputs": [
        {
          "data": {
            "text/plain": [
              "11201"
            ]
          },
          "metadata": {},
          "output_type": "display_data"
        }
      ],
      "source": [
        "# calculate how many parameters the model has\n",
        "params = sum(p.numel() for p in model_lab.parameters() if p.requires_grad)\n",
        "display(params)"
      ]
    },
    {
      "cell_type": "code",
      "execution_count": null,
      "id": "y8FdT7BDQSBF",
      "metadata": {
        "id": "y8FdT7BDQSBF"
      },
      "outputs": [],
      "source": [
        "# use the MSELoss() as the loss criterion and Adam() as the optimizer (search online the optimizer)\n",
        "# MSE loss\n",
        "criterion = nn.MSELoss(reduction='sum')\n",
        "# Adam optimizer for finding the weights of the network\n",
        "optimizer = torch.optim.Adam(model_lab.parameters(), lr=1e-4)"
      ]
    },
    {
      "cell_type": "markdown",
      "id": "3QvTMKNoZSes",
      "metadata": {
        "id": "3QvTMKNoZSes"
      },
      "source": [
        "Now create a loop to train your model (with 500 iterations), don't forget to save your loss criterion in order to plot it later !"
      ]
    },
    {
      "cell_type": "code",
      "execution_count": null,
      "id": "WHghL05IQR3d",
      "metadata": {
        "id": "WHghL05IQR3d"
      },
      "outputs": [],
      "source": [
        "losses_lab = []\n",
        "losses_test_lab = []\n",
        "\n",
        "for t in range(500):                # 500 iterations\n",
        "\n",
        "    # Forward pass: compute prediction on training set\n",
        "    y_pred_lab = model_lab(X_train_lab)\n",
        "\n",
        "    # Compute loss\n",
        "    loss = criterion(y_pred_lab, y_train_lab)\n",
        "    if t%100 == 0:\n",
        "      print(t, loss.item())\n",
        "    losses_lab.append(loss.item())\n",
        "    if torch.isnan(loss):\n",
        "        break\n",
        "\n",
        "    # Compute gradient\n",
        "    optimizer.zero_grad()\n",
        "    loss.backward()\n",
        "\n",
        "    # Update\n",
        "    optimizer.step()\n",
        "\n",
        "    # Compute loss on test set\n",
        "    losses_test_lab.append(criterion(model_lab(X_test_lab), y_test_lab).item())"
      ]
    },
    {
      "cell_type": "code",
      "execution_count": null,
      "id": "-OYcTnB2Q8ke",
      "metadata": {
        "colab": {
          "base_uri": "https://localhost:8080/",
          "height": 391
        },
        "id": "-OYcTnB2Q8ke",
        "outputId": "b47285bf-bac3-4298-caad-e921492971ca"
      },
      "outputs": [
        {
          "data": {
            "image/png": "[encoded data removed]",
            "text/plain": [
              "<Figure size 600x400 with 1 Axes>"
            ]
          },
          "metadata": {},
          "output_type": "display_data"
        }
      ],
      "source": [
        "# Plot training and test loss\n",
        "plt.figure(figsize=(6, 4))\n",
        "plt.plot(losses_lab, label=\"Training loss\")\n",
        "plt.plot(losses_test_lab, label=\"Test loss\")\n",
        "plt.title('Evolution of training and test loss')\n",
        "plt.ylim(top=25, bottom=0.0)\n",
        "plt.legend()\n",
        "plt.show()"
      ]
    },
    {
      "cell_type": "markdown",
      "id": "3aa9461b",
      "metadata": {
        "id": "3aa9461b"
      },
      "source": [
        "## 3. Automating Hyperparameter Tuning\n",
        "\n",
        "When training a model, there are often many hyperparameters to adjust, leading to countless possible combinations. To determine the optimal configuration, experimentation is crucial. However, manually testing each combination can be highly time-consuming. In this section, we’ll automate the hyperparameter tuning process to efficiently find the best-performing model.\n",
        "\n",
        "Since we are working on a regression problem with a numerical target, accuracy is not an appropriate metric for evaluation. Instead, we will use **RMSE** (Root Mean Squared Error) to assess model performance and identify the best hyperparameter combination."
      ]
    },
    {
      "cell_type": "markdown",
      "id": "21624c6c",
      "metadata": {
        "id": "21624c6c"
      },
      "source": [
        "We begin by redefining the `Net()` class, similar to how we did earlier."
      ]
    },
    {
      "cell_type": "code",
      "execution_count": null,
      "id": "f06b6f46",
      "metadata": {
        "id": "f06b6f46"
      },
      "outputs": [],
      "source": [
        "class Net(nn.Module):\n",
        "    def __init__(self, D_in, H1, D_out):\n",
        "        super(Net, self).__init__()\n",
        "\n",
        "        self.linear1 = nn.Linear(D_in, H1)        # Linear transformation for hidden layer\n",
        "        self.linear2 = nn.Linear(H1, D_out)       # Linear transformation for output layer\n",
        "        self.activation = nn.ReLU()               # Activation function for hidden layer\n",
        "\n",
        "    def forward(self, x):\n",
        "        y_pred = self.activation(self.linear1(x))   # Hidden layer: linear transformation + ReLU\n",
        "        y_pred = self.linear2(y_pred)               # Output layer: linear transformation\n",
        "        return y_pred"
      ]
    },
    {
      "cell_type": "code",
      "execution_count": null,
      "id": "81b21a6a",
      "metadata": {
        "id": "81b21a6a"
      },
      "outputs": [],
      "source": [
        "D_in, D_out = X_train.shape[1], y_train.shape[1]"
      ]
    },
    {
      "cell_type": "markdown",
      "id": "7479638b",
      "metadata": {
        "id": "7479638b"
      },
      "source": [
        "Then we define the ranges for the hyperparameters you want to explore:\n",
        "\n",
        "- **Neurons**: Test with hidden layers containing **50**, **150**, **200**, and **1000** neurons.\n",
        "- **Loss Functions**: Experiment with **MSELoss** and **L1Loss** to assess model performance.\n",
        "\n",
        "Additionally, initialize variables to track the best `RMSE` and the corresponding hyperparameters. Fix the learning rate at **0.0001** and the number of epochs at **500** for consistency across all tests."
      ]
    },
    {
      "cell_type": "code",
      "execution_count": null,
      "id": "60ec656a",
      "metadata": {
        "id": "60ec656a"
      },
      "outputs": [],
      "source": [
        "# Define the ranges for neurons and criterion you want to test\n",
        "neurons_list = [50, 150, 200, 1000]  # Number of neurons to test in the hidden layer\n",
        "criteria_list = [nn.MSELoss(reduction='sum'), nn.L1Loss()]  # List of criteria to test\n",
        "\n",
        "# Initialize a variable to store the best metrics and hyperparameters\n",
        "best_rmse = float('inf')  # We're aiming for the lowest RMSE\n",
        "best_params = {}\n",
        "\n",
        "# Fixed hyperparameters\n",
        "learning_rate = 1e-4\n",
        "epochs = 500\n"
      ]
    },
    {
      "cell_type": "markdown",
      "id": "7c741e15",
      "metadata": {
        "id": "7c741e15"
      },
      "source": [
        "This code performs hyperparameter tuning by testing various combinations of the number of neurons in the hidden layer (`neurons_list`) and loss functions (`criteria_list`). For each combination, it initializes a model, trains it over a specified number of epochs, and evaluates the model’s performance on the test set using regression metrics such as MSE, MAE, and R². After calculating the RMSE (Root Mean Squared Error), the code tracks the best-performing model and its corresponding hyperparameters based on the lowest RMSE.\n",
        "\n",
        "**Note**: This approach can be extended to tune other hyperparameters (such as learning rate, optimizer, etc.), and you can also use other evaluation metrics depending on the type of problem you're solving."
      ]
    },
    {
      "cell_type": "code",
      "execution_count": null,
      "id": "cd14cc2e",
      "metadata": {
        "id": "cd14cc2e",
        "outputId": "44d6e415-c28d-43e9-8eda-71939f5677cb"
      },
      "outputs": [
        {
          "name": "stdout",
          "output_type": "stream",
          "text": [
            "\n",
            "Testing with 50 neurons and criterion: MSELoss()\n",
            "Epoch 0, Loss: 15.465291976928711\n",
            "Epoch 100, Loss: 5.4925856590271\n",
            "Epoch 200, Loss: 4.253623962402344\n",
            "Epoch 300, Loss: 3.8040671348571777\n",
            "Epoch 400, Loss: 3.549574613571167\n",
            "Test MSE: 0.0023058978840708733\n",
            "Test MAE: 0.03410031646490097\n",
            "Test R²: 0.8239542968767484\n",
            "Test RMSE: 0.04801976555618398\n",
            "New best RMSE: 0.04801976555618398 with 50 neurons and criterion: MSELoss()\n",
            "\n",
            "Testing with 50 neurons and criterion: L1Loss()\n",
            "Epoch 0, Loss: 0.32716256380081177\n",
            "Epoch 100, Loss: 0.2918567955493927\n",
            "Epoch 200, Loss: 0.2568773329257965\n",
            "Epoch 300, Loss: 0.22217483818531036\n",
            "Epoch 400, Loss: 0.18822026252746582\n",
            "Test MSE: 0.043106772005558014\n",
            "Test MAE: 0.1703827679157257\n",
            "Test R²: -2.291022293787709\n",
            "Test RMSE: 0.20762170408114372\n",
            "\n",
            "Testing with 150 neurons and criterion: MSELoss()\n",
            "Epoch 0, Loss: 142.4981689453125\n",
            "Epoch 100, Loss: 4.69320821762085\n",
            "Epoch 200, Loss: 3.8697476387023926\n",
            "Epoch 300, Loss: 3.4886724948883057\n",
            "Epoch 400, Loss: 3.2593283653259277\n",
            "Test MSE: 0.002205075230449438\n",
            "Test MAE: 0.03463298827409744\n",
            "Test R²: 0.8316517029349502\n",
            "Test RMSE: 0.046958228570181795\n",
            "New best RMSE: 0.046958228570181795 with 150 neurons and criterion: MSELoss()\n",
            "\n",
            "Testing with 150 neurons and criterion: L1Loss()\n",
            "Epoch 0, Loss: 0.0705510750412941\n",
            "Epoch 100, Loss: 0.06672155857086182\n",
            "Epoch 200, Loss: 0.06531364470720291\n",
            "Epoch 300, Loss: 0.06460823863744736\n",
            "Epoch 400, Loss: 0.0640624463558197\n",
            "Test MSE: 0.009807052090764046\n",
            "Test MAE: 0.06716106086969376\n",
            "Test R²: 0.2512724784011493\n",
            "Test RMSE: 0.09903056139780309\n",
            "\n",
            "Testing with 200 neurons and criterion: MSELoss()\n",
            "Epoch 0, Loss: 89.87267303466797\n",
            "Epoch 100, Loss: 4.29109525680542\n",
            "Epoch 200, Loss: 3.7287747859954834\n",
            "Epoch 300, Loss: 3.4590742588043213\n",
            "Epoch 400, Loss: 3.2835469245910645\n",
            "Test MSE: 0.0018698034109547734\n",
            "Test MAE: 0.030853094533085823\n",
            "Test R²: 0.8572483001595541\n",
            "Test RMSE: 0.04324122351361919\n",
            "New best RMSE: 0.04324122351361919 with 200 neurons and criterion: MSELoss()\n",
            "\n",
            "Testing with 200 neurons and criterion: L1Loss()\n",
            "Epoch 0, Loss: 0.3425181210041046\n",
            "Epoch 100, Loss: 0.2706761360168457\n",
            "Epoch 200, Loss: 0.19903859496116638\n",
            "Epoch 300, Loss: 0.12978418171405792\n",
            "Epoch 400, Loss: 0.0818198099732399\n",
            "Test MSE: 0.011279435828328133\n",
            "Test MAE: 0.07200997322797775\n",
            "Test R²: 0.13886206914257082\n",
            "Test RMSE: 0.10620468835380166\n",
            "\n",
            "Testing with 1000 neurons and criterion: MSELoss()\n",
            "Epoch 0, Loss: 81.80636596679688\n",
            "Epoch 100, Loss: 7.898754119873047\n",
            "Epoch 200, Loss: 4.661093235015869\n",
            "Epoch 300, Loss: 4.110297679901123\n",
            "Epoch 400, Loss: 3.778257131576538\n",
            "Test MSE: 0.001952068298123777\n",
            "Test MAE: 0.033182013779878616\n",
            "Test R²: 0.8509677228174354\n",
            "Test RMSE: 0.04418221698968689\n",
            "\n",
            "Testing with 1000 neurons and criterion: L1Loss()\n",
            "Epoch 0, Loss: 0.21561454236507416\n",
            "Epoch 100, Loss: 0.06704871356487274\n",
            "Epoch 200, Loss: 0.06366788595914841\n",
            "Epoch 300, Loss: 0.06162402033805847\n",
            "Epoch 400, Loss: 0.05967992916703224\n",
            "Test MSE: 0.009765024296939373\n",
            "Test MAE: 0.06733349710702896\n",
            "Test R²: 0.25448104367589386\n",
            "Test RMSE: 0.09881813748973096\n",
            "\n",
            "Best Test RMSE: 0.04324122351361919\n",
            "Best Hyperparameters: {'neurons': 200, 'criterion': MSELoss()}\n"
          ]
        }
      ],
      "source": [
        "# Loop over different neurons and criteria\n",
        "for neurons in neurons_list:\n",
        "    for criterion in criteria_list:\n",
        "        print(f\"\\nTesting with {neurons} neurons and criterion: {criterion}\")\n",
        "\n",
        "        # Initialize the model and optimizer for each combination\n",
        "        model1 = Net(D_in, neurons, D_out)\n",
        "        optimizer = torch.optim.SGD(model1.parameters(), lr=learning_rate)\n",
        "\n",
        "        losses_train = []\n",
        "        losses_test = []\n",
        "\n",
        "        for t in range(epochs):\n",
        "            model1.train()  # Set model to training mode\n",
        "\n",
        "            # Forward pass: compute prediction on training set\n",
        "            y_pred = model1(X_train)\n",
        "\n",
        "            # Compute loss\n",
        "            loss = criterion(y_pred, y_train)\n",
        "            losses_train.append(loss.item())\n",
        "            if t % 100 == 0:\n",
        "                # Print the training loss every 100 steps\n",
        "                print(f\"Epoch {t}, Loss: {loss.item()}\")\n",
        "\n",
        "            # Compute gradient\n",
        "            optimizer.zero_grad()\n",
        "            loss.backward()\n",
        "\n",
        "            # Update model parameters\n",
        "            optimizer.step()\n",
        "\n",
        "            # Compute loss on test set\n",
        "            model1.eval()  # Set model to evaluation mode\n",
        "            with torch.no_grad():\n",
        "                y_pred_test = model1(X_test)\n",
        "                loss_test = criterion(y_pred_test, y_test).item()\n",
        "                losses_test.append(loss_test)\n",
        "\n",
        "        # Calculate regression metrics on the test set\n",
        "        with torch.no_grad():\n",
        "            y_pred_test = model1(X_test).numpy()\n",
        "            y_test_np = y_test.numpy()\n",
        "\n",
        "            # Calculate MSE, MAE, and R²\n",
        "            mse = mean_squared_error(y_test_np, y_pred_test)\n",
        "            mae = mean_absolute_error(y_test_np, y_pred_test)\n",
        "            r2 = r2_score(y_test_np, y_pred_test)\n",
        "\n",
        "            # Print the metrics\n",
        "            print(f\"Test MSE: {mse}\")\n",
        "            print(f\"Test MAE: {mae}\")\n",
        "            print(f\"Test R²: {r2}\")\n",
        "            print(f\"Test RMSE: {mse ** 0.5}\")\n",
        "\n",
        "            # Keep track of the best model based on RMSE (sqrt of MSE)\n",
        "            rmse = mse ** 0.5\n",
        "            if rmse < best_rmse:\n",
        "                best_rmse = rmse\n",
        "                best_params = {'neurons': neurons, 'criterion': criterion}\n",
        "                print(f\"New best RMSE: {best_rmse} with {neurons} neurons and criterion: {criterion}\")\n",
        "\n",
        "# Print the best hyperparameters and corresponding RMSE after testing all combinations\n",
        "print(\"\\nBest Test RMSE:\", best_rmse)\n",
        "print(\"Best Hyperparameters:\", best_params)\n"
      ]
    }
  ],
  "metadata": {
    "colab": {
      "collapsed_sections": [
        "7763984b-c9d6-43b0-ba06-fd749431aa32"
      ],
      "provenance": [],
      "include_colab_link": true
    },
    "kernelspec": {
      "display_name": "Python 3 (ipykernel)",
      "language": "python",
      "name": "python3"
    },
    "language_info": {
      "codemirror_mode": {
        "name": "ipython",
        "version": 3
      },
      "file_extension": ".py",
      "mimetype": "text/x-python",
      "name": "python",
      "nbconvert_exporter": "python",
      "pygments_lexer": "ipython3",
      "version": "3.11.8"
    }
  },
  "nbformat": 4,
  "nbformat_minor": 5
}