{
  "cells": [
    {
      "cell_type": "markdown",
      "metadata": {
        "id": "SI5MwHwlwQoL"
      },
      "source": [
        "<a href=\"https://colab.research.google.com/github/michalis0/DataScience_and_MachineLearning/blob/master/Labs/01-review-pandas/Week_1.ipynb\" target=\"_parent\"><img src=\"https://colab.research.google.com/assets/colab-badge.svg\" alt=\"Open In Colab\"/></a>"
      ]
    },
    {
      "cell_type": "markdown",
      "metadata": {
        "id": "sPgLYyUIzy-L"
      },
      "source": [
        "# Python Notebooks\n",
        "\n",
        "## Goals\n",
        "The goal of this notebook is to briefly introduce you to the main tools we will use in this practical seminar: Python code and markdown Notebooks.  The focus will be on using markdown to create interactive notebooks, which you can share with others.\n",
        "\n",
        "## Getting started\n",
        "\n",
        "**Notebooks** represent an interactive environment for writing and executing code, while at the same time also documenting the code with rich text. Here we review some elementary ways of creating your notebooks.\n",
        "\n",
        "We will be using **Google Colab**, which is a free notebook environment, that does not require any installations and uses Google servers to execute the code. You can simply run it in your browser, after you create a free Google account (if not yet done).\n",
        "\n",
        "To open a new notebook in Google Colab click [here](https://colab.research.google.com/) and then click on the \"New Notebook\" at the bottom right.\n",
        "\n",
        "You can open this notebook in Colab by clicking on the Open in Colab badge on top of the file.\n",
        "\n",
        "A notebook consists of two kinds of cells:\n",
        "* cellls that contain executable **code** and\n",
        "* cells that contain **markdown (text)**.\n",
        "\n",
        "Here we'll provide a more detailed introduction to the text cells, while the following seminars we'll focus more on the code cells.\n",
        "\n",
        "Markdown syntax is very similar to HTML, but it is more simplified. Here are some additional introductory ressources:\n",
        "- Try markdown on your own in [Google Colab](https://colab.research.google.com/notebooks/markdown_guide.ipynb)\n",
        "- You can also find a more detailed and [lengthy introduction](https://about.gitlab.com/handbook/product/technical-writing/markdown-guide/).\n",
        "\n",
        "### Switching between Code and Text/Markdown\n",
        "\n",
        "- If you want to include markdown in a code cell, you can convert it to a text cell by pressing `control M M` (that is hold down the `control` key and press two times the letter `M`).\n",
        "- You can convert a text cell into a code cell using the shortcut `control M Y`."
      ]
    },
    {
      "cell_type": "code",
      "execution_count": null,
      "metadata": {
        "id": "hKSzCk0D4WrP"
      },
      "outputs": [],
      "source": []
    },
    {
      "cell_type": "markdown",
      "metadata": {
        "id": "kXvAgbBGzy-W"
      },
      "source": [
        "<div class=\"alert alert-block alert-info\">\n",
        "\n",
        "\n",
        "<h2>Shortcuts</h2>\n",
        "\n",
        "It's good to learn the following shortcuts:\n",
        "\n",
        "\n",
        "- Execute a cell: shift-enter on Mac (ctrl-enter for Windows)\n",
        "- Saving the notebook: command s on a Mac, (ctrl-s for Windows)\n",
        "- Change Cell types: ctrl M Y (code), ctrl M M (markdown)\n",
        "\n",
        "<h2>Saving & downloading your notebook</h2>\n",
        "\n",
        "You can save your notebook in your Google Drive using the Colab Menu > File > Save a copy in Drive (Google Drive), or directly in GitHub.\n",
        "\n",
        "You can also download the notebook using File>Download>  .ipynb (notebook format).\n",
        "\n",
        "</div>\n",
        "\n",
        "\n"
      ]
    },
    {
      "cell_type": "markdown",
      "metadata": {
        "id": "4bVDcyJHHFjh"
      },
      "source": [
        "# Basic operations with Pandas\n",
        "\n",
        "<img width=\"200\" src='https://upload.wikimedia.org/wikipedia/commons/e/ed/Pandas_logo.svg'>\n",
        "\n",
        "##Data cleaning\n",
        "### How Does Data Get Dirty?\n",
        "- Missing data.\n",
        "- Inconsistent data.\n",
        "- Duplicate data.\n",
        "\n",
        "This is just to name a few things that can go wrong. There is an endless list of ways that data can end up very messy.\n",
        "Sometimes there are insufficient validation checks when the data is entered in the first place.\n",
        "If you have form fields with users entering data in any format they want with no guidelines or form validation checks in place to enforce conforming to a certain format, then users will input however they see fit.\n",
        "\n",
        "There could be an input field for the state (U.S.) and you have some data that is the two-character abbreviation, NY and then others have New York, then there are potential misspellings and typos, etc.\n",
        "\n",
        "Data can also become corrupted during transmission or in storage."
      ]
    },
    {
      "cell_type": "code",
      "execution_count": null,
      "metadata": {
        "id": "abwjDTZRHvzn"
      },
      "outputs": [],
      "source": [
        "import pandas as pd\n",
        "import numpy as np\n",
        "import matplotlib.pyplot as plt\n",
        "df = pd.read_csv(\"https://raw.githubusercontent.com/michalis0/DataScience_and_MachineLearning/refs/heads/master/Labs/01-review-pandas/data/user_records_lab.csv\")\n"
      ]
    },
    {
      "cell_type": "markdown",
      "metadata": {
        "id": "Fl_HmWwtIBDJ"
      },
      "source": [
        "###Shape of the data\n",
        "\n",
        "Let's first check how many rows and columns (features) are in this dataset"
      ]
    },
    {
      "cell_type": "code",
      "execution_count": null,
      "metadata": {
        "colab": {
          "base_uri": "https://localhost:8080/"
        },
        "id": "uICj1b0GIEKG",
        "outputId": "0f403a58-8455-4c91-feb0-aed5f916c430"
      },
      "outputs": [],
      "source": [
        "df.shape"
      ]
    },
    {
      "cell_type": "markdown",
      "metadata": {
        "id": "JT6l8O-2ISqh"
      },
      "source": [
        "\n",
        "### Check out the first few rows\n",
        "You can look at the first few rows by calling `head()` on the dataframe."
      ]
    },
    {
      "cell_type": "code",
      "execution_count": null,
      "metadata": {
        "colab": {
          "base_uri": "https://localhost:8080/",
          "height": 142
        },
        "id": "xce5aB8SIOeu",
        "outputId": "6dafbc97-e832-4392-feb0-069ad9a63908"
      },
      "outputs": [],
      "source": [
        "df.head(3)"
      ]
    },
    {
      "cell_type": "markdown",
      "metadata": {
        "id": "3TgOsG-pI8Yo"
      },
      "source": [
        "### List the column/feature names"
      ]
    },
    {
      "cell_type": "code",
      "execution_count": null,
      "metadata": {
        "colab": {
          "base_uri": "https://localhost:8080/"
        },
        "id": "KPRr2ogtI-3B",
        "outputId": "539f56ad-cb04-46e8-b9cd-4f2c9a61f2b6"
      },
      "outputs": [],
      "source": [
        "df.columns"
      ]
    },
    {
      "cell_type": "markdown",
      "metadata": {
        "id": "e1XYn9tvJHbL"
      },
      "source": [
        "### Duplicates\n",
        "You can check if there are duplicates in the dataset."
      ]
    },
    {
      "cell_type": "code",
      "execution_count": null,
      "metadata": {
        "colab": {
          "base_uri": "https://localhost:8080/",
          "height": 453
        },
        "id": "Ve6cJ5hbJIrQ",
        "outputId": "d3b554e9-0998-49f1-ade3-26e461d16003"
      },
      "outputs": [],
      "source": [
        "df.duplicated()"
      ]
    },
    {
      "cell_type": "markdown",
      "metadata": {
        "id": "tebuO3lxJP-_"
      },
      "source": [
        "This shows which are the duplicated rows if any. None are duplicated here."
      ]
    },
    {
      "cell_type": "code",
      "execution_count": null,
      "metadata": {
        "colab": {
          "base_uri": "https://localhost:8080/",
          "height": 53
        },
        "id": "5UPbuQn5JQnQ",
        "outputId": "0b306861-a600-4cf7-9e18-39c92c36b3c3"
      },
      "outputs": [],
      "source": [
        "df.loc[df.duplicated()==True, :]"
      ]
    },
    {
      "cell_type": "markdown",
      "metadata": {
        "id": "pLJGJqwPT8B9"
      },
      "source": [
        "You can check if the same value appears in a single column more than once in the dataset. Are there multiple users with the same birthday?"
      ]
    },
    {
      "cell_type": "code",
      "execution_count": null,
      "metadata": {
        "colab": {
          "base_uri": "https://localhost:8080/",
          "height": 453
        },
        "id": "vNPN6bqVUjDq",
        "outputId": "10ea5ac3-e6bd-4e0c-adf5-b153bb3e6cde"
      },
      "outputs": [],
      "source": [
        "df.birthday.duplicated()"
      ]
    },
    {
      "cell_type": "markdown",
      "metadata": {
        "id": "-Akjuv9hBsPg"
      },
      "source": [
        "You can also filter the table so that only entries with given characteristics are maintained, for example users from Switzerland (CH)"
      ]
    },
    {
      "cell_type": "code",
      "execution_count": null,
      "metadata": {
        "colab": {
          "base_uri": "https://localhost:8080/",
          "height": 173
        },
        "id": "VxQYqj_YB-TQ",
        "outputId": "659482fd-72f5-49df-94f5-96d69e66d884"
      },
      "outputs": [],
      "source": [
        "df[df['country']=='CH'].head()"
      ]
    },
    {
      "cell_type": "markdown",
      "metadata": {
        "id": "ZtNDR-qOzFfQ"
      },
      "source": [
        "You can also get the list of people who have their birthday the same day as another person in the dataset"
      ]
    },
    {
      "cell_type": "code",
      "execution_count": null,
      "metadata": {
        "colab": {
          "base_uri": "https://localhost:8080/",
          "height": 204
        },
        "id": "R7xDb_JPyD0x",
        "outputId": "26019582-ed95-4b13-f8dd-dfe260a1dcf4"
      },
      "outputs": [],
      "source": [
        "df[df.birthday.duplicated()].head()"
      ]
    },
    {
      "cell_type": "markdown",
      "metadata": {
        "id": "FdIP5xyv2Qfs"
      },
      "source": [
        "You can also show all users who have their birthday on the same day by checking who has their birthday on one of the duplicated dates."
      ]
    },
    {
      "cell_type": "code",
      "execution_count": null,
      "metadata": {
        "colab": {
          "base_uri": "https://localhost:8080/",
          "height": 204
        },
        "id": "JDXzbAGPzVXy",
        "outputId": "1b60a161-9d40-48e4-f5b0-657580d4b89d"
      },
      "outputs": [],
      "source": [
        "duplicate_dates = df[df.birthday.duplicated()]['birthday'].to_list()\n",
        "\n",
        "df[df['birthday'].isin(duplicate_dates)].sort_values('birthday').head()"
      ]
    },
    {
      "cell_type": "markdown",
      "metadata": {
        "id": "OH0Rp5xb3OH9"
      },
      "source": [
        "### Missing/Null values\n",
        "You can call `isnull()` and `sum()` to get a count of how many null values are there in each column."
      ]
    },
    {
      "cell_type": "code",
      "execution_count": null,
      "metadata": {
        "colab": {
          "base_uri": "https://localhost:8080/",
          "height": 362
        },
        "id": "27y9FBJG3MuR",
        "outputId": "677ab808-7f83-4e9c-d562-332b99f5b9f7"
      },
      "outputs": [],
      "source": [
        "df.isnull().sum()"
      ]
    },
    {
      "cell_type": "markdown",
      "metadata": {
        "id": "LGxOw60564XO"
      },
      "source": [
        "### Data Types of the Features\n",
        "It is important that the data values in each column have the correct data type. For example, you can expect a column containing numbers to be in numeric format, but sometimes you will find string values in it. In such a case, when you do numeric calculations on that column you might get unexpected results.\n",
        "\n",
        "The property `dtypes` will show you the data types for each column in the dataframe."
      ]
    },
    {
      "cell_type": "code",
      "execution_count": null,
      "metadata": {
        "colab": {
          "base_uri": "https://localhost:8080/",
          "height": 362
        },
        "id": "oy_gOccG656c",
        "outputId": "3fdb598a-3540-43f2-d2d7-02e37070de3f"
      },
      "outputs": [],
      "source": [
        "df.dtypes"
      ]
    },
    {
      "cell_type": "markdown",
      "metadata": {
        "id": "6id3Cc5A857W"
      },
      "source": [
        "You can notice that the column `issue_date` is in integer format (`int64`), whereas it should be in datetime format. In Pandas you can convert a column to datetime format using `to_datetime` method."
      ]
    },
    {
      "cell_type": "code",
      "execution_count": null,
      "metadata": {
        "colab": {
          "base_uri": "https://localhost:8080/",
          "height": 238
        },
        "id": "G5_uJ8Ua86nW",
        "outputId": "5e8e43e1-7ba6-4004-d5d3-446d8f81d399"
      },
      "outputs": [],
      "source": [
        "df['birthday'].head()"
      ]
    },
    {
      "cell_type": "code",
      "execution_count": null,
      "metadata": {
        "colab": {
          "base_uri": "https://localhost:8080/",
          "height": 292
        },
        "id": "_f5ix4CB8-sn",
        "outputId": "118fea11-2699-475f-a0d9-e557578aa89f"
      },
      "outputs": [],
      "source": [
        "# if you do not provide the format, the function may infer the wrong format\n",
        "pd.to_datetime(df['birthday']).head()"
      ]
    },
    {
      "cell_type": "code",
      "execution_count": null,
      "metadata": {
        "colab": {
          "base_uri": "https://localhost:8080/",
          "height": 238
        },
        "id": "ZdIwEsiX9kZj",
        "outputId": "7366039d-8242-491d-c2d7-1935fb891075"
      },
      "outputs": [],
      "source": [
        "df['birthday'] = pd.to_datetime(df['birthday'], format=\"%d-%m-%Y\")\n",
        "df['birthday'].head()"
      ]
    },
    {
      "cell_type": "markdown",
      "metadata": {
        "id": "F2AVjpBZ-ErR"
      },
      "source": [
        "### Dropping the columns you are not interested in\n",
        "Let's say we are only interested in users last names, their first name and their origin. So we are going to drop the rest of the columns.\n",
        "\n",
        "Note that many operations in Pandas can be done on a copy of the data or in-place (affecting the original data frame). You can use the parameter `inplace=True`.\n",
        "\n",
        "> Also note that in Pandas, axis 0 represents the rows while axis 1 represents the columns."
      ]
    },
    {
      "cell_type": "code",
      "execution_count": null,
      "metadata": {
        "colab": {
          "base_uri": "https://localhost:8080/",
          "height": 204
        },
        "id": "k1g_M2pLlCsJ",
        "outputId": "802bfc19-db89-49a7-ceae-0a1aa1f88b7a"
      },
      "outputs": [],
      "source": [
        "df.dropna().head()"
      ]
    },
    {
      "cell_type": "code",
      "execution_count": null,
      "metadata": {
        "colab": {
          "base_uri": "https://localhost:8080/",
          "height": 204
        },
        "id": "bGLiGurn-cRY",
        "outputId": "c867e619-84cc-4402-c21b-8b8fbcfca1ec"
      },
      "outputs": [],
      "source": [
        "columns_to_delete = ['UserID', 'birthday']\n",
        "df.drop(columns_to_delete, inplace=True, axis=1)\n",
        "df.head()"
      ]
    },
    {
      "cell_type": "markdown",
      "metadata": {
        "id": "ft28xhTS_2M_"
      },
      "source": [
        "You can also select the columns to keep instead of selecting the columns to delete"
      ]
    },
    {
      "cell_type": "code",
      "execution_count": null,
      "metadata": {
        "colab": {
          "base_uri": "https://localhost:8080/",
          "height": 204
        },
        "id": "nYgk-ozd_7IN",
        "outputId": "64ef8e88-81a7-431f-e5f6-608f13354978"
      },
      "outputs": [],
      "source": [
        "columns_to_keep = ['first_name', 'last_name', 'country']\n",
        "df = df[columns_to_keep]\n",
        "df.head()"
      ]
    },
    {
      "cell_type": "markdown",
      "metadata": {
        "id": "3omP7MUKJGIk"
      },
      "source": [
        "With the help of the value_counts() function you can see how many people in the dataset are from each country.\n",
        "You can also use it to find how many maried people we have per country."
      ]
    },
    {
      "cell_type": "code",
      "execution_count": null,
      "metadata": {
        "colab": {
          "base_uri": "https://localhost:8080/",
          "height": 269
        },
        "id": "RjlAyKbuJibj",
        "outputId": "1d5237b7-55e2-44fc-de9a-222fdd0b5dbb"
      },
      "outputs": [],
      "source": [
        "df = pd.read_csv(\"https://raw.githubusercontent.com/michalis0/DataScience_and_MachineLearning/refs/heads/master/Labs/01-review-pandas/data/user_records_lab.csv\")\n",
        "df[\"country\"].value_counts().sort_values(ascending = False).head()"
      ]
    },
    {
      "cell_type": "code",
      "execution_count": null,
      "metadata": {
        "colab": {
          "base_uri": "https://localhost:8080/",
          "height": 269
        },
        "id": "FfRvP4hvaC8Z",
        "outputId": "e04c78a3-5977-4de6-8607-332fab80c267"
      },
      "outputs": [],
      "source": [
        "df[df['marital_status'] == 1]['country'].value_counts().head()"
      ]
    },
    {
      "cell_type": "markdown",
      "metadata": {
        "id": "dZfWwEk2dQyk"
      },
      "source": [
        "You can also use the group by method to aggregate data depending on one category.\n",
        "\n",
        "We can use it to find the the average number of kids per country"
      ]
    },
    {
      "cell_type": "code",
      "execution_count": null,
      "metadata": {
        "colab": {
          "base_uri": "https://localhost:8080/",
          "height": 235
        },
        "id": "KqiRH021JqbF",
        "outputId": "1b46a781-a0ae-4edc-87a6-1f04a281dfa0"
      },
      "outputs": [],
      "source": [
        "df= df[['country', 'number_of_kids']]\n",
        "df = df.dropna()\n",
        "\n",
        "df = df.groupby('country').mean().sort_values('number_of_kids', ascending=False)\n",
        "df.head()"
      ]
    },
    {
      "cell_type": "markdown",
      "metadata": {
        "id": "ZZxIthH6NYQR"
      },
      "source": [
        "##Your turn !\n"
      ]
    },
    {
      "cell_type": "markdown",
      "metadata": {
        "id": "c_U_te7vNcnb"
      },
      "source": [
        "Now a small exercice so that you can practice what we have learned so far.\n",
        "Based on this [new dataset](https://raw.githubusercontent.com/michalis0/DataScience_and_MachineLearning/master/02-review-pandas/data/movie_data.csv), answer these questions:\n",
        "\n",
        "\n",
        "*   What is the shape of the dataset?\n",
        "*   What are the names of the columns ?\n",
        "*   Are there any duplicates ? If yes, which ones ?\n",
        "*   Are there any missing values ? If yes, which ones ?\n",
        "*   How many movies have a rating of 5 ? Create a list with the name of the movies\n",
        "\n"
      ]
    },
    {
      "cell_type": "code",
      "execution_count": null,
      "metadata": {
        "id": "AVrBMsB61Wmh"
      },
      "outputs": [],
      "source": []
    },
    {
      "cell_type": "markdown",
      "metadata": {
        "id": "KkWJBx21Cq41"
      },
      "source": [
        "#Operations with multiple datasets using pandas\n",
        "\n",
        "Sometimes data sets may come from different sources. In those cases you may need to merge datasets together.\n",
        "\n",
        "Let's assume two datasets, user data and flight records.\n",
        "\n",
        "The two data sets can be linked through the \"user_id\" column."
      ]
    },
    {
      "cell_type": "code",
      "execution_count": null,
      "metadata": {
        "colab": {
          "base_uri": "https://localhost:8080/",
          "height": 111
        },
        "id": "EL7JbTKQCqUR",
        "outputId": "a9866b76-4b19-4cf2-94ab-35a3bc7cc1b4"
      },
      "outputs": [],
      "source": [
        "#check the dataset with user data\n",
        "user_data = pd.read_csv(\"https://raw.githubusercontent.com/michalis0/DataScience_and_MachineLearning/refs/heads/master/Labs/01-review-pandas/data/user_records_lab.csv\")\n",
        "\n",
        "user_data = user_data[['UserID', 'first_name', 'last_name']]\n",
        "user_data.head(2)"
      ]
    },
    {
      "cell_type": "code",
      "execution_count": null,
      "metadata": {
        "colab": {
          "base_uri": "https://localhost:8080/",
          "height": 111
        },
        "id": "C8XXKKWVGa5_",
        "outputId": "4a05b1e9-dd89-467b-e9ec-640e6d498739"
      },
      "outputs": [],
      "source": [
        "#check the dataset with the flight records\n",
        "flight_records = pd.read_csv(\"https://raw.githubusercontent.com/michalis0/DataScience_and_MachineLearning/refs/heads/master/Labs/01-review-pandas/data/flight_records_lab.csv\")\n",
        "flight_records.head(2)"
      ]
    },
    {
      "cell_type": "markdown",
      "metadata": {
        "id": "Mp1SB0TPKoKM"
      },
      "source": [
        "[Merging](https://pandas.pydata.org/docs/user_guide/merging.html) the two datasets:"
      ]
    },
    {
      "cell_type": "code",
      "execution_count": null,
      "metadata": {
        "colab": {
          "base_uri": "https://localhost:8080/",
          "height": 111
        },
        "id": "SJbpo03uHBcW",
        "outputId": "89b66b74-c895-49d4-e4fc-fc50e4651628"
      },
      "outputs": [],
      "source": [
        "combined_dataset = pd.merge(flight_records, user_data, left_on=\"userID\", right_on='UserID', how=\"left\", sort=False)\n",
        "combined_dataset = combined_dataset.sort_values('date')\n",
        "\n",
        "combined_dataset.head(2)"
      ]
    },
    {
      "cell_type": "markdown",
      "metadata": {
        "id": "EmNRTgx2LnyW"
      },
      "source": [
        "Now we can find who traveled on a given date, for example on the 1st of december 2022"
      ]
    },
    {
      "cell_type": "code",
      "execution_count": null,
      "metadata": {
        "colab": {
          "base_uri": "https://localhost:8080/",
          "height": 80
        },
        "id": "38tF-z8HLndV",
        "outputId": "49ebebfd-7219-42aa-8e5f-cbd3071ba5ae"
      },
      "outputs": [],
      "source": [
        "combined_dataset[combined_dataset['date']=='01-12-2022']"
      ]
    },
    {
      "cell_type": "markdown",
      "metadata": {
        "id": "XYOqxVGCM972"
      },
      "source": [
        "We can also find the travels of all people who's first name is \"Nicolas\""
      ]
    },
    {
      "cell_type": "code",
      "execution_count": null,
      "metadata": {
        "colab": {
          "base_uri": "https://localhost:8080/",
          "height": 53
        },
        "id": "7QDP9fQUM-Wo",
        "outputId": "f966f45d-e4ce-4c53-9f6f-f8184adba338"
      },
      "outputs": [],
      "source": [
        "combined_dataset[combined_dataset['first_name']=='Nicolas'].head(3)"
      ]
    },
    {
      "cell_type": "markdown",
      "metadata": {
        "id": "s4fEuIS4VCHP"
      },
      "source": [
        "## Your turn !"
      ]
    },
    {
      "cell_type": "markdown",
      "metadata": {
        "id": "3ZZjkkedaePG"
      },
      "source": [
        "With the [netflix dataset](https://raw.githubusercontent.com/michalis0/DataScience_and_MachineLearning/master/02-review-pandas/data/netflix_data.csv), merge the two dataset on the movie's title and give the movie that has the best Netflic Score and a IMDB score over 4.5."
      ]
    },
    {
      "cell_type": "code",
      "execution_count": null,
      "metadata": {
        "id": "XB4Xva2xaa_D"
      },
      "outputs": [],
      "source": []
    },
    {
      "cell_type": "markdown",
      "metadata": {
        "id": "6nh27RK8cMJZ"
      },
      "source": [
        "#[Data visualisation ](https://pandas.pydata.org/docs/user_guide/visualization.html)\n",
        "\n",
        "Data can be hard to comprehend on it's own,\n",
        "Sometimes visualization tools can be helpfull to get a better sense of it."
      ]
    },
    {
      "cell_type": "markdown",
      "metadata": {
        "id": "5mX8w6H7c6ro"
      },
      "source": [
        "Let's first make a pie chart to visualise the sum of the children born in the top 5 most fertile countries"
      ]
    },
    {
      "cell_type": "code",
      "execution_count": null,
      "metadata": {
        "colab": {
          "base_uri": "https://localhost:8080/",
          "height": 499
        },
        "id": "5Muyk-xMc7h6",
        "outputId": "64386b64-09c2-446c-df0c-ca921182c66e"
      },
      "outputs": [],
      "source": [
        "df = pd.read_csv(\"https://raw.githubusercontent.com/michalis0/DataScience_and_MachineLearning/refs/heads/master/Labs/01-review-pandas/data/user_records_lab.csv\")\n",
        "df= df[['country', 'number_of_kids']]\n",
        "df = df.dropna()\n",
        "df = df.groupby('country').sum().sort_values('number_of_kids', ascending=False)\n",
        "df = df[0:6]\n",
        "series = pd.Series(df['number_of_kids'].to_list(), index=df.index.to_list())\n",
        "\n",
        "\n",
        "series.plot.pie(autopct=\"%.2f\",figsize=(6, 6));"
      ]
    },
    {
      "cell_type": "markdown",
      "metadata": {
        "id": "WBUy4QHHiWuO"
      },
      "source": [
        "##Boxplots are also usefull to compare data\n",
        "\n",
        "For the following exercise we will compare mobile data consumption per country"
      ]
    },
    {
      "cell_type": "markdown",
      "metadata": {
        "id": "uiKyLYwHcCJ-"
      },
      "source": [
        "Lets first combined the phone logs dataset with the antenna info dataset in order to link each antena to a country"
      ]
    },
    {
      "cell_type": "code",
      "execution_count": null,
      "metadata": {
        "colab": {
          "base_uri": "https://localhost:8080/",
          "height": 204
        },
        "id": "QDXQ5-86cR61",
        "outputId": "b5fbfad0-b083-40ef-f614-a8044123351a"
      },
      "outputs": [],
      "source": [
        "phone_logs = pd.read_csv(\"https://raw.githubusercontent.com/michalis0/DataScience_and_MachineLearning/refs/heads/master/Labs/01-review-pandas/data/all_phone_logs_lab.csv\")\n",
        "phone_logs.head()"
      ]
    },
    {
      "cell_type": "code",
      "execution_count": null,
      "metadata": {
        "colab": {
          "base_uri": "https://localhost:8080/",
          "height": 204
        },
        "id": "iaAAS_Ubccle",
        "outputId": "749cde1c-bdb4-4cff-dccb-2491ca9bcad8"
      },
      "outputs": [],
      "source": [
        "antenna_info = pd.read_csv(\"https://raw.githubusercontent.com/michalis0/DataScience_and_MachineLearning/refs/heads/master/Labs/01-review-pandas/data/antena_info_lab.csv\")\n",
        "antenna_info.head()"
      ]
    },
    {
      "cell_type": "code",
      "execution_count": null,
      "metadata": {
        "colab": {
          "base_uri": "https://localhost:8080/",
          "height": 182
        },
        "id": "2xU4gw37cOX6",
        "outputId": "60d15e94-61f2-4761-e84d-e5803d2827df"
      },
      "outputs": [],
      "source": [
        "combined_dataset = pd.merge(phone_logs, antenna_info, left_on=\"antenna_id\", right_on='antenna_id', how=\"left\", sort=False)\n",
        "combined_dataset = combined_dataset.sort_values('country')\n",
        "\n",
        "combined_dataset.head(2)"
      ]
    },
    {
      "cell_type": "code",
      "execution_count": null,
      "metadata": {
        "colab": {
          "base_uri": "https://localhost:8080/",
          "height": 235
        },
        "collapsed": true,
        "id": "fBRaUIuWdrR_",
        "outputId": "23557572-31c6-4058-bc37-13f0cf5927b5"
      },
      "outputs": [],
      "source": [
        "consumption_per_country = combined_dataset[['dandwith_used', 'country']]\n",
        "consumption_per_country = consumption_per_country.groupby('country').sum()\n",
        "consumption_per_country.head(5)"
      ]
    },
    {
      "cell_type": "code",
      "execution_count": null,
      "metadata": {
        "colab": {
          "base_uri": "https://localhost:8080/",
          "height": 447
        },
        "id": "JbugOuODe2rd",
        "outputId": "ca045b67-9a01-4bd5-c5df-4d311361f6bd"
      },
      "outputs": [],
      "source": [
        "consumption_per_country.plot.box()"
      ]
    },
    {
      "cell_type": "markdown",
      "metadata": {
        "id": "IcGc10KCfFL7"
      },
      "source": [
        "Let's now find the consumption per country per year, and then display it in boxplots"
      ]
    },
    {
      "cell_type": "code",
      "execution_count": null,
      "metadata": {
        "colab": {
          "base_uri": "https://localhost:8080/",
          "height": 495
        },
        "id": "fQDGqcsffcIe",
        "outputId": "949f9b19-3e05-419a-f944-7b4d94880699"
      },
      "outputs": [],
      "source": [
        "combined_dataset['date_and_time'] = pd.to_datetime(combined_dataset['date_and_time']).to_list()\n",
        "combined_dataset['year'] = list(map(lambda x: x.year,combined_dataset['date_and_time'].to_list()))\n",
        "\n",
        "\n",
        "consumption_per_country_per_year = combined_dataset[['dandwith_used', 'country', 'year']]\n",
        "consumption_per_country_per_year = consumption_per_country_per_year.groupby(['country', 'year']).sum()\n",
        "consumption_per_country_per_year.boxplot(by = 'year')"
      ]
    },
    {
      "cell_type": "code",
      "execution_count": null,
      "metadata": {
        "id": "m7Gqig5n2nxB"
      },
      "outputs": [],
      "source": []
    }
  ],
  "metadata": {
    "colab": {
      "provenance": [],
      "toc_visible": true
    },
    "kernelspec": {
      "display_name": "Python 3",
      "name": "python3"
    },
    "language_info": {
      "codemirror_mode": {
        "name": "ipython",
        "version": 3
      },
      "file_extension": ".py",
      "mimetype": "text/x-python",
      "name": "python",
      "nbconvert_exporter": "python",
      "pygments_lexer": "ipython3",
      "version": "3.9.6"
    }
  },
  "nbformat": 4,
  "nbformat_minor": 0
}
