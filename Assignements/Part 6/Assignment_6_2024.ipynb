{
 "cells": [
  {
   "cell_type": "markdown",
   "metadata": {},
   "source": [
    "<a href=\"https://colab.research.google.com/github/michalis0/DataScience_and_MachineLearning/blob/master/Assignements/Part%206/Assignment_6_2024.ipynb\" target=\"_parent\"><img src=\"https://colab.research.google.com/assets/colab-badge.svg\" alt=\"Open In Colab\"/></a>"
   ]
  },
  {
   "cell_type": "markdown",
   "metadata": {},
   "source": [
    "### DSML investigation\n",
    "\n",
    "You are part of the Suisse Impossible Mission Force, or SIMF for short. You need to uncover a rogue agent that is trying to steal sensitive information.\n",
    "\n",
    "Your mission, should you choose to accept it, is to find that agent before stealing any classified information. Good luck!"
   ]
  },
  {
   "cell_type": "markdown",
   "metadata": {},
   "source": [
    "# Assignment part Six\n",
    "\n",
    "### Mission Briefing\n",
    "\n",
    "Welcome back to the **SIMF (Swiss Impossible Mission Force)**. Your objective remains the same: find the rogue agent before sensitive information is compromised.\n",
    "\n",
    "Your investigation has narrowed down the suspects to three individuals. To assist you in tracking the rogue agent, SIMF has developed a new tool: the SIMF Signal Interceptor (M5Stack). This device is designed to connect to the suspects' IoT devices and retrieve critical data, such as the device IDs and IP addresses they are using. However, during its initial deployment, the Signal Interceptor appears to be malfunctioning.\n",
    "\n",
    "Your first mission is to repair the critical functions of this tool so it can help you identify and track the rogue agent.\n",
    "\n",
    "#### Suspects remaining:\n",
    "- **628854**\n",
    "- **410319**\n",
    "- **785994**\n",
    "\n",
    "#### Known Information About the Rogue Agent:\n",
    "- Age: 25-35 years old\n",
    "- Good credit mix\n",
    "- High position within a company\n",
    "- Main interests: Carbon, Energy, Climate, Emissions\n",
    "- The rogue agent is **not** from Switzerland.\n",
    "\n",
    "\n"
   ]
  },
  {
   "cell_type": "markdown",
   "metadata": {},
   "source": [
    "## 1. Fixing the SIMF Signal Interceptor\n",
    "\n",
    "### 1.1 Connect to the M5Stack:\n",
    "To restore the functionality of the Signal Interceptor, you will need to **repair the following two functions**:\n",
    "- `GetDeviceIDFromUserID()`\n",
    "- `getLogsFromDeviceID()`\n",
    "\n",
    "To acces to the M5Stack code, follow these steps:\n",
    "1. Connect to your M5Stack device through the **UIFlow platform** using this link: [https://flow.m5stack.com/](https://flow.m5stack.com/).\n",
    "2. Use the provided **source code** [here](https://github.com/michalis0/DataScience_and_MachineLearning/blob/master/Assignements/Part%206/Assignment_6_2024_micropython_code.py) to troubleshoot and repair the functions.\n",
    "\n",
    "*Note: You can copy paste the code of the file in the UiFlow interface in the python view*\n",
    "\n",
    "Once you’ve connected to the M5Stack, repair the functions and test them to ensure they work correctly."
   ]
  },
  {
   "cell_type": "markdown",
   "metadata": {},
   "source": [
    "### 1.2 Repair the broken code of `GetDeviceIDFromUserID()`\n",
    "\n",
    "#### Hints to Fix the Function:\n",
    "\n",
    "1. **Request Setup**:\n",
    "   - You’ll need to send a GET request to the correct API endpoint to retrieve the device ID. The endpoint to call is:\n",
    "https://europe-west6-monjoor.cloudfunctions.net/function-assignment-6/SIMF_UserIDToDeviceID\n",
    "\n",
    "   - The request should include the `userID` in the headers.\n",
    "\n",
    "\n",
    "2. **Response Handling**:\n",
    "   - Once you have the response from the API, think about how you can process the data. What method would help you convert the response into a format you can work with, and how would you extract the device ID from that data?\n",
    "\n",
    "3. **Testing**:\n",
    "   - As with the previous function, testing the API directly with `curl` can help you understand the data returned by the API. You could simulate a request to check the response format and structure.\n",
    "\n",
    "Helpful Documentation:\n",
    "- [MicroPython `urequests` documentation](https://makeblock-micropython-api.readthedocs.io/en/latest/public_library/Third-party-libraries/urequests.html)\n",
    "- [JSON handling in MicroPython (`json.loads`)](https://docs.micropython.org/en/latest/library/json.html#json.loads)\n",
    "- [How to Send GET Requests With cURL](https://oxylabs.io/blog/curl-get-requests)\n",
    "\n"
   ]
  },
  {
   "cell_type": "markdown",
   "metadata": {},
   "source": [
    "```python\n",
    "def GetDeviceIDFromUserID():\n",
    "  global userID, deviceID, deviceIDResponse\n",
    "  try:\n",
    "    req = \"TODO\"\n",
    "    deviceID = \"TODO\"\n",
    "    deviceIDResponse = \"TODO\"\n",
    "    gc.collect()\n",
    "    req.close()\n",
    "  except:\n",
    "    IDVisible.set_text('Error!')\n",
    "  return get_json_key(deviceIDResponse, 'deviceID')\n",
    "```"
   ]
  },
  {
   "cell_type": "markdown",
   "metadata": {},
   "source": [
    "Once you have successfully repaired the `GetDeviceIDFromUserID()` function and confirmed it works on the SIMF Signal Interceptor (M5Stack), please paste your fully functional code in the block provided below. Do not attempt to run it here—this is just for us to verify that you’ve completed the task correctly."
   ]
  },
  {
   "cell_type": "code",
   "execution_count": null,
   "metadata": {},
   "outputs": [],
   "source": [
    "# Your code here"
   ]
  },
  {
   "cell_type": "markdown",
   "metadata": {},
   "source": [
    "### 1.3 The broken code for the function `getLogsFromDeviceID()` :\n",
    "\n",
    "#### Hints to Fix the Function:\n",
    "\n",
    "1. **Request Setup**:\n",
    "   - This function also requires a GET request, but to retrieve the logs. The API endpoint to call is:\n",
    "   https://europe-west6-monjoor.cloudfunctions.net/function-assignment-6-2/SIMF\n",
    "   - You’ll need to send the `deviceID` in the headers.\n",
    "   - **Important Note**: The same variable is used to store the text value entered through the numerical numpad. Although the variable name might seem counterintuitive, it is the same one you’ll need to use in the header when calling the `GetDeviceIDFromUserID()` function.\n",
    "   \n",
    "2. **Response Handling**:\n",
    "   - Once you receive a response from the API, you’ll need to process the data. How can you take the raw response and turn it into something usable? What method could you use to extract the necessary information from a JSON response?\n",
    "\n",
    "3. **Testing**:\n",
    "   - Before finalizing your function, it may help to test the API directly and see what kind of data it returns. You could use `curl` to send requests and inspect the returned data format.\n",
    "\n",
    "Helpful Documentation:\n",
    "- [JSON handling in MicroPython (`json.loads`)](https://docs.micropython.org/en/latest/library/json.html#json.loads)\n",
    "- [MicroPython `urequests` documentation](https://makeblock-micropython-api.readthedocs.io/en/latest/public_library/Third-party-libraries/urequests.html)\n",
    "- [How to Send GET Requests With cURL](https://oxylabs.io/blog/curl-get-requests)\n"
   ]
  },
  {
   "cell_type": "markdown",
   "metadata": {},
   "source": [
    "```python\n",
    "def getLogsFromDeviceID():\n",
    "  global userID, deviceID, deviceIDResponse\n",
    "  try:\n",
    "    req = \"TODO\"\n",
    "    deviceID = \"TODO\"\n",
    "    deviceIDResponse = \"TODO\"\n",
    "    IPinfo.set_hidden(False)\n",
    "    IPinfo2.set_hidden(False)\n",
    "    IPinfo3.set_hidden(False)\n",
    "    gc.collect()\n",
    "    req.close()\n",
    "  except:\n",
    "    IDVisible.set_text('Fail')\n",
    "  return get_json_key(deviceIDResponse, 'ConnectedIP')\n",
    "```"
   ]
  },
  {
   "cell_type": "markdown",
   "metadata": {},
   "source": [
    "Once you have successfully repaired the `getLogsFromDeviceID()` function and confirmed it works on the SIMF Signal Interceptor (M5Stack), please paste your fully functional code in the block provided below. Do not attempt to run it here—this is just for us to verify that you’ve completed the task correctly."
   ]
  },
  {
   "cell_type": "code",
   "execution_count": null,
   "metadata": {},
   "outputs": [],
   "source": [
    "# Your code here"
   ]
  },
  {
   "cell_type": "markdown",
   "metadata": {},
   "source": [
    "\n",
    "\n",
    "### 1.4 Final Report: Document Your Findings\n",
    "\n",
    "Once you’ve repaired the SIMF Signal Interceptor and retrieved all the necessary data, it's time to compile your findings. Using the **SIMF Signal Interceptor**, you should have:\n",
    "\n",
    "- The `userID` for each suspect.\n",
    "- The corresponding `deviceID`.\n",
    "- The `ConnectedIP` associated with each device.\n",
    "- The **Country of Origin** for each IP address.\n",
    "\n",
    "\n",
    "Use the [IP Location](https://www.iplocation.net/ip-lookup) service to look up the country associated with each suspect’s IP address.\n",
    "\n",
    "Ensure to use \"IP2Location\" as provider!\n",
    "\n",
    "*Note: Remember, the rogue agent is **not from Switzerland**.*\n",
    "\n",
    "Write down your findings in the following format:\n",
    "\n",
    "```\n",
    "userID | DeviceID | IPconnected | Country_of_IP\n",
    "123456 | 123456 | 8.8.8.8 | United States\n",
    "```"
   ]
  },
  {
   "cell_type": "code",
   "execution_count": null,
   "metadata": {
    "vscode": {
     "languageId": "latex"
    }
   },
   "outputs": [],
   "source": [
    "userID | DeviceID | IPconnected | Country_of_IP"
   ]
  },
  {
   "cell_type": "markdown",
   "metadata": {},
   "source": [
    "**Q1. What is the deviceID associated with the userID 628854?**\n",
    "\n",
    "*Note: Select the correct `deviceID` from the options below.*"
   ]
  },
  {
   "cell_type": "markdown",
   "metadata": {},
   "source": [
    "**Q2. What key information is returned in the JSON response from this API call: `https://europe-west6-monjoor.cloudfunctions.net/function-assignment-6-2/SIMF`?**\n",
    "\n",
    "*Note: Select from the following options.*"
   ]
  },
  {
   "cell_type": "markdown",
   "metadata": {},
   "source": [
    "**Q3. Based on your investigation, which of the following suspects is the rogue agent?**\n",
    "\n",
    "*Note: Enter the 6-digit userID of the rogue agent (e.g., 123456).*"
   ]
  },
  {
   "cell_type": "markdown",
   "metadata": {},
   "source": [
    "\n",
    "**Q4. From which country is the rogue agent operating?**\n",
    "\n",
    "*Note: Choose from the options provided below.*"
   ]
  },
  {
   "cell_type": "markdown",
   "metadata": {},
   "source": [
    "## Your investigation is complete. The SIMF task force extends their deepest gratitude for your unwavering dedication and service.\n",
    "\n",
    "**Remember to complete the quiz and submit your code (this notebook not the m5stack code) on Moodle before the deadline. Your mission isn’t over until all tasks are finished!**"
   ]
  }
 ],
 "metadata": {
  "language_info": {
   "name": "python"
  }
 },
 "nbformat": 4,
 "nbformat_minor": 2
}
