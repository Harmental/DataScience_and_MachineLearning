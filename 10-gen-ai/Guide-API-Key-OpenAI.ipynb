{
 "cells": [
  {
   "cell_type": "markdown",
   "metadata": {},
   "source": [
    "## Procedure to Create an OpenAI API Key\n",
    "\n",
    "**Step 1: Go to the OpenAI Website**\n",
    "1. Open your web browser and go to [https://platform.openai.com](https://platform.openai.com).\n",
    "\n",
    "**Step 2: Log In or Sign Up**\n",
    "1. If you already have an OpenAI account, click on **Log In** in the top-right corner and enter your credentials.\n",
    "2. If you don’t have an account, click on **Sign Up** and follow the instructions to create a new account.\n",
    "\n",
    "<img src='./data/images/1.png' width=\"700\">\n",
    "\n",
    "**Step 3: Add Billing Information**\n",
    "1. Once logged in, click on the settings icon top-right corner.\n",
    "2. In the drop-down menue, click on **Your profile**.\n",
    "3. In the sidebar, click on **Billing**.\n",
    "4. Finally click on **Add payment detail**, add your payment details and save them to complete the billing setup. This step is necessary to use OpenAI's API beyond the free usage limits.\n",
    "\n",
    "<img src='./data/images/2.png' width=\"700\">\n",
    "\n",
    "**Step 4: Create an API Key**\n",
    "1. In the sidebar, click on **API Keys** (you may also see **View API Keys** in some cases).\n",
    "2. Click on the **+ Create new secret key** button.\n",
    "3. Give your API key a name if prompted, and then click **Create secret key** to generate the key.\n",
    "\n",
    "<img src='./data/images/3.png' width=\"700\">\n",
    "\n",
    "**Step 5: Save Your API Key**\n",
    "1. Copy the generated API key and store it in a secure location (such as a password manager).\n",
    "   - Note: For security reasons, you won’t be able to view the full key again after leaving this page, so ensure you have saved it.\n",
    "\n",
    "**Step 6: Use Your API Key**\n",
    "1. You can now use this API key in your applications to authenticate requests to OpenAI’s API.\n",
    "2. Be careful not to share your API key publicly, as it grants access to your OpenAI account."
   ]
  }
 ],
 "metadata": {
  "language_info": {
   "name": "python"
  }
 },
 "nbformat": 4,
 "nbformat_minor": 2
}
